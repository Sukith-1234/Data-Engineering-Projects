{
 "cells": [
  {
   "cell_type": "code",
   "execution_count": 45,
   "metadata": {
    "application/vnd.databricks.v1+cell": {
     "inputWidgets": {},
     "nuid": "8bc37a2a-b78d-4bd1-b8ba-edf58049a68d",
     "showTitle": false,
     "title": "Import required Libraries"
    }
   },
   "outputs": [],
   "source": [
    "# Import required Libraries\n",
    "import numpy as np\n",
    "import pandas as pd\n",
    "import matplotlib.pyplot as plt\n",
    "import seaborn as sns\n",
    "from scipy.stats import chi2_contingency\n",
    "from kmodes.kmodes import KModes\n",
    "import sqlite3\n",
    "import pyodbc\n"
   ]
  },
  {
   "cell_type": "markdown",
   "metadata": {
    "application/vnd.databricks.v1+cell": {
     "inputWidgets": {},
     "nuid": "42479f97-516f-4f83-91a7-5a39df109e5d",
     "showTitle": false,
     "title": ""
    }
   },
   "source": [
    "Establish the connection between Azure SQL Database and DataBricks (Python Enviorenment)\n",
    "\n",
    "Below code use to connect SQL to Databricks only"
   ]
  },
  {
   "cell_type": "code",
   "execution_count": 0,
   "metadata": {
    "application/vnd.databricks.v1+cell": {
     "inputWidgets": {},
     "nuid": "8bc2bddd-1ec0-48e8-9a81-2f41cef198c8",
     "showTitle": false,
     "title": ""
    }
   },
   "outputs": [
    {
     "data": {
      "text/html": [
       "<style scoped>\n",
       "  .ansiout {\n",
       "    display: block;\n",
       "    unicode-bidi: embed;\n",
       "    white-space: pre-wrap;\n",
       "    word-wrap: break-word;\n",
       "    word-break: break-all;\n",
       "    font-family: \"Source Code Pro\", \"Menlo\", monospace;;\n",
       "    font-size: 13px;\n",
       "    color: #555;\n",
       "    margin-left: 4px;\n",
       "    line-height: 19px;\n",
       "  }\n",
       "</style>\n",
       "<div class=\"ansiout\"></div>"
      ]
     },
     "metadata": {
      "application/vnd.databricks.v1+output": {
       "addedWidgets": {},
       "arguments": {},
       "data": "<div class=\"ansiout\"></div>",
       "datasetInfos": [],
       "metadata": {},
       "removedWidgets": [],
       "type": "html"
      }
     },
     "output_type": "display_data"
    }
   ],
   "source": [
    "connectionString=\"jdbc:sqlserver://SERVER NAME;database=DATABASE NAME;user=USER NAME;password={PASSWORD};encrypt=true;trustServerCertificate=false;hostNameInCertificate=*.database.windows.net;loginTimeout=30;\""
   ]
  },
  {
   "cell_type": "code",
   "execution_count": null,
   "metadata": {},
   "outputs": [],
   "source": [
    "#Fetch the data from Azure SQL Databse to the Python Enviorenment and convert the data to Data Frame using Pandas Librarey\n",
    "data=spark.read.jdbc(connectionString,\"TABLE NAME\")\n",
    "df=data.select(\"*\").toPandas()\n",
    "df\n"
   ]
  },
  {
   "cell_type": "markdown",
   "metadata": {},
   "source": [
    "If you are use direct connection SQL to Python you need to follow below procedure"
   ]
  },
  {
   "cell_type": "code",
   "execution_count": 71,
   "metadata": {},
   "outputs": [],
   "source": [
    "#Import pyodbc library and create connection with SQL and Python using below code and inser Server name,database  name,user name & password\n",
    "\n",
    "import pyodbc\n",
    "connect=pyodbc.connect(\n",
    "    \n",
    "    \"Driver={ODBC Driver 17 for SQL Server};\"\n",
    "    \"Server=SERVER NAME;\"\n",
    "    \"Database=DATABASE NAME;\"\n",
    "    \"Uid=USER NAME;\"\n",
    "    \"Pwd={PASSWORD};\"\n",
    "    \"Encrypt=yes;\"\n",
    "    \"TrustServerCertificate=yes;\"\n",
    "    \"Connection Timeout=30;\"\n",
    "    \n",
    ")\n",
    "\n"
   ]
  },
  {
   "cell_type": "code",
   "execution_count": 72,
   "metadata": {},
   "outputs": [],
   "source": [
    "#Direct Azure SQL to Python SQL Query to fetch all the data\n",
    "\n",
    "sql_query= \"\"\"\n",
    "SELECT * FROM dbo.UserCSV\n",
    "\"\"\""
   ]
  },
  {
   "cell_type": "code",
   "execution_count": 76,
   "metadata": {},
   "outputs": [
    {
     "data": {
      "text/html": [
       "<div>\n",
       "<style scoped>\n",
       "    .dataframe tbody tr th:only-of-type {\n",
       "        vertical-align: middle;\n",
       "    }\n",
       "\n",
       "    .dataframe tbody tr th {\n",
       "        vertical-align: top;\n",
       "    }\n",
       "\n",
       "    .dataframe thead th {\n",
       "        text-align: right;\n",
       "    }\n",
       "</style>\n",
       "<table border=\"1\" class=\"dataframe\">\n",
       "  <thead>\n",
       "    <tr style=\"text-align: right;\">\n",
       "      <th></th>\n",
       "      <th>id</th>\n",
       "      <th>user_id</th>\n",
       "      <th>uid</th>\n",
       "      <th>Password_n</th>\n",
       "      <th>FirstName</th>\n",
       "      <th>LastName</th>\n",
       "      <th>username</th>\n",
       "      <th>email</th>\n",
       "      <th>avatar</th>\n",
       "      <th>gender</th>\n",
       "      <th>...</th>\n",
       "      <th>address_street_name</th>\n",
       "      <th>address_street_address</th>\n",
       "      <th>address_zip_code</th>\n",
       "      <th>StateName</th>\n",
       "      <th>Country</th>\n",
       "      <th>creditcard_cc_number</th>\n",
       "      <th>subscription_plan</th>\n",
       "      <th>subscription_status</th>\n",
       "      <th>subscription_payment_method</th>\n",
       "      <th>subscription_term</th>\n",
       "    </tr>\n",
       "  </thead>\n",
       "  <tbody>\n",
       "    <tr>\n",
       "      <th>0</th>\n",
       "      <td>1</td>\n",
       "      <td>8950</td>\n",
       "      <td>e66c4425-f25e-438c-90ac-8192c593343b</td>\n",
       "      <td>4EJkXV3Lyo</td>\n",
       "      <td>Waneta</td>\n",
       "      <td>Kiehn</td>\n",
       "      <td>waneta.kiehn</td>\n",
       "      <td>waneta.kiehn@email.com</td>\n",
       "      <td>https://robohash.org/velitmolestiaeest.png?siz...</td>\n",
       "      <td>Non-binary</td>\n",
       "      <td>...</td>\n",
       "      <td>Renda Circle</td>\n",
       "      <td>134 Dennis Radial</td>\n",
       "      <td>93142</td>\n",
       "      <td>Florida</td>\n",
       "      <td>United States</td>\n",
       "      <td>4.94425E+12</td>\n",
       "      <td>Premium</td>\n",
       "      <td>Blocked</td>\n",
       "      <td>WeChat Pay</td>\n",
       "      <td>Full subscription</td>\n",
       "    </tr>\n",
       "    <tr>\n",
       "      <th>1</th>\n",
       "      <td>2</td>\n",
       "      <td>5940</td>\n",
       "      <td>2a5dcdc1-522c-47a2-b7cd-b8481c40ed14</td>\n",
       "      <td>r9JaTV4Dv2</td>\n",
       "      <td>Karl</td>\n",
       "      <td>Auer</td>\n",
       "      <td>karl.auer</td>\n",
       "      <td>karl.auer@email.com</td>\n",
       "      <td>https://robohash.org/officiisperferendisnisi.p...</td>\n",
       "      <td>Female</td>\n",
       "      <td>...</td>\n",
       "      <td>Keebler Meadow</td>\n",
       "      <td>8046 Melvin Plain</td>\n",
       "      <td>18677</td>\n",
       "      <td>North Dakota</td>\n",
       "      <td>United States</td>\n",
       "      <td>6771-8920-5567-5114</td>\n",
       "      <td>Gold</td>\n",
       "      <td>Blocked</td>\n",
       "      <td>Money transfer</td>\n",
       "      <td>Monthly</td>\n",
       "    </tr>\n",
       "    <tr>\n",
       "      <th>2</th>\n",
       "      <td>3</td>\n",
       "      <td>4375</td>\n",
       "      <td>78af2b17-09dc-409b-9fe9-8f2a1b82360f</td>\n",
       "      <td>zS1HXfJDWl</td>\n",
       "      <td>Rob</td>\n",
       "      <td>Leannon</td>\n",
       "      <td>rob.leannon</td>\n",
       "      <td>rob.leannon@email.com</td>\n",
       "      <td>https://robohash.org/maximequaeest.png?size=30...</td>\n",
       "      <td>Polygender</td>\n",
       "      <td>...</td>\n",
       "      <td>Devin Springs</td>\n",
       "      <td>4528 Digna Plains</td>\n",
       "      <td>25476</td>\n",
       "      <td>Tennessee</td>\n",
       "      <td>United States</td>\n",
       "      <td>4829-2918-7445-7407</td>\n",
       "      <td>Starter</td>\n",
       "      <td>Pending</td>\n",
       "      <td>Credit card</td>\n",
       "      <td>Full subscription</td>\n",
       "    </tr>\n",
       "    <tr>\n",
       "      <th>3</th>\n",
       "      <td>4</td>\n",
       "      <td>6442</td>\n",
       "      <td>958130ec-d5ef-4585-b625-16ab7bc17426</td>\n",
       "      <td>D8KMkW2CZN</td>\n",
       "      <td>Iva</td>\n",
       "      <td>Runte</td>\n",
       "      <td>iva.runte</td>\n",
       "      <td>iva.runte@email.com</td>\n",
       "      <td>https://robohash.org/similiquequasiqui.png?siz...</td>\n",
       "      <td>Genderfluid</td>\n",
       "      <td>...</td>\n",
       "      <td>Eliana Junctions</td>\n",
       "      <td>667 Ritchie Squares</td>\n",
       "      <td>3036</td>\n",
       "      <td>California</td>\n",
       "      <td>United States</td>\n",
       "      <td>4.21766E+12</td>\n",
       "      <td>Free Trial</td>\n",
       "      <td>Pending</td>\n",
       "      <td>Bitcoins</td>\n",
       "      <td>Annual</td>\n",
       "    </tr>\n",
       "    <tr>\n",
       "      <th>4</th>\n",
       "      <td>5</td>\n",
       "      <td>9694</td>\n",
       "      <td>7bcfeee5-b10f-45d7-a4ea-63bf36c9dd58</td>\n",
       "      <td>cd04AnGLzZ</td>\n",
       "      <td>Luetta</td>\n",
       "      <td>Brekke</td>\n",
       "      <td>luetta.brekke</td>\n",
       "      <td>luetta.brekke@email.com</td>\n",
       "      <td>https://robohash.org/corruptisaepeofficiis.png...</td>\n",
       "      <td>Bigender</td>\n",
       "      <td>...</td>\n",
       "      <td>Romeo Rapid</td>\n",
       "      <td>796 Olson Trail</td>\n",
       "      <td>27179</td>\n",
       "      <td>New Jersey</td>\n",
       "      <td>United States</td>\n",
       "      <td>4765-7740-5544-1635</td>\n",
       "      <td>Bronze</td>\n",
       "      <td>Pending</td>\n",
       "      <td>Paypal</td>\n",
       "      <td>Annual</td>\n",
       "    </tr>\n",
       "    <tr>\n",
       "      <th>...</th>\n",
       "      <td>...</td>\n",
       "      <td>...</td>\n",
       "      <td>...</td>\n",
       "      <td>...</td>\n",
       "      <td>...</td>\n",
       "      <td>...</td>\n",
       "      <td>...</td>\n",
       "      <td>...</td>\n",
       "      <td>...</td>\n",
       "      <td>...</td>\n",
       "      <td>...</td>\n",
       "      <td>...</td>\n",
       "      <td>...</td>\n",
       "      <td>...</td>\n",
       "      <td>...</td>\n",
       "      <td>...</td>\n",
       "      <td>...</td>\n",
       "      <td>...</td>\n",
       "      <td>...</td>\n",
       "      <td>...</td>\n",
       "      <td>...</td>\n",
       "    </tr>\n",
       "    <tr>\n",
       "      <th>1049</th>\n",
       "      <td>1050</td>\n",
       "      <td>5514</td>\n",
       "      <td>990bebe5-180e-402f-b3ac-3e8a896a089f</td>\n",
       "      <td>rLjBNu87dH</td>\n",
       "      <td>Chuck</td>\n",
       "      <td>Renner</td>\n",
       "      <td>chuck.renner</td>\n",
       "      <td>chuck.renner@email.com</td>\n",
       "      <td>https://robohash.org/eumperferendisiusto.png?s...</td>\n",
       "      <td>Non-binary</td>\n",
       "      <td>...</td>\n",
       "      <td>Ashleigh Shore</td>\n",
       "      <td>26749 Toy Union</td>\n",
       "      <td>95644-1044</td>\n",
       "      <td>New Hampshire</td>\n",
       "      <td>United States</td>\n",
       "      <td>5242-0576-2396-4050</td>\n",
       "      <td>Gold</td>\n",
       "      <td>Active</td>\n",
       "      <td>Debit card</td>\n",
       "      <td>Annual</td>\n",
       "    </tr>\n",
       "    <tr>\n",
       "      <th>1050</th>\n",
       "      <td>1051</td>\n",
       "      <td>8262</td>\n",
       "      <td>0a13abdc-5700-4056-b552-8aa46f343ade</td>\n",
       "      <td>37GfulBzSh</td>\n",
       "      <td>Gennie</td>\n",
       "      <td>Wyman</td>\n",
       "      <td>gennie.wyman</td>\n",
       "      <td>gennie.wyman@email.com</td>\n",
       "      <td>https://robohash.org/etvoluptatibusin.png?size...</td>\n",
       "      <td>Genderfluid</td>\n",
       "      <td>...</td>\n",
       "      <td>Pfannerstill Neck</td>\n",
       "      <td>7184 Angelo Fall</td>\n",
       "      <td>60930-5952</td>\n",
       "      <td>Washington</td>\n",
       "      <td>United States</td>\n",
       "      <td>4.46838E+12</td>\n",
       "      <td>Gold</td>\n",
       "      <td>Idle</td>\n",
       "      <td>Cheque</td>\n",
       "      <td>Payment in advance</td>\n",
       "    </tr>\n",
       "    <tr>\n",
       "      <th>1051</th>\n",
       "      <td>1052</td>\n",
       "      <td>6796</td>\n",
       "      <td>547b20cb-f2c5-4d71-9d14-4d615ee8f19f</td>\n",
       "      <td>9wmSflhML0</td>\n",
       "      <td>Ian</td>\n",
       "      <td>Daugherty</td>\n",
       "      <td>ian.daugherty</td>\n",
       "      <td>ian.daugherty@email.com</td>\n",
       "      <td>https://robohash.org/adipiscifacerequae.png?si...</td>\n",
       "      <td>Polygender</td>\n",
       "      <td>...</td>\n",
       "      <td>Dung Locks</td>\n",
       "      <td>6072 Towne Key</td>\n",
       "      <td>58530</td>\n",
       "      <td>Kansas</td>\n",
       "      <td>United States</td>\n",
       "      <td>6771-8934-1346-4514</td>\n",
       "      <td>Professional</td>\n",
       "      <td>Active</td>\n",
       "      <td>Apple Pay</td>\n",
       "      <td>Monthly</td>\n",
       "    </tr>\n",
       "    <tr>\n",
       "      <th>1052</th>\n",
       "      <td>1053</td>\n",
       "      <td>9365</td>\n",
       "      <td>78552c44-2cbc-4d6d-9e58-f3a35ea4b1de</td>\n",
       "      <td>5XjucCLl6T</td>\n",
       "      <td>Gregory</td>\n",
       "      <td>Rogahn</td>\n",
       "      <td>gregory.rogahn</td>\n",
       "      <td>gregory.rogahn@email.com</td>\n",
       "      <td>https://robohash.org/quaeetomnis.png?size=300x...</td>\n",
       "      <td>Agender</td>\n",
       "      <td>...</td>\n",
       "      <td>Morissette Grove</td>\n",
       "      <td>974 Stevie Dam</td>\n",
       "      <td>62045</td>\n",
       "      <td>New Hampshire</td>\n",
       "      <td>United States</td>\n",
       "      <td>5395-0615-5448-6567</td>\n",
       "      <td>Business</td>\n",
       "      <td>Idle</td>\n",
       "      <td>Bitcoins</td>\n",
       "      <td>Annual</td>\n",
       "    </tr>\n",
       "    <tr>\n",
       "      <th>1053</th>\n",
       "      <td>1054</td>\n",
       "      <td>9770</td>\n",
       "      <td>631bd749-0e13-490a-94ff-c67565f10ade</td>\n",
       "      <td>1whFDGKUXL</td>\n",
       "      <td>Edmond</td>\n",
       "      <td>Schumm</td>\n",
       "      <td>edmond.schumm</td>\n",
       "      <td>edmond.schumm@email.com</td>\n",
       "      <td>https://robohash.org/ducimusinerror.png?size=3...</td>\n",
       "      <td>Male</td>\n",
       "      <td>...</td>\n",
       "      <td>Harrison Fork</td>\n",
       "      <td>66230 Hartmann Plaza</td>\n",
       "      <td>41777</td>\n",
       "      <td>Alaska</td>\n",
       "      <td>United States</td>\n",
       "      <td>4124-8746-3205-8047</td>\n",
       "      <td>Essential</td>\n",
       "      <td>Pending</td>\n",
       "      <td>Cash</td>\n",
       "      <td>Payment in advance</td>\n",
       "    </tr>\n",
       "  </tbody>\n",
       "</table>\n",
       "<p>1054 rows × 26 columns</p>\n",
       "</div>"
      ],
      "text/plain": [
       "        id  user_id                                   uid  Password_n  \\\n",
       "0        1     8950  e66c4425-f25e-438c-90ac-8192c593343b  4EJkXV3Lyo   \n",
       "1        2     5940  2a5dcdc1-522c-47a2-b7cd-b8481c40ed14  r9JaTV4Dv2   \n",
       "2        3     4375  78af2b17-09dc-409b-9fe9-8f2a1b82360f  zS1HXfJDWl   \n",
       "3        4     6442  958130ec-d5ef-4585-b625-16ab7bc17426  D8KMkW2CZN   \n",
       "4        5     9694  7bcfeee5-b10f-45d7-a4ea-63bf36c9dd58  cd04AnGLzZ   \n",
       "...    ...      ...                                   ...         ...   \n",
       "1049  1050     5514  990bebe5-180e-402f-b3ac-3e8a896a089f  rLjBNu87dH   \n",
       "1050  1051     8262  0a13abdc-5700-4056-b552-8aa46f343ade  37GfulBzSh   \n",
       "1051  1052     6796  547b20cb-f2c5-4d71-9d14-4d615ee8f19f  9wmSflhML0   \n",
       "1052  1053     9365  78552c44-2cbc-4d6d-9e58-f3a35ea4b1de  5XjucCLl6T   \n",
       "1053  1054     9770  631bd749-0e13-490a-94ff-c67565f10ade  1whFDGKUXL   \n",
       "\n",
       "     FirstName   LastName        username                     email  \\\n",
       "0       Waneta      Kiehn    waneta.kiehn    waneta.kiehn@email.com   \n",
       "1         Karl       Auer       karl.auer       karl.auer@email.com   \n",
       "2          Rob    Leannon     rob.leannon     rob.leannon@email.com   \n",
       "3          Iva      Runte       iva.runte       iva.runte@email.com   \n",
       "4       Luetta     Brekke   luetta.brekke   luetta.brekke@email.com   \n",
       "...        ...        ...             ...                       ...   \n",
       "1049     Chuck     Renner    chuck.renner    chuck.renner@email.com   \n",
       "1050    Gennie      Wyman    gennie.wyman    gennie.wyman@email.com   \n",
       "1051       Ian  Daugherty   ian.daugherty   ian.daugherty@email.com   \n",
       "1052   Gregory     Rogahn  gregory.rogahn  gregory.rogahn@email.com   \n",
       "1053    Edmond     Schumm   edmond.schumm   edmond.schumm@email.com   \n",
       "\n",
       "                                                 avatar       gender  ...  \\\n",
       "0     https://robohash.org/velitmolestiaeest.png?siz...   Non-binary  ...   \n",
       "1     https://robohash.org/officiisperferendisnisi.p...       Female  ...   \n",
       "2     https://robohash.org/maximequaeest.png?size=30...   Polygender  ...   \n",
       "3     https://robohash.org/similiquequasiqui.png?siz...  Genderfluid  ...   \n",
       "4     https://robohash.org/corruptisaepeofficiis.png...     Bigender  ...   \n",
       "...                                                 ...          ...  ...   \n",
       "1049  https://robohash.org/eumperferendisiusto.png?s...   Non-binary  ...   \n",
       "1050  https://robohash.org/etvoluptatibusin.png?size...  Genderfluid  ...   \n",
       "1051  https://robohash.org/adipiscifacerequae.png?si...   Polygender  ...   \n",
       "1052  https://robohash.org/quaeetomnis.png?size=300x...      Agender  ...   \n",
       "1053  https://robohash.org/ducimusinerror.png?size=3...         Male  ...   \n",
       "\n",
       "     address_street_name address_street_address address_zip_code  \\\n",
       "0           Renda Circle      134 Dennis Radial            93142   \n",
       "1         Keebler Meadow      8046 Melvin Plain            18677   \n",
       "2          Devin Springs      4528 Digna Plains            25476   \n",
       "3       Eliana Junctions    667 Ritchie Squares             3036   \n",
       "4            Romeo Rapid        796 Olson Trail            27179   \n",
       "...                  ...                    ...              ...   \n",
       "1049      Ashleigh Shore        26749 Toy Union       95644-1044   \n",
       "1050   Pfannerstill Neck       7184 Angelo Fall       60930-5952   \n",
       "1051          Dung Locks         6072 Towne Key            58530   \n",
       "1052    Morissette Grove         974 Stevie Dam            62045   \n",
       "1053       Harrison Fork   66230 Hartmann Plaza            41777   \n",
       "\n",
       "          StateName        Country creditcard_cc_number subscription_plan  \\\n",
       "0           Florida  United States          4.94425E+12           Premium   \n",
       "1      North Dakota  United States  6771-8920-5567-5114              Gold   \n",
       "2         Tennessee  United States  4829-2918-7445-7407           Starter   \n",
       "3        California  United States          4.21766E+12        Free Trial   \n",
       "4        New Jersey  United States  4765-7740-5544-1635            Bronze   \n",
       "...             ...            ...                  ...               ...   \n",
       "1049  New Hampshire  United States  5242-0576-2396-4050              Gold   \n",
       "1050     Washington  United States          4.46838E+12              Gold   \n",
       "1051         Kansas  United States  6771-8934-1346-4514      Professional   \n",
       "1052  New Hampshire  United States  5395-0615-5448-6567          Business   \n",
       "1053         Alaska  United States  4124-8746-3205-8047         Essential   \n",
       "\n",
       "     subscription_status subscription_payment_method   subscription_term  \n",
       "0                Blocked                  WeChat Pay   Full subscription  \n",
       "1                Blocked              Money transfer             Monthly  \n",
       "2                Pending                 Credit card   Full subscription  \n",
       "3                Pending                    Bitcoins              Annual  \n",
       "4                Pending                      Paypal              Annual  \n",
       "...                  ...                         ...                 ...  \n",
       "1049              Active                  Debit card              Annual  \n",
       "1050                Idle                      Cheque  Payment in advance  \n",
       "1051              Active                   Apple Pay             Monthly  \n",
       "1052                Idle                    Bitcoins              Annual  \n",
       "1053             Pending                        Cash  Payment in advance  \n",
       "\n",
       "[1054 rows x 26 columns]"
      ]
     },
     "execution_count": 76,
     "metadata": {},
     "output_type": "execute_result"
    }
   ],
   "source": [
    "# convert SQL data to Pandas data frame\n",
    "\n",
    "dfdirect=pd.read_sql(sql_query,connect)\n",
    "dfdirect"
   ]
  },
  {
   "cell_type": "markdown",
   "metadata": {
    "application/vnd.databricks.v1+cell": {
     "inputWidgets": {},
     "nuid": "b32954ad-ecd3-4be1-9f89-bcedea3e8831",
     "showTitle": false,
     "title": ""
    }
   },
   "source": [
    "In the data set all of the important data are categorical data such as gender,employee skill,employee skill,subscription plan,statu,payment method,term etc."
   ]
  },
  {
   "cell_type": "code",
   "execution_count": 0,
   "metadata": {
    "application/vnd.databricks.v1+cell": {
     "inputWidgets": {},
     "nuid": "e91eb251-f7e6-4a09-9382-b7a042fcc79d",
     "showTitle": false,
     "title": ""
    }
   },
   "outputs": [
    {
     "data": {
      "text/html": [
       "<style scoped>\n",
       "  .ansiout {\n",
       "    display: block;\n",
       "    unicode-bidi: embed;\n",
       "    white-space: pre-wrap;\n",
       "    word-wrap: break-word;\n",
       "    word-break: break-all;\n",
       "    font-family: \"Source Code Pro\", \"Menlo\", monospace;;\n",
       "    font-size: 13px;\n",
       "    color: #555;\n",
       "    margin-left: 4px;\n",
       "    line-height: 19px;\n",
       "  }\n",
       "</style>\n",
       "<div class=\"ansiout\">(1054, 26)\n",
       "</div>"
      ]
     },
     "metadata": {
      "application/vnd.databricks.v1+output": {
       "addedWidgets": {},
       "arguments": {},
       "data": "<div class=\"ansiout\">(1054, 26)\n</div>",
       "datasetInfos": [],
       "metadata": {},
       "removedWidgets": [],
       "type": "html"
      }
     },
     "output_type": "display_data"
    }
   ],
   "source": [
    "# check the shape of the dataset\n",
    "print(df.shape)"
   ]
  },
  {
   "cell_type": "markdown",
   "metadata": {
    "application/vnd.databricks.v1+cell": {
     "inputWidgets": {},
     "nuid": "2e167c8f-6449-4ed8-80a4-b1b80a85f6e5",
     "showTitle": false,
     "title": ""
    }
   },
   "source": [
    "Solutions for Part 2-Q1 & Q2"
   ]
  },
  {
   "cell_type": "markdown",
   "metadata": {
    "application/vnd.databricks.v1+cell": {
     "inputWidgets": {},
     "nuid": "c1116125-99f3-4a91-b73a-559d7842a9fd",
     "showTitle": false,
     "title": ""
    }
   },
   "source": [
    "Plot the histogram to check the Gender distribution\n",
    "\n",
    "    According to the output Highest number of Users are Males and Lowest gender type is Genderfluid"
   ]
  },
  {
   "cell_type": "code",
   "execution_count": 0,
   "metadata": {
    "application/vnd.databricks.v1+cell": {
     "inputWidgets": {},
     "nuid": "32ef033d-5e64-4f5b-af8d-d1dad1fa89c6",
     "showTitle": false,
     "title": ""
    }
   },
   "outputs": [
    {
     "data": {
      "text/html": [
       "<style scoped>\n",
       "  .ansiout {\n",
       "    display: block;\n",
       "    unicode-bidi: embed;\n",
       "    white-space: pre-wrap;\n",
       "    word-wrap: break-word;\n",
       "    word-break: break-all;\n",
       "    font-family: \"Source Code Pro\", \"Menlo\", monospace;;\n",
       "    font-size: 13px;\n",
       "    color: #555;\n",
       "    margin-left: 4px;\n",
       "    line-height: 19px;\n",
       "  }\n",
       "</style>\n",
       "<div class=\"ansiout\">Out[47]: </div>"
      ]
     },
     "metadata": {
      "application/vnd.databricks.v1+output": {
       "addedWidgets": {},
       "arguments": {},
       "data": "<div class=\"ansiout\">Out[47]: </div>",
       "datasetInfos": [],
       "metadata": {},
       "removedWidgets": [],
       "type": "html"
      }
     },
     "output_type": "display_data"
    },
    {
     "data": {
      "image/png": "[encoded data removed]"
     },
     "metadata": {
      "application/vnd.databricks.v1+output": {
       "addedWidgets": {},
       "arguments": {},
       "data": "data:image/png;base64,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",
       "datasetInfos": [],
       "metadata": {
        "imageDimensions": {
         "height": 333,
         "width": 835
        }
       },
       "removedWidgets": [],
       "type": "image"
      },
      "image/png": {
       "height": 333,
       "width": 835
      }
     },
     "output_type": "display_data"
    },
    {
     "data": {
      "text/html": [
       "<style scoped>\n",
       "  .ansiout {\n",
       "    display: block;\n",
       "    unicode-bidi: embed;\n",
       "    white-space: pre-wrap;\n",
       "    word-wrap: break-word;\n",
       "    word-break: break-all;\n",
       "    font-family: \"Source Code Pro\", \"Menlo\", monospace;;\n",
       "    font-size: 13px;\n",
       "    color: #555;\n",
       "    margin-left: 4px;\n",
       "    line-height: 19px;\n",
       "  }\n",
       "</style>\n",
       "<div class=\"ansiout\">Text(0, 0.5, &#39;Total no of Users&#39;)</div>"
      ]
     },
     "metadata": {
      "application/vnd.databricks.v1+output": {
       "addedWidgets": {},
       "arguments": {},
       "data": "<div class=\"ansiout\">Text(0, 0.5, &#39;Total no of Users&#39;)</div>",
       "datasetInfos": [],
       "metadata": {},
       "removedWidgets": [],
       "type": "html"
      }
     },
     "output_type": "display_data"
    }
   ],
   "source": [
    "plt.figure(figsize=(14,5))\n",
    "sns.countplot(x='gender',data=df, palette='rainbow',order = df['gender'].value_counts().index)\n",
    "plt.title(\"Gender Distribution\")\n",
    "plt.ylabel('Total no of Users')"
   ]
  },
  {
   "cell_type": "markdown",
   "metadata": {
    "application/vnd.databricks.v1+cell": {
     "inputWidgets": {},
     "nuid": "3e452034-20ed-4bcf-a00d-99c54b14548c",
     "showTitle": false,
     "title": ""
    }
   },
   "source": [
    "Analyse the user Employment Title Data\n",
    "\n",
    "    In the data set there 888 types of Employment titles and Below filter out top 10 Titles only\n",
    "   \n",
    "    Marketing consultants,Mining designers,Advertising designers,Consulting coordinators title are highest number of employee titles"
   ]
  },
  {
   "cell_type": "code",
   "execution_count": 0,
   "metadata": {
    "application/vnd.databricks.v1+cell": {
     "inputWidgets": {},
     "nuid": "536dfb6c-4d17-4127-a1d5-f6f2eafa700c",
     "showTitle": false,
     "title": ""
    }
   },
   "outputs": [
    {
     "data": {
      "text/html": [
       "<style scoped>\n",
       "  .ansiout {\n",
       "    display: block;\n",
       "    unicode-bidi: embed;\n",
       "    white-space: pre-wrap;\n",
       "    word-wrap: break-word;\n",
       "    word-break: break-all;\n",
       "    font-family: \"Source Code Pro\", \"Menlo\", monospace;;\n",
       "    font-size: 13px;\n",
       "    color: #555;\n",
       "    margin-left: 4px;\n",
       "    line-height: 19px;\n",
       "  }\n",
       "</style>\n",
       "<div class=\"ansiout\">Out[48]: </div>"
      ]
     },
     "metadata": {
      "application/vnd.databricks.v1+output": {
       "addedWidgets": {},
       "arguments": {},
       "data": "<div class=\"ansiout\">Out[48]: </div>",
       "datasetInfos": [],
       "metadata": {},
       "removedWidgets": [],
       "type": "html"
      }
     },
     "output_type": "display_data"
    },
    {
     "data": {
      "image/png": "[encoded data removed]"
     },
     "metadata": {
      "application/vnd.databricks.v1+output": {
       "addedWidgets": {},
       "arguments": {},
       "data": "data:image/png;base64,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",
       "datasetInfos": [],
       "metadata": {
        "imageDimensions": {
         "height": 412,
         "width": 1055
        }
       },
       "removedWidgets": [],
       "type": "image"
      },
      "image/png": {
       "height": 412,
       "width": 1055
      }
     },
     "output_type": "display_data"
    },
    {
     "data": {
      "text/html": [
       "<style scoped>\n",
       "  .ansiout {\n",
       "    display: block;\n",
       "    unicode-bidi: embed;\n",
       "    white-space: pre-wrap;\n",
       "    word-wrap: break-word;\n",
       "    word-break: break-all;\n",
       "    font-family: \"Source Code Pro\", \"Menlo\", monospace;;\n",
       "    font-size: 13px;\n",
       "    color: #555;\n",
       "    margin-left: 4px;\n",
       "    line-height: 19px;\n",
       "  }\n",
       "</style>\n",
       "<div class=\"ansiout\">[Text(0, 0, &#39;Marketing Consultant&#39;),\n",
       " Text(1, 0, &#39;Mining Designer&#39;),\n",
       " Text(2, 0, &#39;Advertising Designer&#39;),\n",
       " Text(3, 0, &#39;Consulting Coordinator&#39;),\n",
       " Text(4, 0, &#39;Legal Officer&#39;),\n",
       " Text(5, 0, &#39;IT Analyst&#39;),\n",
       " Text(6, 0, &#39;Banking Architect&#39;),\n",
       " Text(7, 0, &#39;Marketing Architect&#39;),\n",
       " Text(8, 0, &#39;Technology Supervisor&#39;),\n",
       " Text(9, 0, &#39;Education Technician&#39;)]</div>"
      ]
     },
     "metadata": {
      "application/vnd.databricks.v1+output": {
       "addedWidgets": {},
       "arguments": {},
       "data": "<div class=\"ansiout\">[Text(0, 0, &#39;Marketing Consultant&#39;),\n Text(1, 0, &#39;Mining Designer&#39;),\n Text(2, 0, &#39;Advertising Designer&#39;),\n Text(3, 0, &#39;Consulting Coordinator&#39;),\n Text(4, 0, &#39;Legal Officer&#39;),\n Text(5, 0, &#39;IT Analyst&#39;),\n Text(6, 0, &#39;Banking Architect&#39;),\n Text(7, 0, &#39;Marketing Architect&#39;),\n Text(8, 0, &#39;Technology Supervisor&#39;),\n Text(9, 0, &#39;Education Technician&#39;)]</div>",
       "datasetInfos": [],
       "metadata": {},
       "removedWidgets": [],
       "type": "html"
      }
     },
     "output_type": "display_data"
    }
   ],
   "source": [
    "plt.figure(figsize=(18,5))\n",
    "chart=sns.countplot(x='emplyment_title',data=df,order = df['emplyment_title'].value_counts().iloc[:10].index, palette='ch:.25')\n",
    "plt.title(\" Employment Title\")\n",
    "plt.ylabel('Total no of Users')\n",
    "chart.set_xticklabels(chart.get_xticklabels(), rotation=45)"
   ]
  },
  {
   "cell_type": "markdown",
   "metadata": {
    "application/vnd.databricks.v1+cell": {
     "inputWidgets": {},
     "nuid": "98666377-1b57-4db6-94ac-6864f3aaf13b",
     "showTitle": false,
     "title": ""
    }
   },
   "source": [
    "Analyse the user Employment Key Skill Data\n",
    "\n",
    "    Self Motivated,Leadership,Networking are the highest employee skills & Technical savy is the least identify skill"
   ]
  },
  {
   "cell_type": "code",
   "execution_count": 0,
   "metadata": {
    "application/vnd.databricks.v1+cell": {
     "inputWidgets": {},
     "nuid": "ebc3d37e-9d5b-4130-ba91-869b297ab883",
     "showTitle": false,
     "title": ""
    }
   },
   "outputs": [
    {
     "data": {
      "text/html": [
       "<style scoped>\n",
       "  .ansiout {\n",
       "    display: block;\n",
       "    unicode-bidi: embed;\n",
       "    white-space: pre-wrap;\n",
       "    word-wrap: break-word;\n",
       "    word-break: break-all;\n",
       "    font-family: \"Source Code Pro\", \"Menlo\", monospace;;\n",
       "    font-size: 13px;\n",
       "    color: #555;\n",
       "    margin-left: 4px;\n",
       "    line-height: 19px;\n",
       "  }\n",
       "</style>\n",
       "<div class=\"ansiout\">Out[49]: </div>"
      ]
     },
     "metadata": {
      "application/vnd.databricks.v1+output": {
       "addedWidgets": {},
       "arguments": {},
       "data": "<div class=\"ansiout\">Out[49]: </div>",
       "datasetInfos": [],
       "metadata": {},
       "removedWidgets": [],
       "type": "html"
      }
     },
     "output_type": "display_data"
    },
    {
     "data": {
      "image/png": "[encoded data removed]"
     },
     "metadata": {
      "application/vnd.databricks.v1+output": {
       "addedWidgets": {},
       "arguments": {},
       "data": "data:image/png;base64,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",
       "datasetInfos": [],
       "metadata": {
        "imageDimensions": {
         "height": 404,
         "width": 1058
        }
       },
       "removedWidgets": [],
       "type": "image"
      },
      "image/png": {
       "height": 404,
       "width": 1058
      }
     },
     "output_type": "display_data"
    },
    {
     "data": {
      "text/html": [
       "<style scoped>\n",
       "  .ansiout {\n",
       "    display: block;\n",
       "    unicode-bidi: embed;\n",
       "    white-space: pre-wrap;\n",
       "    word-wrap: break-word;\n",
       "    word-break: break-all;\n",
       "    font-family: \"Source Code Pro\", \"Menlo\", monospace;;\n",
       "    font-size: 13px;\n",
       "    color: #555;\n",
       "    margin-left: 4px;\n",
       "    line-height: 19px;\n",
       "  }\n",
       "</style>\n",
       "<div class=\"ansiout\">[Text(0, 0, &#39;Self-motivated&#39;),\n",
       " Text(1, 0, &#39;Leadership&#39;),\n",
       " Text(2, 0, &#39;Networking skills&#39;),\n",
       " Text(3, 0, &#39;Teamwork&#39;),\n",
       " Text(4, 0, &#39;Confidence&#39;),\n",
       " Text(5, 0, &#39;Work under pressure&#39;),\n",
       " Text(6, 0, &#39;Communication&#39;),\n",
       " Text(7, 0, &#39;Fast learner&#39;),\n",
       " Text(8, 0, &#39;Problem solving&#39;),\n",
       " Text(9, 0, &#39;Proactive&#39;),\n",
       " Text(10, 0, &#39;Organisation&#39;),\n",
       " Text(11, 0, &#39;Technical savvy&#39;)]</div>"
      ]
     },
     "metadata": {
      "application/vnd.databricks.v1+output": {
       "addedWidgets": {},
       "arguments": {},
       "data": "<div class=\"ansiout\">[Text(0, 0, &#39;Self-motivated&#39;),\n Text(1, 0, &#39;Leadership&#39;),\n Text(2, 0, &#39;Networking skills&#39;),\n Text(3, 0, &#39;Teamwork&#39;),\n Text(4, 0, &#39;Confidence&#39;),\n Text(5, 0, &#39;Work under pressure&#39;),\n Text(6, 0, &#39;Communication&#39;),\n Text(7, 0, &#39;Fast learner&#39;),\n Text(8, 0, &#39;Problem solving&#39;),\n Text(9, 0, &#39;Proactive&#39;),\n Text(10, 0, &#39;Organisation&#39;),\n Text(11, 0, &#39;Technical savvy&#39;)]</div>",
       "datasetInfos": [],
       "metadata": {},
       "removedWidgets": [],
       "type": "html"
      }
     },
     "output_type": "display_data"
    }
   ],
   "source": [
    "plt.figure(figsize=(18,5))\n",
    "chart=sns.countplot(x='employment_key_skill',data=df,order = df['employment_key_skill'].value_counts().index, palette='Set2')\n",
    "plt.title(\" Employment key skill \")\n",
    "plt.ylabel('Total no of Users')\n",
    "chart.set_xticklabels(chart.get_xticklabels(), rotation=45)"
   ]
  },
  {
   "cell_type": "markdown",
   "metadata": {
    "application/vnd.databricks.v1+cell": {
     "inputWidgets": {},
     "nuid": "0a3902d3-4c6e-46a5-9c87-b6b051c23b34",
     "showTitle": false,
     "title": ""
    }
   },
   "source": [
    "Plot the histogram to check the Gender distribution by subscription plan\n",
    "\n",
    "    Males are mostly used subscription plan type is Business\n",
    "\n",
    "    Most Females,Agender,Bigender are used Free trial version\n",
    "\n",
    "    Polygenders,Non binary are used Professional plan\n",
    "\n",
    "    Genderqueer used Gold plan"
   ]
  },
  {
   "cell_type": "code",
   "execution_count": 0,
   "metadata": {
    "application/vnd.databricks.v1+cell": {
     "inputWidgets": {},
     "nuid": "50feb8fa-1295-49d7-9d21-49520a07e738",
     "showTitle": false,
     "title": ""
    }
   },
   "outputs": [
    {
     "data": {
      "text/html": [
       "<style scoped>\n",
       "  .ansiout {\n",
       "    display: block;\n",
       "    unicode-bidi: embed;\n",
       "    white-space: pre-wrap;\n",
       "    word-wrap: break-word;\n",
       "    word-break: break-all;\n",
       "    font-family: \"Source Code Pro\", \"Menlo\", monospace;;\n",
       "    font-size: 13px;\n",
       "    color: #555;\n",
       "    margin-left: 4px;\n",
       "    line-height: 19px;\n",
       "  }\n",
       "</style>\n",
       "<div class=\"ansiout\">Out[50]: </div>"
      ]
     },
     "metadata": {
      "application/vnd.databricks.v1+output": {
       "addedWidgets": {},
       "arguments": {},
       "data": "<div class=\"ansiout\">Out[50]: </div>",
       "datasetInfos": [],
       "metadata": {},
       "removedWidgets": [],
       "type": "html"
      }
     },
     "output_type": "display_data"
    },
    {
     "data": {
      "image/png": "[encoded data removed]"
     },
     "metadata": {
      "application/vnd.databricks.v1+output": {
       "addedWidgets": {},
       "arguments": {},
       "data": "data:image/png;base64,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",
       "datasetInfos": [],
       "metadata": {
        "imageDimensions": {
         "height": 333,
         "width": 1062
        }
       },
       "removedWidgets": [],
       "type": "image"
      },
      "image/png": {
       "height": 333,
       "width": 1062
      }
     },
     "output_type": "display_data"
    },
    {
     "data": {
      "text/html": [
       "<style scoped>\n",
       "  .ansiout {\n",
       "    display: block;\n",
       "    unicode-bidi: embed;\n",
       "    white-space: pre-wrap;\n",
       "    word-wrap: break-word;\n",
       "    word-break: break-all;\n",
       "    font-family: \"Source Code Pro\", \"Menlo\", monospace;;\n",
       "    font-size: 13px;\n",
       "    color: #555;\n",
       "    margin-left: 4px;\n",
       "    line-height: 19px;\n",
       "  }\n",
       "</style>\n",
       "<div class=\"ansiout\">Text(0, 0.5, &#39;Total no of Users&#39;)</div>"
      ]
     },
     "metadata": {
      "application/vnd.databricks.v1+output": {
       "addedWidgets": {},
       "arguments": {},
       "data": "<div class=\"ansiout\">Text(0, 0.5, &#39;Total no of Users&#39;)</div>",
       "datasetInfos": [],
       "metadata": {},
       "removedWidgets": [],
       "type": "html"
      }
     },
     "output_type": "display_data"
    }
   ],
   "source": [
    "plt.figure(figsize=(18,5))\n",
    "sns.countplot(x='gender',data=df,hue='subscription_plan', palette='Set1')\n",
    "plt.title(\"Gender Type & Subscription Plan\")\n",
    "plt.ylabel('Total no of Users')"
   ]
  },
  {
   "cell_type": "markdown",
   "metadata": {
    "application/vnd.databricks.v1+cell": {
     "inputWidgets": {},
     "nuid": "663ec287-7b42-423f-8b89-87db7e827f3c",
     "showTitle": false,
     "title": ""
    }
   },
   "source": [
    "Plot the histogram to check the Gender distribution by subscription status\n",
    "\n",
    "    According to graph highest active users are Males & Non binary \n",
    "\n",
    "    Most of females are Idle compare to Active status \n",
    "\n",
    "    Genderqueer has the highest number which blocked thier subscriptions"
   ]
  },
  {
   "cell_type": "code",
   "execution_count": 0,
   "metadata": {
    "application/vnd.databricks.v1+cell": {
     "inputWidgets": {},
     "nuid": "3dd87231-ef8f-46d0-8001-cf2feaae89a8",
     "showTitle": false,
     "title": ""
    }
   },
   "outputs": [
    {
     "data": {
      "text/html": [
       "<style scoped>\n",
       "  .ansiout {\n",
       "    display: block;\n",
       "    unicode-bidi: embed;\n",
       "    white-space: pre-wrap;\n",
       "    word-wrap: break-word;\n",
       "    word-break: break-all;\n",
       "    font-family: \"Source Code Pro\", \"Menlo\", monospace;;\n",
       "    font-size: 13px;\n",
       "    color: #555;\n",
       "    margin-left: 4px;\n",
       "    line-height: 19px;\n",
       "  }\n",
       "</style>\n",
       "<div class=\"ansiout\">Out[51]: </div>"
      ]
     },
     "metadata": {
      "application/vnd.databricks.v1+output": {
       "addedWidgets": {},
       "arguments": {},
       "data": "<div class=\"ansiout\">Out[51]: </div>",
       "datasetInfos": [],
       "metadata": {},
       "removedWidgets": [],
       "type": "html"
      }
     },
     "output_type": "display_data"
    },
    {
     "data": {
      "image/png": "[encoded data removed]"
     },
     "metadata": {
      "application/vnd.databricks.v1+output": {
       "addedWidgets": {},
       "arguments": {},
       "data": "data:image/png;base64,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",
       "datasetInfos": [],
       "metadata": {
        "imageDimensions": {
         "height": 333,
         "width": 1052
        }
       },
       "removedWidgets": [],
       "type": "image"
      },
      "image/png": {
       "height": 333,
       "width": 1052
      }
     },
     "output_type": "display_data"
    },
    {
     "data": {
      "text/html": [
       "<style scoped>\n",
       "  .ansiout {\n",
       "    display: block;\n",
       "    unicode-bidi: embed;\n",
       "    white-space: pre-wrap;\n",
       "    word-wrap: break-word;\n",
       "    word-break: break-all;\n",
       "    font-family: \"Source Code Pro\", \"Menlo\", monospace;;\n",
       "    font-size: 13px;\n",
       "    color: #555;\n",
       "    margin-left: 4px;\n",
       "    line-height: 19px;\n",
       "  }\n",
       "</style>\n",
       "<div class=\"ansiout\">Text(0, 0.5, &#39;Total no of Users&#39;)</div>"
      ]
     },
     "metadata": {
      "application/vnd.databricks.v1+output": {
       "addedWidgets": {},
       "arguments": {},
       "data": "<div class=\"ansiout\">Text(0, 0.5, &#39;Total no of Users&#39;)</div>",
       "datasetInfos": [],
       "metadata": {},
       "removedWidgets": [],
       "type": "html"
      }
     },
     "output_type": "display_data"
    }
   ],
   "source": [
    "plt.figure(figsize=(18,5))\n",
    "sns.countplot(x='gender',data=df,hue='subscription_status', palette='Set1')\n",
    "plt.title(\"Gender Type & subscription_status\")\n",
    "plt.ylabel('Total no of Users')"
   ]
  },
  {
   "cell_type": "markdown",
   "metadata": {
    "application/vnd.databricks.v1+cell": {
     "inputWidgets": {},
     "nuid": "85846eab-e1d3-4862-b631-8fef621cac9a",
     "showTitle": false,
     "title": ""
    }
   },
   "source": [
    "Plot the histogram to check the Gender distribution by Payment Method\n",
    "\n",
    "    Most males are prefer the cheques and debit card for the payments\n",
    "\n",
    "    Polygenders are mostyly use Credit Cards as thier main payment method\n",
    "\n",
    "    Females  preferes as thier  highest payment method is  Bitcoins"
   ]
  },
  {
   "cell_type": "code",
   "execution_count": 0,
   "metadata": {
    "application/vnd.databricks.v1+cell": {
     "inputWidgets": {},
     "nuid": "736ef4b0-a5bb-41ae-99b1-c6bed422024c",
     "showTitle": false,
     "title": ""
    }
   },
   "outputs": [
    {
     "data": {
      "text/html": [
       "<style scoped>\n",
       "  .ansiout {\n",
       "    display: block;\n",
       "    unicode-bidi: embed;\n",
       "    white-space: pre-wrap;\n",
       "    word-wrap: break-word;\n",
       "    word-break: break-all;\n",
       "    font-family: \"Source Code Pro\", \"Menlo\", monospace;;\n",
       "    font-size: 13px;\n",
       "    color: #555;\n",
       "    margin-left: 4px;\n",
       "    line-height: 19px;\n",
       "  }\n",
       "</style>\n",
       "<div class=\"ansiout\">Out[52]: </div>"
      ]
     },
     "metadata": {
      "application/vnd.databricks.v1+output": {
       "addedWidgets": {},
       "arguments": {},
       "data": "<div class=\"ansiout\">Out[52]: </div>",
       "datasetInfos": [],
       "metadata": {},
       "removedWidgets": [],
       "type": "html"
      }
     },
     "output_type": "display_data"
    },
    {
     "data": {
      "image/png": "[encoded data removed]"
     },
     "metadata": {
      "application/vnd.databricks.v1+output": {
       "addedWidgets": {},
       "arguments": {},
       "data": "data:image/png;base64,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",
       "datasetInfos": [],
       "metadata": {
        "imageDimensions": {
         "height": 333,
         "width": 1062
        }
       },
       "removedWidgets": [],
       "type": "image"
      },
      "image/png": {
       "height": 333,
       "width": 1062
      }
     },
     "output_type": "display_data"
    },
    {
     "data": {
      "text/html": [
       "<style scoped>\n",
       "  .ansiout {\n",
       "    display: block;\n",
       "    unicode-bidi: embed;\n",
       "    white-space: pre-wrap;\n",
       "    word-wrap: break-word;\n",
       "    word-break: break-all;\n",
       "    font-family: \"Source Code Pro\", \"Menlo\", monospace;;\n",
       "    font-size: 13px;\n",
       "    color: #555;\n",
       "    margin-left: 4px;\n",
       "    line-height: 19px;\n",
       "  }\n",
       "</style>\n",
       "<div class=\"ansiout\">Text(0, 0.5, &#39;Total no of Users&#39;)</div>"
      ]
     },
     "metadata": {
      "application/vnd.databricks.v1+output": {
       "addedWidgets": {},
       "arguments": {},
       "data": "<div class=\"ansiout\">Text(0, 0.5, &#39;Total no of Users&#39;)</div>",
       "datasetInfos": [],
       "metadata": {},
       "removedWidgets": [],
       "type": "html"
      }
     },
     "output_type": "display_data"
    }
   ],
   "source": [
    "plt.figure(figsize=(18,5))\n",
    "sns.countplot(x='gender',data=df,hue='subscription_payment_method', palette='Set1')\n",
    "plt.title(\"Gender Type & Payment method\")\n",
    "plt.ylabel('Total no of Users')"
   ]
  },
  {
   "cell_type": "markdown",
   "metadata": {
    "application/vnd.databricks.v1+cell": {
     "inputWidgets": {},
     "nuid": "5a5d2da4-1b58-4b61-8d41-49ded2227add",
     "showTitle": false,
     "title": ""
    }
   },
   "source": [
    "Plot the histogram to check the Gender distribution by Subscription-Term\n",
    "\n",
    "    Males,Genderqueer,Non binary and polygender are prefer to get full subscription & Payment in Advance\n",
    "    \n",
    "    Females are less prefer in advance payment"
   ]
  },
  {
   "cell_type": "code",
   "execution_count": 0,
   "metadata": {
    "application/vnd.databricks.v1+cell": {
     "inputWidgets": {},
     "nuid": "df806b10-3cb1-4a58-91d4-dc661b79b16e",
     "showTitle": false,
     "title": ""
    }
   },
   "outputs": [
    {
     "data": {
      "text/html": [
       "<style scoped>\n",
       "  .ansiout {\n",
       "    display: block;\n",
       "    unicode-bidi: embed;\n",
       "    white-space: pre-wrap;\n",
       "    word-wrap: break-word;\n",
       "    word-break: break-all;\n",
       "    font-family: \"Source Code Pro\", \"Menlo\", monospace;;\n",
       "    font-size: 13px;\n",
       "    color: #555;\n",
       "    margin-left: 4px;\n",
       "    line-height: 19px;\n",
       "  }\n",
       "</style>\n",
       "<div class=\"ansiout\">Out[53]: </div>"
      ]
     },
     "metadata": {
      "application/vnd.databricks.v1+output": {
       "addedWidgets": {},
       "arguments": {},
       "data": "<div class=\"ansiout\">Out[53]: </div>",
       "datasetInfos": [],
       "metadata": {},
       "removedWidgets": [],
       "type": "html"
      }
     },
     "output_type": "display_data"
    },
    {
     "data": {
      "image/png": "[encoded data removed]"
     },
     "metadata": {
      "application/vnd.databricks.v1+output": {
       "addedWidgets": {},
       "arguments": {},
       "data": "data:image/png;base64,iVBORw0KGgoAAAANSUhEUgAABBwAAAFNCAYAAACjcXzwAAAAOXRFWHRTb2Z0d2FyZQBNYXRwbG90bGliIHZlcnNpb24zLjUuMSwgaHR0cHM6Ly9tYXRwbG90bGliLm9yZy/YYfK9AAAACXBIWXMAAAsTAAALEwEAmpwYAABA70lEQVR4nO3deZzd0/348dc7i0gktiR8qWWixJJdhoSgEfVFkShRNFIRqlVtlFJpSxPdfpSWqrZKRaIIX2orpQRTojSSSIKIIo0KsSSxJAhZzu+P+5lxM2ZN7p3JzLyej8c85n62c96fe+7cz9z3Ped8IqWEJEmSJElSIbVq7AAkSZIkSVLzY8JBkiRJkiQVnAkHSZIkSZJUcCYcJEmSJElSwZlwkCRJkiRJBWfCQZIkSZIkFZwJB0mSiiAiRkXE1MaOoymKiBQROxe5jh9GxJ/W4/j7IuKkQsYkSVJzY8JBktRiRMTxEfGviPggIt7KHn8rIqKxY6tJRDwXEcuzn9URsSJv+YcNFMOWEfHXiHgvIl6PiO83RL3FklL6RUrp1LrsGxHjI+KGSscfllKaVJzoqq5TkqSmxoSDJKlFiIjvAb8BLgH+B9ga+CYwCNioEUP7jIhonb+cUuqRUuqYUuoIPAZ8u3w5pfSLBgrrXGBjYBugB/B4A9VbcBHRprFjKLaWcI6SpA2fCQdJUrMXEZsBPwG+lVK6LaW0LOU8nVIakVL6ONuvXURcGhH/jYg3I+KqiGifbRscEQsj4ntZ74hFEXFyXh2dI+LuiHg/IqYBn68Uw24R8WBELI2IFyLiK3nbJkbEHyLibxHxAXBgHc/r2Yg4Mm+5bUQsjoh+EVGSDU04LeuRsCgizsnbt1VEjI2IlyNiSUT8X0RsWUN1K4G3UkofppTeSSnVmHCInMuy5+r9iHgmInpm28oi4tS8fasafvKliJifnc8lEdEq23fniPhH1tNicUTckldOj7zn+M3y3h9Zb4HbIuKGiHgfGJXfg6Cm5yoiDgV+CByX9SiZXfkcsufy/Ih4JTvf67PXXH7ZJ2Wvq8UR8aNanrvq6twsIq7N4nstIn5WnpzKnsPHs+d8CTA+e139PnLDP5Zn2/8nIi6PiHciYl5E9KspFkmS1ocJB0lSS7AP0A64q5b9LgK6A32BnYHPAT/O2/4/wGbZ+lOA30XEFtm23wEryPUAGJ39ABARmwAPAjcBWwHHA7+PiD3yyv4q8HOgE1DXuR+uB07MW/4SsCil9HTeugOBXYD/Bc6LiC9m678DHAV8AdgWeCc7h+o8BZwQEafUMbb/BQ4g93xuBnwFWFLHYwG+DJQCewLD+PT5/CnwALAFsB3wW4CI6ARMAe4ndz47Aw/llTcMuA3YHLixmjo/81yllO4HfgHckvUo6VPFcaOynwOBnYCOwJWV9tkP2BU4CPhxROxe3YnXUOdEYFV2bv2yOPOHhQwA5pPrvfPzbN1XgPOBLsDHwBPAzGz5NuDX1cUhSdL6MuEgSWoJugCLU0qryldExD8j4t2I+CgiDoiIAE4DzkopLU0pLSP3oe/4vHJWAj9JKa1MKf0NWA7smn3LfAzw45TSBymlZ4H88f1HAAtSStellFZlCYG/AMfm7XNXSunxlNKalNKKOp7XDeR6AmyaLY8E/lxpnwuzmJ4BrgNOyNZ/E/hRSmlh1sNjPDA8quiKH7kJHK8GBgNjI2J0tr5dRHxS/m1+JSvJJU92AyKl9HxKaVEdzwvg4qwd/gtcnhf3SmBHYNuU0oqUUnly5gjgjZTSr7L1y1JK/8or74mU0p3Z8/tRNXVW91zVZgTw65TS/JTScuAHwPGVnssLU0ofpZRmA7OBqhIX1YqIrckllL6bxfgWcBlrvz5fTyn9NnuNlZ/jHSmlGdlr6g5gRUrp+pTSauAWcokLSZKKwvF9kqSWYAnQJSLalCcdUkr7AkTEQnIJ+K5AB2BGfDqHZAD58yksyU9aAB+S+za7K7lr6qt5217Je7wjMCAi3s1b14a1kwP5x9ZJSun1iHgcOCYi7gAOA86stFvlmHrlxXRHRKzJ276a3Lfjr1Uq4xTg7pTSoxHxv8Bj2XP0MjA7pfReFbE9HBFXkus1sWNE3A6ck1J6v46nVznubbPH3yfXy2FaRLwD/CqlNAHYPounLuXVtc5e1e1Yybas3d6vkGvfrfPWvZH3uPx1Ux87Am2BRXmvz1asHXNV5/hm3uOPqliubxySJNWZCQdJUkvwBLnu5MPI9SyoymJyH8B6pJQqf+CuzdvkurpvD8zL1u2Qt/1V4B8ppYNrKCPVs85yk8h1q29D7lv8yrFXjun1vJhG1zYXQ6YNuQ+7pJT+k80x8AjwLrlv86uUUroCuCIitgL+j9zEkxcAH5BL7pT7nyoO3x54rnLcKaU3gK8DRMR+wJSIeDQ7n+OrKKcinBrP8NM6q3quajv2dXIJgXI7kHs9vElu2Me6qFznq+Rew10qJb1qOkaSpEblkApJUrOXUnoXuJDcvAnDI6JTNtFfX2CTbJ81wDXAZdkHZCLicxFxSB3KXw3cTm6ivg7Z3Awn5e1yD9A9IkZGbmLHthGxV03j+OvhTnLzHJxJbk6Hyi7IYuoBnEyuGz3AVcDPI2JHgIjoGhHDqqnjdnITGB6VDR95n9ywgM+T+7b+M7LzGxARbcklGFYA5b0pZgFHZ3HtTK4HRWXnRsQWEbF9dm63ZOUeGxHlH+LfIfchew2553ibiPhuNtSjU0QMqOZ8qlPdc/UmUBLZxJVVmAycFRHdIqIjn86/UF1ioC7WqjMbjvIA8KuI2DR7/X4+Ir6wHnVIklRUJhwkSS1CSumXwNnkuuS/mf38ETgP+Ge223nAS8CTkbubwRRyE/3VxbfJdU9/g9zkftfl1b2M3AR/x5P7NvwN4GJyE1mul2ys/l+AbuQSA5X9g9w5PQRcmlJ6IFv/G+Bu4IGIWAY8SW7SwarqeILcpJbjgPeAR4EyYDgwuZo7HWxKLoHzDrkhBkvI3ZIUcnMPfEKuDSZR9SSOdwEzyCUn7gWuzdbvBfwrIpZn8Z+ZzZ2wDDgYOJLc8/sidbzbR57qnqtbs99LImJmFcdNIDc85lHgP+SSK9+pZ92VVVXn18jdwnUuuef1NnKTlEqStEGKlOx9J0lSUxYRPwa6p5ROzFtXQu7Db9v1/Ka92fO5kiSpOJzDQZKkJiwitiQ3JGFkY8ciSZKUzyEVkiQ1URHxdXKTCd6XUnq0seNR/UTEfRGxvIqfHzZ2bJIkFYJDKiRJkiRJUsHZw0GSJEmSJBWcCQdJkiRJklRwTWLSyC5duqSSkpLGDkOSJEmSJOWZMWPG4pRS16q2NYmEQ0lJCdOnT2/sMCRJkiRJUp6IeKW6bQ6pkCRJkiRJBWfCQZIkSZIkFZwJB0mSJEmSVHBNYg6HqqxcuZKFCxeyYsWKxg5FG6CNN96Y7bbbjrZt2zZ2KJIkSZLUIjXZhMPChQvp1KkTJSUlRERjh6MNSEqJJUuWsHDhQrp169bY4UiSJElSi9Rkh1SsWLGCzp07m2zQZ0QEnTt3tveLJEmSJDWiJptwAEw2qFq+NiRJkiSpcTXphIMkSZIkSdowmXAogPHjx3PppZcWtMzp06czZsyYGvdZsGABN910U72OqY93332X3//+9wUrT5IkSZLUcphw2ACtWrWK0tJSrrjiihr3q5xwqMsx9bEuCYeUEmvWrClYDJIkSZKkpsmEQzU++OADDj/8cPr06UPPnj255ZZbKCkpYfHixUCuN8HgwYMr9p89ezb77LMPu+yyC9dccw0AixYt4oADDqBv37707NmTxx57DID777+fPffckz59+nDQQQcBuV4SI0eOZNCgQYwcOZKysjKOOOKItbZVLn/s2LE89thj9O3bl8suu2ytY5YuXcpRRx1F7969GThwIHPmzKkoa/To0QwePJiddtqpxgTF2LFjefnll+nbty/nnnsuAJdccgl77bUXvXv3Zty4cUAu8bHrrrvyta99reI8d9ttN0aNGkX37t0ZMWIEU6ZMYdCgQeyyyy5MmzatIG0kSZIkSdpwNdnbYhbb/fffz7bbbsu9994LwHvvvcd5551X7f5z5szhySef5IMPPqBfv34cfvjhTJ48mUMOOYQf/ehHrF69mg8//JC3336br3/96zz66KN069aNpUuXVpQxd+5cpk6dSvv27SkrK6u1/IsuuohLL72Ue+65B2CtY8aNG0e/fv248847efjhh/na177GrFmzAJg3bx6PPPIIy5YtY9ddd+X000+nbdu2nzmniy66iGeffbbiuAceeIAXX3yRadOmkVJi6NChPProo+ywww68+OKLTJo0iYEDB7JgwQJeeuklbr31ViZMmMBee+3FTTfdxNSpU7n77rv5xS9+wZ133ln/RpEkSZLUrEwv3bvodZRO9wvPxmIPh2r06tWLBx98kPPOO4/HHnuMzTbbrMb9hw0bRvv27enSpQsHHngg06ZNY6+99uK6665j/PjxPPPMM3Tq1Iknn3ySAw44gG7dugGw5ZZbVpQxdOhQ2rdvX+fyazJ16lRGjhwJwJAhQ1iyZAnvv/8+AIcffjjt2rWjS5cubLXVVrz55pt1ek4eeOABHnjgAfr168eee+7JvHnzePHFFwHYcccdGThwYMW+3bp1o1evXrRq1YoePXpw0EEHERH06tWLBQsW1Kk+SZIkSVLTZQ+HanTv3p2ZM2fyt7/9jfPPP5+DDjqINm3aVMxPsGLFirX2r3wbxojggAMO4NFHH+Xee+9l1KhRnH322WyxxRbV1rnJJptUu62q8tdVu3btKh63bt2aVatW1em4lBI/+MEP+MY3vrHW+gULFnwm9vw6WrVqVbHcqlWrOtcnSZIkSWq67OFQjddff50OHTpw4okncu655zJz5kxKSkqYMWMGAH/5y1/W2v+uu+5ixYoVLFmyhLKyMvbaay9eeeUVtt56a77+9a9z6qmnMnPmTAYOHMijjz7Kf/7zH4C1hlTUpKryO3XqxLJly6rcf//99+fGG28EckMtunTpwqabblqv56By+YcccggTJkxg+fLlALz22mu89dZb9SpTkiRJktQy2MOhGs888wznnnsurVq1om3btvzhD3/go48+4pRTTuGCCy5Ya8JIgN69e3PggQeyePFiLrjgArbddlsmTZrEJZdcQtu2benYsSPXX389Xbt25eqrr+boo49mzZo1bLXVVjz44IO1xlNV+V27dqV169b06dOHUaNG0a9fv4r9yyeH7N27Nx06dGDSpEn1fg46d+7MoEGD6NmzJ4cddhiXXHIJzz//PPvssw8AHTt25IYbbqB169b1LluSJEmS1LxFSqmxY6hVaWlpmj59+lrrnn/+eXbfffdGiqhhjR8/no4dO3LOOec0dihNSkt6jUiSJElNkZNGNn0RMSOlVFrVNodUSJIkSZKkgnNIRRMwfvz4opa/ZMkSDjrooM+sf+ihh+jcuXNR65YkSZIkNU8mHETnzp2ZNWtWY4chSZIkSWpGHFIhSZIkSZIKzoSDJEmSJEkqOIdUSJIkSdogeMcCqXmxh8N6aN26NX379q34WbBgQbX7Tpw4kW9/+9tAbhLISy+9dL3r79ix43qXUdmpp57K3Llza9xn4sSJvP766/U6RpIkSZLUsjSbHg6FzobWJfPZvn37ZjXZ4urVq/nTn/5U634TJ06kZ8+ebLvttgB1OkaSJEmS1LLYw6HASkpKWLx4MQDTp09n8ODBdT721ltvpWfPnvTp04cDDjgAWLtnBMARRxxBWVlZxfJZZ51Fjx49OOigg3j77bcBuOKKK9hjjz3o3bs3xx9/PADLly/n5JNPplevXvTu3Zu//OUvQK6XxPe+9z369OnDE088weDBg5k+fXrFtsrl33bbbUyfPp0RI0bQt29fPvroo7WOmTx5Mr169aJnz56cd955FXF27NiRH/3oR/Tp04eBAwfy5ptv1vOZlSRJkiQ1JSYc1sNHH31UMZziy1/+8nqX95Of/IS///3vzJ49m7vvvrvW/T/44ANKS0t57rnn+MIXvsCFF14IwEUXXcTTTz/NnDlzuOqqqwD46U9/ymabbcYzzzzDnDlzGDJkSEUZAwYMYPbs2ey33361lj98+HBKS0u58cYbmTVrFu3bt6/Y//XXX+e8887j4YcfZtasWTz11FPceeedFWUNHDiQ2bNnc8ABB3DNNdes9/MlSZIkSdpwmXBYD+VDKmbNmsUdd9yx3uUNGjSIUaNGcc0117B69epa92/VqhXHHXccACeeeCJTp04FoHfv3owYMYIbbriBNm1yo2amTJnCGWecUXHsFltsAeTmoTjmmGPqVX51nnrqKQYPHkzXrl1p06YNI0aM4NFHHwVgo4024ogjjgCgf//+Nc53IUmSJElq+kw4FFibNm1Ys2YNACtWrKjXsVdddRU/+9nPePXVV+nfvz9LlixZq7zayowIAO69917OOOMMZs6cyV577cWqVauqPWbjjTemdevWdYqvvPx10bZt24rjW7duXWNMkiRJkqSmz4RDgZWUlDBjxgyAinkS6urll19mwIAB/OQnP6Fr1668+uqrlJSUMGvWLNasWcOrr77KtGmfTma5Zs0abrvtNgBuuukm9ttvv4r9DjzwQC6++GLee+89li9fzsEHH8zvfve7imPfeeedWuOpqnyATp06sWzZss/sv/fee/OPf/yDxYsXs3r1aiZPnswXvvCFej0HkiRJkqTmwYRDgY0bN44zzzyT0tLSOvccKHfuuedWTLi477770qdPHwYNGkS3bt3YY489GDNmDHvuuWfF/ptssgnTpk2jZ8+ePPzww/z4xz9m9erVnHjiifTq1Yt+/foxZswYNt98c84//3zeeeedikkpH3nkkVrjqap8gFGjRvHNb36zYtLIcttssw0XXXQRBx54IH369KF///4MGzasXs+BJEmSJKl5iJRSY8dQq9LS0lR+F4Ryzz//PLvvvnsjRdQydOzYkeXLlzd2GOvM14gkSVLTUuhb3VeldPq02ndSg7HNm76ImJFSKq1qmz0cJEmSJElSwZlwULWacu8GSZIkSVLjMuEgSZIkSZIKzoSDJEmSJEkquKInHCKidUQ8HRH3ZMvdIuJfEfFSRNwSERsVOwZJkiRJktSwGqKHw5nA83nLFwOXpZR2Bt4BTmmAGCRJkiRJUgMqasIhIrYDDgf+lC0HMAS4LdtlEnBUMWMopojgxBNPrFhetWoVXbt25Ygjjlin8t59911+//vfVyyXlZVVW9bgwYOpfKtQSZIkSZI2FG2KXP7lwPeBTtlyZ+DdlNKqbHkh8LlCVHToBbcUopgK9//0uFr32WSTTXj22Wf56KOPaN++PQ8++CCf+9y6n055wuFb3/rWOpchSZIkSdKGoGgJh4g4AngrpTQjIgavw/GnAacB7LDDDoUNroC+9KUvce+99zJ8+HAmT57MCSecwGOPPQbA0qVLGT16NPPnz6dDhw5cffXV9O7dm/Hjx/Pf//6X+fPn89///pfvfve7jBkzhrFjx/Lyyy/Tt29fDj74YA4//HCWL1/O8OHDefbZZ+nfvz833HADuY4iORMmTGDOnDlcfvnlAFxzzTXMnTuXyy67rDGeDqlBTS/du0HqKZ0+reh1fPXPxxe9jptG3lz0OiRJUsP4zVf/WPQ6zrzpG0WvQ81bMYdUDAKGRsQC4GZyQyl+A2weEeWJju2A16o6OKV0dUqpNKVU2rVr1yKGuX6OP/54br75ZlasWMGcOXMYMGBAxbZx48bRr18/5syZwy9+8Qu+9rWvVWybN28ef//735k2bRoXXnghK1eu5KKLLuLzn/88s2bN4pJLLgHg6aef5vLLL2fu3LnMnz+fxx9/fK36v/KVr/DXv/6VlStXAnDdddcxevToBjhzSZIkSZKqV7SEQ0rpByml7VJKJcDxwMMppRHAI8DwbLeTgLuKFUND6N27NwsWLGDy5Ml86UtfWmvb1KlTGTlyJABDhgxhyZIlvP/++wAcfvjhtGvXji5durDVVlvx5ptvVln+3nvvzXbbbUerVq3o27cvCxYsWGt7x44dGTJkCPfccw/z5s1j5cqV9OrVq/AnKkmSJElSPRR7DoeqnAfcHBE/A54Grm2EGApq6NChnHPOOZSVlbFkyZI6HdOuXbuKx61bt2bVqlXrvN+pp57KL37xC3bbbTdOPvnkekYvSZIkSVLhNUjCIaVUBpRlj+cDDTPwuoGMHj2azTffnF69elFWVlaxfv/99+fGG2/kggsuoKysjC5durDppptWW06nTp1YtmxZvesfMGAAr776KjNnzmTOnDnrcgqSJEmSJBVUY/RwaHa22247xowZ85n148ePZ/To0fTu3ZsOHTowadKkGsvp3LkzgwYNomfPnhx22GEcfvjhdY7hK1/5CrNmzWKLLbaod/yqu0LfDaUqdblDiqSmz4lCJUlSc9dsEg6N8SFt+fLln1k3ePBgBg8eDMCWW27JnXfe+Zl9xo8fv9bys88+W/H4pptu+kx55a688sqKx/k9KSA3X8RZZ51Vt8AlSZIkSSqyYt6lQg3g3XffpXv37rRv356DDjqoscORJEmSJAloRj0cWqrNN9+cf//7340dhiRJkiRJa7GHgyRJkiRJKjgTDpIkSZIkqeCa5ZCKD+Y+X/Q6Ntlj96LXofqp3O4fv7GI6SNPKmwlh32vsOVJkiRJUjNlDwdJkiRJklRwJhzW05133klEMG/evAatt6SkhMWLFzdonZIkSZIk1VWzGVLx1T8fX9Dyruk/rk77TZ48mf3224/Jkydz4YUXFjQGSZIkSZKaKns4rIfly5czdepUrr32Wm6++WYAysrKGDx4MMOHD2e33XZjxIgRpJSAXK+EcePGseeee9KrV6+KXhHjx4/n0ksvrSi3Z8+eLFiwAICjjjqK/v3706NHD66++uqGPUFJkiRJktaRCYf1cNddd3HooYfSvXt3OnfuzIwZMwB4+umnufzyy5k7dy7z58/n8ccfrzimS5cuzJw5k9NPP32tJEN1JkyYwIwZM5g+fTpXXHEFS5YsKdr5SJIkSZJUKM1mSEVjmDx5MmeeeSYAxx9/PJMnT+aII45g7733ZrvttgOgb9++LFiwgP322w+Ao48+GoD+/ftz++2311rHFVdcwR133AHAq6++yosvvkjnzp2LcTqSJEmSpHVQ6CH+1Rlw34FFr+PMm75RsLJMOKyjpUuX8vDDD/PMM88QEaxevZqI4PDDD6ddu3YV+7Vu3ZpVq1ZVLJdvy1/fpk0b1qxZU7HPihUrgNzwjClTpvDEE0/QoUMHBg8eXLFNkiRJkqQNmUMq1tFtt93GyJEjeeWVV1iwYAGvvvoq3bp147HHHqt3WSUlJcycOROAmTNn8p///AeA9957jy222IIOHTowb948nnzyyYKegyRJkiRJxWLCYR1NnjyZL3/5y2utO+aYY5g8eXK9yzrmmGNYunQpPXr04Morr6R79+4AHHrooaxatYrdd9+dsWPHMnDgwILELkmSJElSsTWbIRU3jby54vEHc58ven2PPPLIZ9aNGTOGMWPGrLXuyiuvrHhcfucJgNLSUsrKygBo3749DzzwQJX13HfffVWuzy9LkiRJkqQNjT0cJEmSJElSwTWbHg6SpJr95qt/LHodhZzVWJKkpqoh7lgwgOLfrUBaX/ZwkCRJkiRJBWfCQZIkSZIkFZwJB0mSJEmSVHAmHCRJkiRJUsE5aeR6aN26Nb169WLVqlXsvvvuTJo0iQ4dOjR2WACUlZWx0UYbse+++35m2913383cuXMZO3ZsQeucOHEi06dPX+tWoJIkqWE5QawkaUPRbBIOhb64nnr+AbXu0759e2bNmgXAiBEjuOqqqzj77LMLGse6Kisro2PHjlUmHIYOHcrQoUMbISpJkiRJUkvhkIoC2X///XnppZf461//yoABA+jXrx9f/OIXefPNN1mzZg277LILb7/9NgBr1qxh55135u2332bUqFGcfvrpDBw4kJ122omysjJGjx7N7rvvzqhRoyrKf+CBB9hnn33Yc889OfbYY1m+fDkAJSUljBs3jj333JNevXoxb948FixYwFVXXcVll11G3759eeyxx9aKdeLEiXz7298GYNSoUYwZM4Z9992XnXbaidtuu63K8zvqqKPo378/PXr04Oqrr65Yf91119G9e3f23ntvHn/8cQDee+89dtxxR9asWQPABx98wPbbb8/KlSu55ppr2GuvvejTpw/HHHMMH374Ya1xXHzxxfTq1Ys+ffpU9Mp4+eWXOfTQQ+nfvz/7778/8+bNW+e2kyRJkiQVngmHAli1ahX33XcfvXr1Yr/99uPJJ5/k6aef5vjjj+eXv/wlrVq14sQTT+TGG28EYMqUKfTp04euXbsC8M477/DEE09w2WWXMXToUM466yyee+45nnnmGWbNmsXixYv52c9+xpQpU5g5cyalpaX8+te/rqi/S5cuzJw5k9NPP51LL72UkpISvvnNb3LWWWcxa9Ys9t9//xrjX7RoEVOnTuWee+6pdpjFhAkTmDFjBtOnT+eKK65gyZIlLFq0iHHjxvH4448zdepU5s6dC8Bmm21G3759+cc//gHAPffcwyGHHELbtm05+uijeeqpp5g9eza777471157bY1x3Hfffdx1113861//Yvbs2Xz/+98H4LTTTuO3v/0tM2bM4NJLL+Vb3/rWujSdJEmSJKlIms2Qisbw0Ucf0bdvXyDXw+GUU07hhRde4LjjjmPRokV88skndOvWDYDRo0czbNgwvvvd7zJhwgROPvnkinKOPPJIIoJevXqx9dZb06tXLwB69OjBggULWLhwIXPnzmXQoEEAfPLJJ+yzzz4Vxx999NEA9O/fn9tvv73e53HUUUfRqlUr9thjD958880q97niiiu44447AHj11Vd58cUXeeONNxg8eHBF4uS4447j3//+d8XjW265hQMPPJCbb765IiHw7LPPcv755/Puu++yfPlyDjnkkBrjmDJlCieffHLF3Bhbbrkly5cv55///CfHHntsxbEff/xxvc9bkiRJklQ8JhzWQ/4cDuW+853vcPbZZzN06FDKysoYP348ANtvvz1bb701Dz/8MNOmTavo7QDQrl07AFq1alXxuHx51apVtG7dmoMPPpjJkydXGUf5Ma1bt2bVqlX1Po/8OlNKn9leVlbGlClTeOKJJ+jQoQODBw9mxYoVNZY5dOhQfvjDH7J06VJmzJjBkCFDgNzQiTvvvJM+ffowceJEysrK6hxHuTVr1rD55pt/5rn/YO7zNcYkSZIkSWo4JhwK7L333uNzn/scAJMmTVpr26mnnsqJJ57IyJEjad26dZ3LHDhwIGeccQYvvfQSO++8Mx988AGvvfYa3bt3r/aYTp068f7779ep/HfffJ835+fml0gpVTwu98oL/6VDu01Y9sYHzHx5Fk8+8SRLX3+XnXfamYcfeoTnZ7xAp46duOnPN7HH7j0qju+1R2++cco3GHLAQRXnu2zZMrbZZhtWrlzJjTfeWPFcVefggw/mJz/5CSNGjKBDhw4sXbqULbfckm7dunHrrbdy7LHHklJizpw57Nx2ozqdryS1FN6tQKrZoRfcUvQ6tux+R9HruGnkzUWvQ5LWhXM4FNj48eM59thj6d+/P126dFlr29ChQ1m+fPlawynqomvXrkycOJETTjiB3r17s88++9Q6SeKRRx7JHXfcUeWkkfV14AFDWLVqFfv/7yB+/sufsme//gBsvdXWnHPmuRwx/Esc+ZUj2OXzaydAhh1+FLfdeRvDDj+qYt1Pf/pTBgwYwKBBg9htt91qrfvQQw9l6NChlJaW0rdvXy699FIAbrzxRq699lr69OlDjx49uOuuu9brHCVJkiRJhdVsejjkf8PSUF3ry+8UkW/YsGEMGzasyv1nz55Nnz591vqgPXHixIrHJSUlPPvss1VuGzJkCE899dRnylywYEHF49LS0oohCt27d2fOnDlVxjFq1KiKO2BMnDhxrR4N859Z8Jn927Vrx+Trqs6cnzD8BE4YfkKV24487EjeePmttdadfvrpnH766Z/ZN/9cYe3nduzYsZ+ZzLJbt27cf//9a61zSIUkSZIkbTiaTcJhQ3fRRRfxhz/8Ya25GyRJkiRJaq4cUtFAxo4dyyuvvMJ+++3X2KFIkiRJklR0JhwkSZIkSVLBNekhFSklIqKxw9AGKKUENdxaU5KkxvDVPx9f9DoGcGDR65Casoa5O0nRq5CahCbbw2HjjTdmyZIluQ+WUp6UEu998glp4WuNHYokSZIktVhNtofDdtttx8KFC3n77bc/s+3jNxYVvf52zahjxfuLlxW9jqUfLy56HRXtnhJp4Wusnjip6HVKkiRJkqrWZBMObdu2pVu3blVumz7ypKLX33f6tKLX0VB+89U/Fr2O/NuWFktDtLskSZIkqW6a7JAKSZIkSZK04TLhIEmSJEmSCq7JDqloKZzNWpIkSZLUFNnDQZIkSZIkFZwJB0mSJEmSVHAmHCRJkiRJUsGZcJAkSZIkSQXnpJGSVItDL7il6HVs2b3oVUiSJEkNyh4OkiRJkiSp4OqVcIiIVhGxaR333TgipkXE7Ih4LiIuzNZ3i4h/RcRLEXFLRGy0LoFLkiRJkqQNV60Jh4i4KSI2jYhNgGeBuRFxbh3K/hgYklLqA/QFDo2IgcDFwGUppZ2Bd4BT1jl6SZIkSZK0QapLD4c9UkrvA0cB9wHdgJG1HZRylmeLbbOfBAwBbsvWT8rKlSRJkiRJzUhdEg5tI6ItucTA3SmlleQSB7WKiNYRMQt4C3gQeBl4N6W0KttlIfC5+gYtSZIkSZI2bHVJOFwFLAA2AR6NiB2B9+tSeEppdUqpL7AdsDewW10Di4jTImJ6REx/++2363qYJEmSJEnaANSYcIiIVsCbKaXPpZS+lFJKwH+BA+tTSUrpXeARYB9g84govx3ndsBr1RxzdUqpNKVU2rVr1/pUJ0mSJEmSGlmNCYeU0hrg+5XWpbwhEdWKiK4RsXn2uD1wMPA8ucTD8Gy3k4C76h+2JEmSJEnakLWpfRemRMQ5wC3AB+UrU0pLazluG2BSRLQml9j4v5TSPRExF7g5In4GPA1cu26hS5IkSZKkDVVdEg7HZb/PyFuXgJ1qOiilNAfoV8X6+eTmc5AkSZIkSc1UrQmHlFK3hghEkiRJkiQ1H7XepSIiOkTE+RFxdba8S0QcUfzQJEmSJElSU1WX22JeB3wC7Jstvwb8rGgRSZIkSZKkJq8uCYfPp5R+CawESCl9CERRo5IkSZIkSU1aXRIOn2S3tUwAEfF54OOiRiVJkiRJkpq0utylYhxwP7B9RNwIDAJGFTMoSZIkSZLUtNXlLhUPRsRMYCC5oRRnppQWFz0ySZIkSZLUZNWacIiIQcCslNK9EXEi8MOI+E1K6ZXihydJkqSWaHrp3sWv5LDvFb8OSWrB6jKHwx+ADyOiD3A28DJwfVGjkiRJkiRJTVpdEg6rUkoJGAb8LqX0O6BTccOSJEmSJElNWV0mjVwWET8ATgQOiIhWQNvihiVJkiRJkpqyuvRwOI7cbTBPSSm9AWwHXFLUqCRJkiRJUpNWl7tUvAH8Om/5vziHgyRJkrRB+M1X/9gg9Zx50zcapB5JzUe1CYeIWAakvFUJWAw8ApyXUlpS5NgkSZIkSVITVe2QipRSp5TSpnk/mwGlwHPAVQ0WoSRJkiRJanLqModDhZTSOymly4DPFykeSZIkSZLUDNQr4QAQEW2p290tJEmSJElSC1XTHA5HV7F6C3J3rbitaBFJkiRJkqQmr6aeCkdWWk7AEuA3KaV7ixeS1LJ99c/HF72Om0beXPQ6JKmQppfuXfQ6zj/se0WvY8vuRa9CkqQNRrUJh5TSyQ0ZiCRJkiRJaj7qPYeDJEmSJElSbUw4SJIkSZKkgqs24RARZ2a/BzVcOJIkSZIkqTmoqYdD+RwOv22IQCRJkiRJUvNR010qno+IF4FtI2JO3voAUkqpd3FDkyRJkiRJTVVNd6k4ISL+B/g7MLThQpIkSZIkSU1dTT0cSCm9AfSJiI2A8jtHv5BSWln0yCRJkiRJUpNVY8IBICK+AFwPLCA3nGL7iDgppfRokWOTJEmSJElNVK0JB+DXwP+mlF4AiIjuwGSgfzEDkyRJkiRJTVdNd6ko17Y82QCQUvo30LZ4IUmSJEmSpKauLj0cpkfEn4AbsuURwPTihdQ0HHrBLQ1Sz5bda99HklRYDfEe7/u7JElq7uqScDgdOAMYky0/Bvy+aBFJkiRJkqQmr9aEQ0rpY3LzOPy6+OFIkiRJkqTmoC5zOEiSJEmSJNWLCQdJkiRJklRwdZnDAYCI6AiQUlpevHAkNYTffPWPRa/jzJu+UfQ6JEmSJG24au3hEBG9IuJp4DlgbkTMiIiexQ9NkiRJkiQ1VXUZUvFH4OyU0o4ppR2A7wFXFzcsSZIkSZLUlNUl4bBJSumR8oWUUhmwSdEikiRJkiRJTV5d5nCYHxEXAH/Olk8E5hcvJEmSJEmS1NTVpYfDaKArcHv20zVbJ0mSJEmSVKVaeziklN4BxjRALJIkSZIkFdShF9xS9Dq27F70KpqkWhMOEdEdOAcoyd8/pTSkeGFJkiRJkqSmrC5zONwKXAX8CVhd3HAkSZIkSVJzUJeEw6qU0h+KHokkSZIkSWo26jJp5F8j4lsRsU1EbFn+U/TIJEmSJElSk1WXHg4nZb/PzVuXgJ0KH44kSZIkSWoO6nKXim4NEYgkSZIkSWo+6jKkQpIkSZIkqV6KlnCIiO0j4pGImBsRz0XEmdn6LSPiwYh4Mfu9RbFikCRJkiRJjaOYPRxWAd9LKe0BDATOiIg9gLHAQymlXYCHsmVJkiRJktSMVDuHQ0TsWdOBKaWZtWxfBCzKHi+LiOeBzwHDgMHZbpOAMuC8OkcsSZIkSZI2eDVNGvmrGrYlYEhdK4mIEqAf8C9g6ywZAfAGsHVdy5EkSZIkSU1DtQmHlNKBhaggIjoCfwG+m1J6PyLy60gRkao57jTgNIAddtihEKFIkpqB6aV7F7+Sw75X/DokSZKauVpviwkQET2BPYCNy9ellK6vw3FtySUbbkwp3Z6tfjMitkkpLYqIbYC3qjo2pXQ1cDVAaWlplUkJSZIkSZK0Yap10siIGAf8Nvs5EPglMLQOxwVwLfB8SunXeZvuBk7KHp8E3FXPmCVJkiRJ0gauLnepGA4cBLyRUjoZ6ANsVofjBgEjgSERMSv7+RJwEXBwRLwIfDFbliRJkiRJzUhdhlR8lFJaExGrImJTckMgtq/toJTSVCCq2XxQPWKUJEmSJElNTF0SDtMjYnPgGmAGsBx4ophBSZIkSZKkpq3WhENK6VvZw6si4n5g05TSnOKGJUmSJEmSmrK6TBr5UPnjlNKClNKc/HWSJEmSJEmVVdvDISI2BjoAXSJiCz6dj2FT4HMNEJskSZIkSWqiahpS8Q3gu8C2wMy89e8DVxYxJkmSJEmS1MRVm3BIKf0G+E1EfCel9NsGjEmSJEmSJDVxdblLxR8jYgxwQLZcBvwxpbSyaFFJkiRJkqQmrS4Jh98DbbPfACOBPwCnFisoSZIkSZLUtNU0aWSblNIqYK+UUp+8TQ9HxOzihyZJkiRJkpqqmm6LOS37vToiPl++MiJ2AlYXNSpJkiRJktSk1TSkovw2mOcAj0TE/Gy5BDi5mEFJkiRJkqSmraaEQ9eIODt7/EegdfZ4NdAPeKSYgUmSJEmSpKarpoRDa6Ajn/Z0yD+mU9EikiRJkiRJTV5NCYdFKaWfNFgkkiRJkiSp2ahp0sjKPRskSZIkSZLqpKaEw0ENFoUkSZIkSWpWqk04pJSWNmQgkiRJkiSp+aiph4MkSZIkSdI6MeEgSZIkSZIKzoSDJEmSJEkqOBMOkiRJkiSp4Ew4SJIkSZKkgjPhIEmSJEmSCs6EgyRJkiRJKjgTDpIkSZIkqeBMOEiSJEmSpIIz4SBJkiRJkgrOhIMkSZIkSSo4Ew6SJEmSJKngTDhIkiRJkqSCM+EgSZIkSZIKzoSDJEmSJEkqOBMOkiRJkiSp4Ew4SJIkSZKkgjPhIEmSJEmSCs6EgyRJkiRJKjgTDpIkSZIkqeBMOEiSJEmSpIIz4SBJkiRJkgrOhIMkSZIkSSo4Ew6SJEmSJKngTDhIkiRJkqSCM+EgSZIkSZIKzoSDJEmSJEkqOBMOkiRJkiSp4Ew4SJIkSZKkgjPhIEmSJEmSCs6EgyRJkiRJKriiJRwiYkJEvBURz+at2zIiHoyIF7PfWxSrfkmSJEmS1HiK2cNhInBopXVjgYdSSrsAD2XLkiRJkiSpmSlawiGl9CiwtNLqYcCk7PEk4Khi1S9JkiRJkhpPQ8/hsHVKaVH2+A1g6wauX5IkSZIkNYBGmzQypZSAVN32iDgtIqZHxPS33367ASOTJEmSJEnrq6ETDm9GxDYA2e+3qtsxpXR1Sqk0pVTatWvXBgtQkiRJkiStv4ZOONwNnJQ9Pgm4q4HrlyRJkiRJDaCYt8WcDDwB7BoRCyPiFOAi4OCIeBH4YrYsSZIkSZKamTbFKjildEI1mw4qVp2SJEmSJGnD0GiTRkqSJEmSpObLhIMkSZIkSSo4Ew6SJEmSJKngTDhIkiRJkqSCM+EgSZIkSZIKzoSDJEmSJEkqOBMOkiRJkiSp4Ew4SJIkSZKkgjPhIEmSJEmSCs6EgyRJkiRJKjgTDpIkSZIkqeBMOEiSJEmSpIIz4SBJkiRJkgrOhIMkSZIkSSo4Ew6SJEmSJKngTDhIkiRJkqSCM+EgSZIkSZIKzoSDJEmSJEkqOBMOkiRJkiSp4Ew4SJIkSZKkgjPhIEmSJEmSCs6EgyRJkiRJKjgTDpIkSZIkqeBMOEiSJEmSpIIz4SBJkiRJkgrOhIMkSZIkSSo4Ew6SJEmSJKngTDhIkiRJkqSCM+EgSZIkSZIKzoSDJEmSJEkqOBMOkiRJkiSp4Ew4SJIkSZKkgjPhIEmSJEmSCs6EgyRJkiRJKjgTDpIkSZIkqeBMOEiSJEmSpIIz4SBJkiRJkgrOhIMkSZIkSSo4Ew6SJEmSJKngTDhIkiRJkqSCM+EgSZIkSZIKzoSDJEmSJEkqOBMOkiRJkiSp4Ew4SJIkSZKkgjPhIEmSJEmSCs6EgyRJkiRJKjgTDpIkSZIkqeBMOEiSJEmSpIIz4SBJkiRJkgquURIOEXFoRLwQES9FxNjGiEGSJEmSJBVPgyccIqI18DvgMGAP4ISI2KOh45AkSZIkScXTGD0c9gZeSinNTyl9AtwMDGuEOCRJkiRJUpE0RsLhc8CrecsLs3WSJEmSJKmZiJRSw1YYMRw4NKV0arY8EhiQUvp2pf1OA07LFncFXmjQQDccXYDFjR2EGpRt3jLZ7i2Pbd4y2e4tj23eMtnuLU9LbvMdU0pdq9rQpqEjAV4Dts9b3i5bt5aU0tXA1Q0V1IYqIqanlEobOw41HNu8ZbLdWx7bvGWy3Vse27xlst1bHtu8ao0xpOIpYJeI6BYRGwHHA3c3QhySJEmSJKlIGryHQ0ppVUR8G/g70BqYkFJ6rqHjkCRJkiRJxdMYQypIKf0N+Ftj1N0EtfhhJS2Qbd4y2e4tj23eMtnuLY9t3jLZ7i2PbV6FBp80UpIkSZIkNX+NMYeDJEmSJElq5kw4rIOISBHxq7zlcyJifIHKnpjdOrTy+tKIuKIQdah4ImJ1RMzK+ykpYl0LIqJLscrXWu35bETcGhEdath3VERc2ZDx5dU9OCLuaYy6m5OI2DoiboqI+RExIyKeiIgvF6DcdWqfiLgkIp7Lfo+PiHNq2b/a64TvF/WX9/c/OyJmRsS+2fptI+K2BqjfNmtEEXFU9v/ebg1QV1lEOLN9E5C9Jm7IW24TEW/X9h7vdbrhbGjXcplwWFcfA0c35D8CKaXpKaUxhSgrIloXohxV6aOUUt+8nwWNHZDWS3l79gQ+Ab7Z2AEVQkQ0yvw9G7KICOBO4NGU0k4ppf7k7qK0XSPEUt4+pwG9U0rn1uW4Ql4nBHz6998H+AHw/wBSSq+nlD7zxUBj89pecCcAU7PfGxTbulF9APSMiPbZ8sHAa40Yj/JsoNfyZl1nXZhwWDeryE0KclblDRFREhEPR8SciHgoInbI1k+MiCsi4p9Zxq2mf1a+GBHTI+LfEXFEdnxFVi37pmtClhGfHxEV/2BGxJ1ZNu+5iDgtb/3yiPhVRMwGfhQRd+ZtOzgi7ljP50TViIj+EfGPrF3+HhHbZOvLIuKyrK2fj4i9IuL2iHgxIn6Wd3yVbVqpjhMjYlr2bdwf/WekKB4Ddo6ILbM2mRMRT0ZE7/ydIqJTRPwnItpmy5uWL2dtPCdrp0si4tlsn9bZ8lPZ9m9k6wdnr5PbImJeRNyYXUyJiEOzdTOBo/Pq3yR7f5gWEU9HxLBs/aiIuDsiHgYeapBnrGkZAnySUrqqfEVK6ZWU0m8bo30i4m6gIzAjIo7LDzTyvg2NiC4RsSAvnvLrROeIeCB73/gTEEV75lqGTYF3oOI6X/632yEi/i8i5kbEHRHxr7y2+d/IfbM2M3I9pDpm6xdExIXZ+mci+wa9pjar7j0+1r6279Ogz0gzlrXVfsAp5D6sEBGtIuL32d/1gxHxt8j+l4uar/MXZ23374jYP1vfPiJujty1/w6gfV7dNb1uLs7eU45t0CdElf0NODx7fAIwuXxDROydtd/Tkfuff9fKB1d3HVBBbGjX8rX+1itdI5bnlTc8IiZmj7tGxF+yOJ+KiEH1qbOoz+46MuGw7n4HjIiIzSqt/y0wKaXUG7gRyO/eug25C9gRwEU1lF0C7E3uzeyqiNi4in12Aw7J9hsX2YcbYHSWzSsFxkRE52z9JsC/sm9qfgrsFhFds20nAxNqOV/VTfv4dDjFHVm7/BYYnrXLBODneft/klIqBa4C7gLOAHoCo/Larro2BSAidgeOAwallPoCq4ERxTvFlidyGePDgGeAC4Gns7/xHwLX5++bUloGlPHpPyPHA7enlFYC1wHfyGuncqcA76WU9gL2Ar4eEd2ybf2A7wJ7ADsBg7L3hGuAI4H+wP/klfUj4OGU0t7AgcAlEbFJtm1Pcq/FL6zzk9F89QBmVrOtwdsnpTSUT79hv2UdzmccMDWl1AO4A9hhHcpo6crfz+cBfyJ37azsW8A7KaU9gAvItTeR6wF5PvDFlNKewHTg7LzjFmfr/wCUD5Wpss1qeY+vuLanlKYW5rQFDAPuTyn9G1gSEf3JfdgoIfe3PpIswVOH63yb7O/9u+TaGOB04MOU0u7Zurq+bpaklPZMKd1c8DNWfdwMHJ+91/cG/pW3bR6wf0qpH/Bj4BdVHF/TdUDrZ4O6llPN33otfgNclsV5DLnrT33q3OBskN0umoKU0vsRcT0wBvgob9M+fJoB+zPwy7xtd6aU1gBzI2LrGor/v2y/FyNiPrnkQmX3ppQ+Bj6OiLeArYGF5D6Qlo9T2h7YBVhC7h+Uv2Sxp4j4M3BiRFyXxfy1up67avRR9g8hABHRk1wC4cEsWdoaWJS3/93Z72eA51JKi7Lj5pNrvyVU36blDiL3BvZUVkd74K2CnlXL1T4iZmWPHwOuJfePxTEAKaWHI/et5KaVjvsT8H1y3fpOJndR2xzolFJ6ItvnJnLJR4D/BXrHpz2fNiPXzp8A01JKCwGyWEqA5cB/UkovZutvINf9vrysofHpeP+N+fTD5oMppaXr8kS0NBHxO3IJ4k+AV2h67XMA2bUopXRvRLxToHJbkor384jYB7g+e0/Ptx+5fw5JKT0bEXOy9QPJ/eP6ePa+vBHwRN5xt2e/Z/Dp/wzVtVlN7/EV13YV1Alk7Uruw+UJ5P5nvjX7/+yNiHgk274rNV/n89u6JHt8ANkXUimlOfV43axL8lEFlrVZCbnXxd8qbd4MmBQRuwAJaMtnVXcdeL44EbdcG8C1vLq/9Zp8Edgjew8A2DRyPZ2a7P93JhzWz+XksmjX1XH/j/Mel3fV+TnZN6F5H1Qr36u0qnuX5pe1GmgTEYPJvUj3SSl9GBFl5F6MACtSSvnfqF4H/BVYQe4CuqqO56D6CXKJhOq6upa34xrWbtM11N6m+XVMSin9oFBBq8JaCSSAvAtAtVJKj0eu2/VgoHX2QWTzGg4J4Dsppb9XqmswVfyt11J9AMeklF6oVNYAcmNPVbXnyBJJACmlM7JvG6cD/2XDap9VfNpDsaoecCqwlNIT2euha6075wS5fwCrG/9f/rqp62umuvf4ytd2raeI2JJct+xeEZHIJRASuV4nVR5C3a7zdW3rml43vodvOO4GLgUGA/k9T38KPJJS+nKWlCir4tgqrwMqiKZ0Lc//fJd/LW8FDEwprahUdpP9/84hFeshyyT9H7kuOuX+STbej1yXx8dqKeNHWZfZvnmrj43cWMHPk+vWU9c3pM3Ide38MHJjQgfWUO/rwOvkuu7VNWGi+nsB6Jp9O0bkxvH3qMfxdWnTh4DhEbFVVseWEbHj+gauaj1G1p05u0gtTim9X8V+15PrxXAdQErpXWBZdmGAT98nAP4OnB6fzvvQvZbulfOAkuw9Atae1OzvwHeyCxMR0a/OZ9ayPQxsHBGn560rvyvJhtY+C/i0W2Z18wE9Cnw1q+MwYIt1qEeZ7P23NWv3LgN4HPhKts8eQK9s/ZPkuuTunG3bJCK611JNdW3me3zDGg78OaW0Y0qpJKW0PfAfYClwTPb/2dbkPmjCul3n89u6J7lu+bBurxs1jgnAhSmlZyqt34xPJ5EcVc2xXqeLZ0O7llf3tw7wZkTsHhGtgPy7aDwAfKd8ISL61rPODY4Jh/X3KyD/bhXfAU7OusyMBM5chzL/C0wD7gO+WTnDVYP7yX0r/jy5OSKerGX/G4FXU0p24SqSlNIn5P55uThyk3rNAvatRxG1tmlKaS65xNED2evuQXLzhag4xgP9s+f6IuCkava7kdwHhsl5604Brsm6620CvJet/xMwF5gZucno/kgN2fXsPeE04N7ITWSUP4Tmp+S6cM6JiOeoety5KkkpJeAo4AuRm+RzGjAJOI8Nr30uJfdP09Osff3JdyFwQFbH0eSuK6qfijl5yHVlP6mK3gS/J/dhcy7wM3Lfrr2XUnqb3IeNydl7xRNUPTwyX5Vt5nt8gzuBz/Zm+Au58dsLyb0X3ECuh+t763id/wPQMbu2/4TccAvW8XWjRpBSWphSquo2xL8E/l/2/lzddcLrdJFsgNfyKv/WM2OBe8h9WZ0/DGsMUBq5iS3n8ukd0prs6yZy7aKWKCKuJDf53bWNHYvU3ERujOCwlNLIvHUdU0rLs8djgW1SSuuSlJS0AYjc3SLappRWZN+CTQF2zT6Eqpkpfw+P3OTN08hN5PlGY8clqWmI3NDoc1JK0xs7lobkHA4tVETMIDfe53uNHYvU3ETEb8nd1eJLlTYdHhE/IPfe+wrVd7eU1DR0AB7JuugG8C2TDc3aPZGbj2cj4KcmGySpdvZwkCRJkiRJBeccDpIkSZIkqeBMOEiSJEmSpIIz4SBJkiRJkgrOhIMkSWp0ETExu7uLJElqJkw4SJKkJicivNOWJEkbOBMOkiSpXiLigoh4ISKmRsTkiDgnIj4fEfdHxIyIeCwidsv2nRgRV0TEPyNifnkvhsi5MitnCrBVXvn9I+IfWVl/j4htsvVlEXF5REwHzmyMc5ckSXXntwOSJKnOImIv4BigD9AWmAnMAK4GvplSejEiBgC/B4Zkh20D7AfsBtwN3AZ8GdgV2APYGpgLTIiItsBvgWEppbcj4jjg58DorKyNUkqlRT9RSZK03kw4SJKk+hgE3JVSWgGsiIi/AhsD+wK3RkT5fu3yjrkzpbQGmBsRW2frDgAmp5RWA69HxMPZ+l2BnsCDWVmtgUV5Zd1ShHOSJElFYMJBkiStr1bAuymlvtVs/zjvcVSzT/7251JK+1Sz/YN6xiZJkhqJczhIkqT6eBw4MiI2joiOwBHAh8B/IuJYqJifoU8t5TwKHBcRrbM5Gg7M1r8AdI2IfbKy2kZEj6KciSRJKioTDpIkqc5SSk+Rm4dhDnAf8AzwHjACOCUiZgPPAcNqKeoO4EVyczdcDzyRlf8JMBy4OCtrFrnhGpIkqYmJlFJjxyBJkpqQiOiYUloeER3I9VQ4LaU0s7HjkiRJGxbncJAkSfV1dUTsQW6yyEkmGyRJUlXs4SBJkiRJkgrOORwkSZIkSVLBmXCQJEmSJEkFZ8JBkiRJkiQVnAkHSZIkSZJUcCYcJEmSJElSwZlwkCRJkiRJBff/AU3c8Dmafo3zAAAAAElFTkSuQmCC",
       "datasetInfos": [],
       "metadata": {
        "imageDimensions": {
         "height": 333,
         "width": 1052
        }
       },
       "removedWidgets": [],
       "type": "image"
      },
      "image/png": {
       "height": 333,
       "width": 1052
      }
     },
     "output_type": "display_data"
    },
    {
     "data": {
      "text/html": [
       "<style scoped>\n",
       "  .ansiout {\n",
       "    display: block;\n",
       "    unicode-bidi: embed;\n",
       "    white-space: pre-wrap;\n",
       "    word-wrap: break-word;\n",
       "    word-break: break-all;\n",
       "    font-family: \"Source Code Pro\", \"Menlo\", monospace;;\n",
       "    font-size: 13px;\n",
       "    color: #555;\n",
       "    margin-left: 4px;\n",
       "    line-height: 19px;\n",
       "  }\n",
       "</style>\n",
       "<div class=\"ansiout\">Text(0, 0.5, &#39;Total no of Users&#39;)</div>"
      ]
     },
     "metadata": {
      "application/vnd.databricks.v1+output": {
       "addedWidgets": {},
       "arguments": {},
       "data": "<div class=\"ansiout\">Text(0, 0.5, &#39;Total no of Users&#39;)</div>",
       "datasetInfos": [],
       "metadata": {},
       "removedWidgets": [],
       "type": "html"
      }
     },
     "output_type": "display_data"
    }
   ],
   "source": [
    "\n",
    "plt.figure(figsize=(18,5))\n",
    "sns.countplot(x='gender',data=df,hue='subscription_term', palette='Set1')\n",
    "plt.title(\"Gender Type & subscription_term\")\n",
    "plt.ylabel('Total no of Users')"
   ]
  },
  {
   "cell_type": "markdown",
   "metadata": {
    "application/vnd.databricks.v1+cell": {
     "inputWidgets": {},
     "nuid": "9908e317-df59-4ae2-a376-a9d44075fa74",
     "showTitle": false,
     "title": ""
    }
   },
   "source": [
    "Plot the histogram to check the Subscription status and payment method\n",
    "\n",
    "    Active users  are mostly use Google pay and least users use payment method Debit Card\n",
    "    \n",
    "    Most block users use thier payment method is Cheques\n",
    "    \n",
    "    Subscribers who are idel,most uses Bitcoins"
   ]
  },
  {
   "cell_type": "code",
   "execution_count": 0,
   "metadata": {
    "application/vnd.databricks.v1+cell": {
     "inputWidgets": {},
     "nuid": "a6ac32fd-5b7b-4186-9efd-0f7965d7360a",
     "showTitle": false,
     "title": ""
    }
   },
   "outputs": [
    {
     "data": {
      "text/html": [
       "<style scoped>\n",
       "  .ansiout {\n",
       "    display: block;\n",
       "    unicode-bidi: embed;\n",
       "    white-space: pre-wrap;\n",
       "    word-wrap: break-word;\n",
       "    word-break: break-all;\n",
       "    font-family: \"Source Code Pro\", \"Menlo\", monospace;;\n",
       "    font-size: 13px;\n",
       "    color: #555;\n",
       "    margin-left: 4px;\n",
       "    line-height: 19px;\n",
       "  }\n",
       "</style>\n",
       "<div class=\"ansiout\">Out[54]: </div>"
      ]
     },
     "metadata": {
      "application/vnd.databricks.v1+output": {
       "addedWidgets": {},
       "arguments": {},
       "data": "<div class=\"ansiout\">Out[54]: </div>",
       "datasetInfos": [],
       "metadata": {},
       "removedWidgets": [],
       "type": "html"
      }
     },
     "output_type": "display_data"
    },
    {
     "data": {
      "image/png": "[encoded data removed]"
     },
     "metadata": {
      "application/vnd.databricks.v1+output": {
       "addedWidgets": {},
       "arguments": {},
       "data": "data:image/png;base64,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",
       "datasetInfos": [],
       "metadata": {
        "imageDimensions": {
         "height": 334,
         "width": 1052
        }
       },
       "removedWidgets": [],
       "type": "image"
      },
      "image/png": {
       "height": 334,
       "width": 1052
      }
     },
     "output_type": "display_data"
    },
    {
     "data": {
      "text/html": [
       "<style scoped>\n",
       "  .ansiout {\n",
       "    display: block;\n",
       "    unicode-bidi: embed;\n",
       "    white-space: pre-wrap;\n",
       "    word-wrap: break-word;\n",
       "    word-break: break-all;\n",
       "    font-family: \"Source Code Pro\", \"Menlo\", monospace;;\n",
       "    font-size: 13px;\n",
       "    color: #555;\n",
       "    margin-left: 4px;\n",
       "    line-height: 19px;\n",
       "  }\n",
       "</style>\n",
       "<div class=\"ansiout\">Text(0, 0.5, &#39;Total no of Users&#39;)</div>"
      ]
     },
     "metadata": {
      "application/vnd.databricks.v1+output": {
       "addedWidgets": {},
       "arguments": {},
       "data": "<div class=\"ansiout\">Text(0, 0.5, &#39;Total no of Users&#39;)</div>",
       "datasetInfos": [],
       "metadata": {},
       "removedWidgets": [],
       "type": "html"
      }
     },
     "output_type": "display_data"
    }
   ],
   "source": [
    "plt.figure(figsize=(18,5))\n",
    "sns.countplot(x='subscription_status',data=df,hue='subscription_payment_method', palette='Set2')\n",
    "plt.title(\"subscription_status & subscription_payment_method\")\n",
    "plt.ylabel('Total no of Users')"
   ]
  },
  {
   "cell_type": "markdown",
   "metadata": {
    "application/vnd.databricks.v1+cell": {
     "inputWidgets": {},
     "nuid": "14309c88-b0f9-41e4-b28a-38c14a5a6ec7",
     "showTitle": false,
     "title": ""
    }
   },
   "source": [
    "Pie chart for show the total distribution of no users by subscription status\n",
    "\n",
    "    According to the pie chart 50% of users  subscription status is Idle and Pending\n",
    "    \n",
    "    23% users are Idle and 27% users are Active users"
   ]
  },
  {
   "cell_type": "code",
   "execution_count": 0,
   "metadata": {
    "application/vnd.databricks.v1+cell": {
     "inputWidgets": {},
     "nuid": "23f27756-0409-4d73-a682-999da07a25e3",
     "showTitle": false,
     "title": ""
    }
   },
   "outputs": [
    {
     "data": {
      "text/html": [
       "<style scoped>\n",
       "  .ansiout {\n",
       "    display: block;\n",
       "    unicode-bidi: embed;\n",
       "    white-space: pre-wrap;\n",
       "    word-wrap: break-word;\n",
       "    word-break: break-all;\n",
       "    font-family: \"Source Code Pro\", \"Menlo\", monospace;;\n",
       "    font-size: 13px;\n",
       "    color: #555;\n",
       "    margin-left: 4px;\n",
       "    line-height: 19px;\n",
       "  }\n",
       "</style>\n",
       "<div class=\"ansiout\">Out[55]: </div>"
      ]
     },
     "metadata": {
      "application/vnd.databricks.v1+output": {
       "addedWidgets": {},
       "arguments": {},
       "data": "<div class=\"ansiout\">Out[55]: </div>",
       "datasetInfos": [],
       "metadata": {},
       "removedWidgets": [],
       "type": "html"
      }
     },
     "output_type": "display_data"
    },
    {
     "data": {
      "image/png": "[encoded data removed]"
     },
     "metadata": {
      "application/vnd.databricks.v1+output": {
       "addedWidgets": {},
       "arguments": {},
       "data": "data:image/png;base64,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",
       "datasetInfos": [],
       "metadata": {
        "imageDimensions": {
         "height": 247,
         "width": 254
        }
       },
       "removedWidgets": [],
       "type": "image"
      },
      "image/png": {
       "height": 247,
       "width": 254
      }
     },
     "output_type": "display_data"
    },
    {
     "data": {
      "text/html": [
       "<style scoped>\n",
       "  .ansiout {\n",
       "    display: block;\n",
       "    unicode-bidi: embed;\n",
       "    white-space: pre-wrap;\n",
       "    word-wrap: break-word;\n",
       "    word-break: break-all;\n",
       "    font-family: \"Source Code Pro\", \"Menlo\", monospace;;\n",
       "    font-size: 13px;\n",
       "    color: #555;\n",
       "    margin-left: 4px;\n",
       "    line-height: 19px;\n",
       "  }\n",
       "</style>\n",
       "<div class=\"ansiout\">Text(0.5, 1.0, &#39;No of Users by Subscription Status&#39;)</div>"
      ]
     },
     "metadata": {
      "application/vnd.databricks.v1+output": {
       "addedWidgets": {},
       "arguments": {},
       "data": "<div class=\"ansiout\">Text(0.5, 1.0, &#39;No of Users by Subscription Status&#39;)</div>",
       "datasetInfos": [],
       "metadata": {},
       "removedWidgets": [],
       "type": "html"
      }
     },
     "output_type": "display_data"
    }
   ],
   "source": [
    "def label_function(val):\n",
    "    return f'{val / 100 * len(df):.0f}\\n{val:.0f}%'\n",
    "\n",
    "df.groupby('subscription_status').size().plot(kind='pie',autopct=label_function, textprops={'fontsize': 12},\n",
    "                                 colors=['violet', 'lime','red','green'])\n",
    "plt.title('No of Users by Subscription Status', size=12)"
   ]
  },
  {
   "cell_type": "markdown",
   "metadata": {
    "application/vnd.databricks.v1+cell": {
     "inputWidgets": {},
     "nuid": "437d1e51-7a3e-4db9-a97b-b67f55a6c80f",
     "showTitle": false,
     "title": ""
    }
   },
   "source": [
    "Identify the top 10  states users live\n",
    "\n",
    "    Montana has the highest number of Users"
   ]
  },
  {
   "cell_type": "code",
   "execution_count": 0,
   "metadata": {
    "application/vnd.databricks.v1+cell": {
     "inputWidgets": {},
     "nuid": "c6872080-a8b6-4ad4-b87e-93d419a74379",
     "showTitle": false,
     "title": ""
    }
   },
   "outputs": [
    {
     "data": {
      "text/html": [
       "<style scoped>\n",
       "  .ansiout {\n",
       "    display: block;\n",
       "    unicode-bidi: embed;\n",
       "    white-space: pre-wrap;\n",
       "    word-wrap: break-word;\n",
       "    word-break: break-all;\n",
       "    font-family: \"Source Code Pro\", \"Menlo\", monospace;;\n",
       "    font-size: 13px;\n",
       "    color: #555;\n",
       "    margin-left: 4px;\n",
       "    line-height: 19px;\n",
       "  }\n",
       "</style>\n",
       "<div class=\"ansiout\">Out[56]: </div>"
      ]
     },
     "metadata": {
      "application/vnd.databricks.v1+output": {
       "addedWidgets": {},
       "arguments": {},
       "data": "<div class=\"ansiout\">Out[56]: </div>",
       "datasetInfos": [],
       "metadata": {},
       "removedWidgets": [],
       "type": "html"
      }
     },
     "output_type": "display_data"
    },
    {
     "data": {
      "image/png": "[encoded data removed]"
     },
     "metadata": {
      "application/vnd.databricks.v1+output": {
       "addedWidgets": {},
       "arguments": {},
       "data": "data:image/png;base64,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",
       "datasetInfos": [],
       "metadata": {
        "imageDimensions": {
         "height": 402,
         "width": 1052
        }
       },
       "removedWidgets": [],
       "type": "image"
      },
      "image/png": {
       "height": 402,
       "width": 1052
      }
     },
     "output_type": "display_data"
    },
    {
     "data": {
      "text/html": [
       "<style scoped>\n",
       "  .ansiout {\n",
       "    display: block;\n",
       "    unicode-bidi: embed;\n",
       "    white-space: pre-wrap;\n",
       "    word-wrap: break-word;\n",
       "    word-break: break-all;\n",
       "    font-family: \"Source Code Pro\", \"Menlo\", monospace;;\n",
       "    font-size: 13px;\n",
       "    color: #555;\n",
       "    margin-left: 4px;\n",
       "    line-height: 19px;\n",
       "  }\n",
       "</style>\n",
       "<div class=\"ansiout\">[Text(0, 0, &#39;Montana&#39;),\n",
       " Text(1, 0, &#39;Mississippi&#39;),\n",
       " Text(2, 0, &#39;Rhode Island&#39;),\n",
       " Text(3, 0, &#39;Oklahoma&#39;),\n",
       " Text(4, 0, &#39;New Hampshire&#39;),\n",
       " Text(5, 0, &#39;Illinois&#39;),\n",
       " Text(6, 0, &#39;Pennsylvania&#39;),\n",
       " Text(7, 0, &#39;Maryland&#39;),\n",
       " Text(8, 0, &#39;South Carolina&#39;),\n",
       " Text(9, 0, &#39;Arizona&#39;)]</div>"
      ]
     },
     "metadata": {
      "application/vnd.databricks.v1+output": {
       "addedWidgets": {},
       "arguments": {},
       "data": "<div class=\"ansiout\">[Text(0, 0, &#39;Montana&#39;),\n Text(1, 0, &#39;Mississippi&#39;),\n Text(2, 0, &#39;Rhode Island&#39;),\n Text(3, 0, &#39;Oklahoma&#39;),\n Text(4, 0, &#39;New Hampshire&#39;),\n Text(5, 0, &#39;Illinois&#39;),\n Text(6, 0, &#39;Pennsylvania&#39;),\n Text(7, 0, &#39;Maryland&#39;),\n Text(8, 0, &#39;South Carolina&#39;),\n Text(9, 0, &#39;Arizona&#39;)]</div>",
       "datasetInfos": [],
       "metadata": {},
       "removedWidgets": [],
       "type": "html"
      }
     },
     "output_type": "display_data"
    }
   ],
   "source": [
    "plt.figure(figsize=(18,5))\n",
    "chart=sns.countplot(x='StateName',data=df,order = df['StateName'].value_counts().iloc[:10].index, palette='cubehelix')\n",
    "plt.title(\" Top 10 States\")\n",
    "plt.ylabel('Total no of Users')\n",
    "chart.set_xticklabels(chart.get_xticklabels(), rotation=90)"
   ]
  },
  {
   "cell_type": "markdown",
   "metadata": {
    "application/vnd.databricks.v1+cell": {
     "inputWidgets": {},
     "nuid": "1e07386b-93d5-44f5-bb3a-4935905b3e81",
     "showTitle": false,
     "title": ""
    }
   },
   "source": [
    "Identify the most common First names details (Top 10)\n",
    "\n",
    "    Robbie is the most common first name and cleo/arron etc is the next common first name"
   ]
  },
  {
   "cell_type": "code",
   "execution_count": 0,
   "metadata": {
    "application/vnd.databricks.v1+cell": {
     "inputWidgets": {},
     "nuid": "c159c914-010d-466f-9854-b5903eaa32b2",
     "showTitle": false,
     "title": ""
    }
   },
   "outputs": [
    {
     "data": {
      "text/html": [
       "<style scoped>\n",
       "  .ansiout {\n",
       "    display: block;\n",
       "    unicode-bidi: embed;\n",
       "    white-space: pre-wrap;\n",
       "    word-wrap: break-word;\n",
       "    word-break: break-all;\n",
       "    font-family: \"Source Code Pro\", \"Menlo\", monospace;;\n",
       "    font-size: 13px;\n",
       "    color: #555;\n",
       "    margin-left: 4px;\n",
       "    line-height: 19px;\n",
       "  }\n",
       "</style>\n",
       "<div class=\"ansiout\">Out[57]: </div>"
      ]
     },
     "metadata": {
      "application/vnd.databricks.v1+output": {
       "addedWidgets": {},
       "arguments": {},
       "data": "<div class=\"ansiout\">Out[57]: </div>",
       "datasetInfos": [],
       "metadata": {},
       "removedWidgets": [],
       "type": "html"
      }
     },
     "output_type": "display_data"
    },
    {
     "data": {
      "image/png": "[encoded data removed]"
     },
     "metadata": {
      "application/vnd.databricks.v1+output": {
       "addedWidgets": {},
       "arguments": {},
       "data": "data:image/png;base64,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",
       "datasetInfos": [],
       "metadata": {
        "imageDimensions": {
         "height": 358,
         "width": 1055
        }
       },
       "removedWidgets": [],
       "type": "image"
      },
      "image/png": {
       "height": 358,
       "width": 1055
      }
     },
     "output_type": "display_data"
    },
    {
     "data": {
      "text/html": [
       "<style scoped>\n",
       "  .ansiout {\n",
       "    display: block;\n",
       "    unicode-bidi: embed;\n",
       "    white-space: pre-wrap;\n",
       "    word-wrap: break-word;\n",
       "    word-break: break-all;\n",
       "    font-family: \"Source Code Pro\", \"Menlo\", monospace;;\n",
       "    font-size: 13px;\n",
       "    color: #555;\n",
       "    margin-left: 4px;\n",
       "    line-height: 19px;\n",
       "  }\n",
       "</style>\n",
       "<div class=\"ansiout\">[Text(0, 0, &#39;Robbie&#39;),\n",
       " Text(1, 0, &#39;Cleo&#39;),\n",
       " Text(2, 0, &#39;Arron&#39;),\n",
       " Text(3, 0, &#39;Ernest&#39;),\n",
       " Text(4, 0, &#39;Virgil&#39;),\n",
       " Text(5, 0, &#39;Chong&#39;),\n",
       " Text(6, 0, &#39;Timothy&#39;),\n",
       " Text(7, 0, &#39;Peter&#39;),\n",
       " Text(8, 0, &#39;Karl&#39;),\n",
       " Text(9, 0, &#39;Foster&#39;)]</div>"
      ]
     },
     "metadata": {
      "application/vnd.databricks.v1+output": {
       "addedWidgets": {},
       "arguments": {},
       "data": "<div class=\"ansiout\">[Text(0, 0, &#39;Robbie&#39;),\n Text(1, 0, &#39;Cleo&#39;),\n Text(2, 0, &#39;Arron&#39;),\n Text(3, 0, &#39;Ernest&#39;),\n Text(4, 0, &#39;Virgil&#39;),\n Text(5, 0, &#39;Chong&#39;),\n Text(6, 0, &#39;Timothy&#39;),\n Text(7, 0, &#39;Peter&#39;),\n Text(8, 0, &#39;Karl&#39;),\n Text(9, 0, &#39;Foster&#39;)]</div>",
       "datasetInfos": [],
       "metadata": {},
       "removedWidgets": [],
       "type": "html"
      }
     },
     "output_type": "display_data"
    }
   ],
   "source": [
    "plt.figure(figsize=(18,5))\n",
    "chart2=sns.countplot(x='FirstName',data=df,order = df['FirstName'].value_counts().iloc[:10].index, palette='cubehelix')\n",
    "plt.title(\" Most Common First Names\")\n",
    "plt.ylabel('Total no of Users')\n",
    "chart2.set_xticklabels(chart2.get_xticklabels(), rotation=45)"
   ]
  },
  {
   "cell_type": "markdown",
   "metadata": {
    "application/vnd.databricks.v1+cell": {
     "inputWidgets": {},
     "nuid": "dbb619c6-81b2-40f1-9ac8-08302be2b87e",
     "showTitle": false,
     "title": ""
    }
   },
   "source": [
    "Most use Last names of the users (Top 10)\n",
    "\n",
    "    Wilderman is the most commonly use Last name"
   ]
  },
  {
   "cell_type": "code",
   "execution_count": 0,
   "metadata": {
    "application/vnd.databricks.v1+cell": {
     "inputWidgets": {},
     "nuid": "3933ac4a-7c87-40ea-a402-e520c31931b7",
     "showTitle": false,
     "title": ""
    }
   },
   "outputs": [
    {
     "data": {
      "text/html": [
       "<style scoped>\n",
       "  .ansiout {\n",
       "    display: block;\n",
       "    unicode-bidi: embed;\n",
       "    white-space: pre-wrap;\n",
       "    word-wrap: break-word;\n",
       "    word-break: break-all;\n",
       "    font-family: \"Source Code Pro\", \"Menlo\", monospace;;\n",
       "    font-size: 13px;\n",
       "    color: #555;\n",
       "    margin-left: 4px;\n",
       "    line-height: 19px;\n",
       "  }\n",
       "</style>\n",
       "<div class=\"ansiout\">Out[58]: </div>"
      ]
     },
     "metadata": {
      "application/vnd.databricks.v1+output": {
       "addedWidgets": {},
       "arguments": {},
       "data": "<div class=\"ansiout\">Out[58]: </div>",
       "datasetInfos": [],
       "metadata": {},
       "removedWidgets": [],
       "type": "html"
      }
     },
     "output_type": "display_data"
    },
    {
     "data": {
      "image/png": "[encoded data removed]"
     },
     "metadata": {
      "application/vnd.databricks.v1+output": {
       "addedWidgets": {},
       "arguments": {},
       "data": "data:image/png;base64,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",
       "datasetInfos": [],
       "metadata": {
        "imageDimensions": {
         "height": 368,
         "width": 1046
        }
       },
       "removedWidgets": [],
       "type": "image"
      },
      "image/png": {
       "height": 368,
       "width": 1046
      }
     },
     "output_type": "display_data"
    },
    {
     "data": {
      "text/html": [
       "<style scoped>\n",
       "  .ansiout {\n",
       "    display: block;\n",
       "    unicode-bidi: embed;\n",
       "    white-space: pre-wrap;\n",
       "    word-wrap: break-word;\n",
       "    word-break: break-all;\n",
       "    font-family: \"Source Code Pro\", \"Menlo\", monospace;;\n",
       "    font-size: 13px;\n",
       "    color: #555;\n",
       "    margin-left: 4px;\n",
       "    line-height: 19px;\n",
       "  }\n",
       "</style>\n",
       "<div class=\"ansiout\">[Text(0, 0, &#39;Wilderman&#39;),\n",
       " Text(1, 0, &#39;Nienow&#39;),\n",
       " Text(2, 0, &#39;Jaskolski&#39;),\n",
       " Text(3, 0, &#39;Labadie&#39;),\n",
       " Text(4, 0, &#39;Wiza&#39;),\n",
       " Text(5, 0, &#39;Fritsch&#39;),\n",
       " Text(6, 0, &#39;Trantow&#39;),\n",
       " Text(7, 0, &#39;Muller&#39;),\n",
       " Text(8, 0, &#39;Zemlak&#39;),\n",
       " Text(9, 0, &#39;Bosco&#39;)]</div>"
      ]
     },
     "metadata": {
      "application/vnd.databricks.v1+output": {
       "addedWidgets": {},
       "arguments": {},
       "data": "<div class=\"ansiout\">[Text(0, 0, &#39;Wilderman&#39;),\n Text(1, 0, &#39;Nienow&#39;),\n Text(2, 0, &#39;Jaskolski&#39;),\n Text(3, 0, &#39;Labadie&#39;),\n Text(4, 0, &#39;Wiza&#39;),\n Text(5, 0, &#39;Fritsch&#39;),\n Text(6, 0, &#39;Trantow&#39;),\n Text(7, 0, &#39;Muller&#39;),\n Text(8, 0, &#39;Zemlak&#39;),\n Text(9, 0, &#39;Bosco&#39;)]</div>",
       "datasetInfos": [],
       "metadata": {},
       "removedWidgets": [],
       "type": "html"
      }
     },
     "output_type": "display_data"
    }
   ],
   "source": [
    "plt.figure(figsize=(18,5))\n",
    "chart3=sns.countplot(x='LastName',data=df,order = df['LastName'].value_counts().iloc[:10].index, palette='gist_earth')\n",
    "plt.title(\" Most common Last Names\")\n",
    "plt.ylabel('Total no of Users')\n",
    "chart3.set_xticklabels(chart3.get_xticklabels(), rotation=45)"
   ]
  },
  {
   "cell_type": "markdown",
   "metadata": {
    "application/vnd.databricks.v1+cell": {
     "inputWidgets": {},
     "nuid": "2737cab5-3eaa-4c13-b6f9-0e6cfc4e5a0d",
     "showTitle": false,
     "title": ""
    }
   },
   "source": [
    "Identify the correlation between categorical varibles\n",
    "\n",
    "    Assumption(H0): The two columns are NOT related to each other\n",
    "    \n",
    "    Result of Chi-Sq Test:if the value of Chi-sq test is less than 0.05 we can assume there is correlation between identified two varibales &\n",
    "    if the value is greater than 0.05 we can assume there is no correlation between given variables"
   ]
  },
  {
   "cell_type": "code",
   "execution_count": 0,
   "metadata": {
    "application/vnd.databricks.v1+cell": {
     "inputWidgets": {},
     "nuid": "d41bcb93-d7a0-493d-8379-909e6f33fa78",
     "showTitle": false,
     "title": ""
    }
   },
   "outputs": [
    {
     "data": {
      "text/html": [
       "<style scoped>\n",
       "  .ansiout {\n",
       "    display: block;\n",
       "    unicode-bidi: embed;\n",
       "    white-space: pre-wrap;\n",
       "    word-wrap: break-word;\n",
       "    word-break: break-all;\n",
       "    font-family: \"Source Code Pro\", \"Menlo\", monospace;;\n",
       "    font-size: 13px;\n",
       "    color: #555;\n",
       "    margin-left: 4px;\n",
       "    line-height: 19px;\n",
       "  }\n",
       "</style>\n",
       "<div class=\"ansiout\">subscription_plan  Basic  Bronze  Business  ...  Standard  Starter  Student\n",
       "gender                                      ...                            \n",
       "Agender                8      10        10  ...         8        3        9\n",
       "Bigender              12      12        12  ...        11        6        9\n",
       "Female                 9       8        11  ...         7        9        8\n",
       "Genderfluid            7      10         9  ...        10        8        7\n",
       "Genderqueer            8       9         9  ...        10       13        9\n",
       "Male                   8      11        15  ...        12       13       11\n",
       "Non-binary             9       6         7  ...        11       12        9\n",
       "Polygender            12       8        14  ...         8       10       13\n",
       "\n",
       "[8 rows x 14 columns]\n",
       "The P-Value of the ChiSq Test is: 0.888330398649698\n",
       "</div>"
      ]
     },
     "metadata": {
      "application/vnd.databricks.v1+output": {
       "addedWidgets": {},
       "arguments": {},
       "data": "<div class=\"ansiout\">subscription_plan  Basic  Bronze  Business  ...  Standard  Starter  Student\ngender                                      ...                            \nAgender                8      10        10  ...         8        3        9\nBigender              12      12        12  ...        11        6        9\nFemale                 9       8        11  ...         7        9        8\nGenderfluid            7      10         9  ...        10        8        7\nGenderqueer            8       9         9  ...        10       13        9\nMale                   8      11        15  ...        12       13       11\nNon-binary             9       6         7  ...        11       12        9\nPolygender            12       8        14  ...         8       10       13\n\n[8 rows x 14 columns]\nThe P-Value of the ChiSq Test is: 0.888330398649698\n</div>",
       "datasetInfos": [],
       "metadata": {},
       "removedWidgets": [],
       "type": "html"
      }
     },
     "output_type": "display_data"
    }
   ],
   "source": [
    "# checking correlation between gender & subscription plan\n",
    "\n",
    "# Cross tabulation between gender and subscription_plan\n",
    "CrosstabResult=pd.crosstab(index=df['gender'],columns=df['subscription_plan'])\n",
    "print(CrosstabResult)\n",
    " \n",
    "# Performing Chi-sq test\n",
    "ChiSqResult = chi2_contingency(CrosstabResult)\n",
    " \n",
    "print('The P-Value of the ChiSq Test is:', ChiSqResult[1])"
   ]
  },
  {
   "cell_type": "markdown",
   "metadata": {
    "application/vnd.databricks.v1+cell": {
     "inputWidgets": {},
     "nuid": "c89d9cdc-31ba-41e8-a646-96bbf824740e",
     "showTitle": false,
     "title": ""
    }
   },
   "source": [
    "The P-Value of the ChiSq Test is: 0.888330398649698,hence gender & subscription plan is not correlated"
   ]
  },
  {
   "cell_type": "code",
   "execution_count": 0,
   "metadata": {
    "application/vnd.databricks.v1+cell": {
     "inputWidgets": {},
     "nuid": "88db69da-eaca-4140-8729-0d4f111f1d4f",
     "showTitle": false,
     "title": ""
    }
   },
   "outputs": [
    {
     "data": {
      "text/html": [
       "<style scoped>\n",
       "  .ansiout {\n",
       "    display: block;\n",
       "    unicode-bidi: embed;\n",
       "    white-space: pre-wrap;\n",
       "    word-wrap: break-word;\n",
       "    word-break: break-all;\n",
       "    font-family: \"Source Code Pro\", \"Menlo\", monospace;;\n",
       "    font-size: 13px;\n",
       "    color: #555;\n",
       "    margin-left: 4px;\n",
       "    line-height: 19px;\n",
       "  }\n",
       "</style>\n",
       "<div class=\"ansiout\">subscription_payment_method  Alipay  Apple Pay  ...  Visa checkout  WeChat Pay\n",
       "subscription_term                               ...                           \n",
       "Annual                           17         23  ...             17          12\n",
       "Full subscription                23         28  ...             21          21\n",
       "Monthly                          19         19  ...             24          14\n",
       "Payment in advance               21         21  ...             22          17\n",
       "\n",
       "[4 rows x 12 columns]\n",
       "The P-Value of the ChiSq Test is: 0.6026003428424316\n",
       "</div>"
      ]
     },
     "metadata": {
      "application/vnd.databricks.v1+output": {
       "addedWidgets": {},
       "arguments": {},
       "data": "<div class=\"ansiout\">subscription_payment_method  Alipay  Apple Pay  ...  Visa checkout  WeChat Pay\nsubscription_term                               ...                           \nAnnual                           17         23  ...             17          12\nFull subscription                23         28  ...             21          21\nMonthly                          19         19  ...             24          14\nPayment in advance               21         21  ...             22          17\n\n[4 rows x 12 columns]\nThe P-Value of the ChiSq Test is: 0.6026003428424316\n</div>",
       "datasetInfos": [],
       "metadata": {},
       "removedWidgets": [],
       "type": "html"
      }
     },
     "output_type": "display_data"
    }
   ],
   "source": [
    "# checking correlation between subscription term and subscription payment method\n",
    "\n",
    "# Cross tabulation between subscription_term and subscription_payment_method\n",
    "\n",
    "CrosstabResult=pd.crosstab(index=df['subscription_term'],columns=df['subscription_payment_method'])\n",
    "print(CrosstabResult)\n",
    " \n",
    "# Performing Chi-sq test\n",
    "ChiSqResult = chi2_contingency(CrosstabResult)\n",
    " \n",
    "print('The P-Value of the ChiSq Test is:', ChiSqResult[1])"
   ]
  },
  {
   "cell_type": "markdown",
   "metadata": {
    "application/vnd.databricks.v1+cell": {
     "inputWidgets": {},
     "nuid": "804dad2e-81ef-4bd4-a758-fe85af0d4d2e",
     "showTitle": false,
     "title": ""
    }
   },
   "source": [
    "The P-Value of the ChiSq Test is: 0.6026003428424316,hence subscription_term and subscription_payment_method is not correlated"
   ]
  },
  {
   "cell_type": "code",
   "execution_count": 0,
   "metadata": {
    "application/vnd.databricks.v1+cell": {
     "inputWidgets": {},
     "nuid": "5929df02-0f5d-411e-b5b0-72fd02920a0c",
     "showTitle": false,
     "title": ""
    }
   },
   "outputs": [
    {
     "data": {
      "text/html": [
       "<style scoped>\n",
       "  .ansiout {\n",
       "    display: block;\n",
       "    unicode-bidi: embed;\n",
       "    white-space: pre-wrap;\n",
       "    word-wrap: break-word;\n",
       "    word-break: break-all;\n",
       "    font-family: \"Source Code Pro\", \"Menlo\", monospace;;\n",
       "    font-size: 13px;\n",
       "    color: #555;\n",
       "    margin-left: 4px;\n",
       "    line-height: 19px;\n",
       "  }\n",
       "</style>\n",
       "<div class=\"ansiout\">subscription_term  Annual  Full subscription  Monthly  Payment in advance\n",
       "subscription_plan                                                        \n",
       "Basic                  15                 24       17                  17\n",
       "Bronze                 18                 23       16                  17\n",
       "Business               21                 20       19                  27\n",
       "Diamond                29                 26       15                  13\n",
       "Essential              18                 15        8                  18\n",
       "Free Trial             23                 19       18                  24\n",
       "Gold                   17                 18       16                  19\n",
       "Platinum               19                 12       15                  19\n",
       "Premium                19                 20       21                  17\n",
       "Professional           19                 16       20                  25\n",
       "Silver                 29                 21        9                  17\n",
       "Standard               19                 18       21                  19\n",
       "Starter                20                 22       20                  12\n",
       "Student                11                 24       18                  22\n",
       "The P-Value of the ChiSq Test is: 0.4137233786082608\n",
       "</div>"
      ]
     },
     "metadata": {
      "application/vnd.databricks.v1+output": {
       "addedWidgets": {},
       "arguments": {},
       "data": "<div class=\"ansiout\">subscription_term  Annual  Full subscription  Monthly  Payment in advance\nsubscription_plan                                                        \nBasic                  15                 24       17                  17\nBronze                 18                 23       16                  17\nBusiness               21                 20       19                  27\nDiamond                29                 26       15                  13\nEssential              18                 15        8                  18\nFree Trial             23                 19       18                  24\nGold                   17                 18       16                  19\nPlatinum               19                 12       15                  19\nPremium                19                 20       21                  17\nProfessional           19                 16       20                  25\nSilver                 29                 21        9                  17\nStandard               19                 18       21                  19\nStarter                20                 22       20                  12\nStudent                11                 24       18                  22\nThe P-Value of the ChiSq Test is: 0.4137233786082608\n</div>",
       "datasetInfos": [],
       "metadata": {},
       "removedWidgets": [],
       "type": "html"
      }
     },
     "output_type": "display_data"
    }
   ],
   "source": [
    "# checking correlation between subscription_plan & subscription_term \n",
    "\n",
    "# Cross tabulation between subscription_plan & subscription_term \n",
    "\n",
    "CrosstabResult=pd.crosstab(index=df['subscription_plan'],columns=df['subscription_term'])\n",
    "print(CrosstabResult)\n",
    " \n",
    "# Performing Chi-sq test\n",
    "ChiSqResult = chi2_contingency(CrosstabResult)\n",
    "\n",
    "print('The P-Value of the ChiSq Test is:', ChiSqResult[1])"
   ]
  },
  {
   "cell_type": "markdown",
   "metadata": {
    "application/vnd.databricks.v1+cell": {
     "inputWidgets": {},
     "nuid": "b7548240-54c3-4f72-a4a2-850e99e9cc52",
     "showTitle": false,
     "title": ""
    }
   },
   "source": [
    "The P-Value of the ChiSq Test is: 0.4137233786082608 hence there is no correlation between subscription_plan & subscription_term"
   ]
  },
  {
   "cell_type": "code",
   "execution_count": 0,
   "metadata": {
    "application/vnd.databricks.v1+cell": {
     "inputWidgets": {},
     "nuid": "3539ef23-a3a9-4558-8f54-73b5a628e654",
     "showTitle": false,
     "title": ""
    }
   },
   "outputs": [
    {
     "data": {
      "text/html": [
       "<style scoped>\n",
       "  .ansiout {\n",
       "    display: block;\n",
       "    unicode-bidi: embed;\n",
       "    white-space: pre-wrap;\n",
       "    word-wrap: break-word;\n",
       "    word-break: break-all;\n",
       "    font-family: \"Source Code Pro\", \"Menlo\", monospace;;\n",
       "    font-size: 13px;\n",
       "    color: #555;\n",
       "    margin-left: 4px;\n",
       "    line-height: 19px;\n",
       "  }\n",
       "</style>\n",
       "<div class=\"ansiout\">subscription_status  Active  Blocked  Idle  Pending\n",
       "subscription_plan                                  \n",
       "Basic                    20       18    20       15\n",
       "Bronze                   26       13    15       20\n",
       "Business                 20       16    21       30\n",
       "Diamond                  29       17    25       12\n",
       "Essential                12       14    17       16\n",
       "Free Trial               24       15    23       22\n",
       "Gold                     23       16    16       15\n",
       "Platinum                 14       20    16       15\n",
       "Premium                  17       26    18       16\n",
       "Professional             20       17    23       20\n",
       "Silver                   20       16    21       19\n",
       "Standard                 18       11    23       25\n",
       "Starter                  21       23    15       15\n",
       "Student                  20       20    18       17\n",
       "The P-Value of the ChiSq Test is: 0.5277753429729202\n",
       "</div>"
      ]
     },
     "metadata": {
      "application/vnd.databricks.v1+output": {
       "addedWidgets": {},
       "arguments": {},
       "data": "<div class=\"ansiout\">subscription_status  Active  Blocked  Idle  Pending\nsubscription_plan                                  \nBasic                    20       18    20       15\nBronze                   26       13    15       20\nBusiness                 20       16    21       30\nDiamond                  29       17    25       12\nEssential                12       14    17       16\nFree Trial               24       15    23       22\nGold                     23       16    16       15\nPlatinum                 14       20    16       15\nPremium                  17       26    18       16\nProfessional             20       17    23       20\nSilver                   20       16    21       19\nStandard                 18       11    23       25\nStarter                  21       23    15       15\nStudent                  20       20    18       17\nThe P-Value of the ChiSq Test is: 0.5277753429729202\n</div>",
       "datasetInfos": [],
       "metadata": {},
       "removedWidgets": [],
       "type": "html"
      }
     },
     "output_type": "display_data"
    }
   ],
   "source": [
    "# checking correlation between subscription_plan & subscription_status \n",
    "\n",
    "# Cross tabulation between subscription_plan & subscription_status \n",
    "\n",
    "CrosstabResult=pd.crosstab(index=df['subscription_plan'],columns=df['subscription_status'])\n",
    "print(CrosstabResult)\n",
    "\n",
    " \n",
    "# Performing Chi-sq test\n",
    "ChiSqResult = chi2_contingency(CrosstabResult)\n",
    " \n",
    "print('The P-Value of the ChiSq Test is:', ChiSqResult[1])"
   ]
  },
  {
   "cell_type": "markdown",
   "metadata": {
    "application/vnd.databricks.v1+cell": {
     "inputWidgets": {},
     "nuid": "72eb960e-92d7-44c3-a4a6-1f234df5650e",
     "showTitle": false,
     "title": ""
    }
   },
   "source": [
    "The P-Value of the ChiSq Test is: 0.5277753429729202 hence there is no correlation between subscription_plan & subscription_status"
   ]
  },
  {
   "cell_type": "code",
   "execution_count": 0,
   "metadata": {
    "application/vnd.databricks.v1+cell": {
     "inputWidgets": {},
     "nuid": "7716f4cd-ba08-4d7f-998e-a4e157198f1c",
     "showTitle": false,
     "title": ""
    }
   },
   "outputs": [
    {
     "data": {
      "text/html": [
       "<style scoped>\n",
       "  .ansiout {\n",
       "    display: block;\n",
       "    unicode-bidi: embed;\n",
       "    white-space: pre-wrap;\n",
       "    word-wrap: break-word;\n",
       "    word-break: break-all;\n",
       "    font-family: \"Source Code Pro\", \"Menlo\", monospace;;\n",
       "    font-size: 13px;\n",
       "    color: #555;\n",
       "    margin-left: 4px;\n",
       "    line-height: 19px;\n",
       "  }\n",
       "</style>\n",
       "<div class=\"ansiout\">subscription_plan  Basic  Bronze  Business  ...  Standard  Starter  Student\n",
       "StateName                                   ...                            \n",
       "Alabama                0       2         1  ...         0        0        2\n",
       "Alaska                 2       4         2  ...         0        3        2\n",
       "Arizona                2       0         3  ...         0        0        1\n",
       "Arkansas               1       2         3  ...         1        3        3\n",
       "California             0       2         5  ...         3        1        1\n",
       "Colorado               2       3         0  ...         1        1        1\n",
       "Connecticut            0       0         2  ...         1        2        1\n",
       "Delaware               1       1         0  ...         1        1        1\n",
       "Florida                1       0         1  ...         0        2        1\n",
       "Georgia                0       0         2  ...         3        2        1\n",
       "Hawaii                 2       2         0  ...         4        2        1\n",
       "Idaho                  0       2         3  ...         0        0        0\n",
       "Illinois               3       1         1  ...         3        0        5\n",
       "Indiana                3       3         0  ...         2        0        2\n",
       "Iowa                   2       2         1  ...         2        1        2\n",
       "Kansas                 2       3         1  ...         1        4        3\n",
       "Kentucky               2       4         5  ...         2        0        0\n",
       "Louisiana              4       1         0  ...         3        2        1\n",
       "Maine                  2       2         2  ...         1        2        0\n",
       "Maryland               4       1         2  ...         2        1        3\n",
       "Massachusetts          0       2         1  ...         1        2        3\n",
       "Michigan               2       1         2  ...         1        0        1\n",
       "Minnesota              1       2         2  ...         2        3        0\n",
       "Mississippi            0       1         3  ...         1        2        3\n",
       "Missouri               0       1         1  ...         3        1        2\n",
       "Montana                1       3         5  ...         3        2        1\n",
       "Nebraska               0       2         1  ...         1        1        0\n",
       "Nevada                 2       3         1  ...         3        2        1\n",
       "New Hampshire          3       2         4  ...         1        1        2\n",
       "New Jersey             3       2         2  ...         1        0        2\n",
       "New Mexico             4       1         1  ...         2        1        2\n",
       "New York               0       1         2  ...         0        1        0\n",
       "North Carolina         3       2         0  ...         0        4        0\n",
       "North Dakota           1       1         2  ...         2        2        1\n",
       "Ohio                   1       1         3  ...         0        0        2\n",
       "Oklahoma               1       3         2  ...         1        0        3\n",
       "Oregon                 0       0         0  ...         1        0        1\n",
       "Pennsylvania           2       1         2  ...         4        0        3\n",
       "Rhode Island           2       2         3  ...         6        1        0\n",
       "South Carolina         3       1         2  ...         2        2        1\n",
       "South Dakota           2       2         2  ...         0        2        1\n",
       "Tennessee              2       2         1  ...         1        4        2\n",
       "Texas                  3       0         2  ...         2        1        3\n",
       "Utah                   0       0         0  ...         3        1        0\n",
       "Vermont                0       1         1  ...         1        0        2\n",
       "Virginia               0       0         2  ...         0        3        3\n",
       "Washington             1       0         2  ...         2        1        1\n",
       "West Virginia          0       2         1  ...         0        3        1\n",
       "Wisconsin              1       0         2  ...         0        4        1\n",
       "Wyoming                2       0         1  ...         3        3        2\n",
       "\n",
       "[50 rows x 14 columns]\n",
       "The P-Value of the ChiSq Test is: 0.8971667040935034\n",
       "</div>"
      ]
     },
     "metadata": {
      "application/vnd.databricks.v1+output": {
       "addedWidgets": {},
       "arguments": {},
       "data": "<div class=\"ansiout\">subscription_plan  Basic  Bronze  Business  ...  Standard  Starter  Student\nStateName                                   ...                            \nAlabama                0       2         1  ...         0        0        2\nAlaska                 2       4         2  ...         0        3        2\nArizona                2       0         3  ...         0        0        1\nArkansas               1       2         3  ...         1        3        3\nCalifornia             0       2         5  ...         3        1        1\nColorado               2       3         0  ...         1        1        1\nConnecticut            0       0         2  ...         1        2        1\nDelaware               1       1         0  ...         1        1        1\nFlorida                1       0         1  ...         0        2        1\nGeorgia                0       0         2  ...         3        2        1\nHawaii                 2       2         0  ...         4        2        1\nIdaho                  0       2         3  ...         0        0        0\nIllinois               3       1         1  ...         3        0        5\nIndiana                3       3         0  ...         2        0        2\nIowa                   2       2         1  ...         2        1        2\nKansas                 2       3         1  ...         1        4        3\nKentucky               2       4         5  ...         2        0        0\nLouisiana              4       1         0  ...         3        2        1\nMaine                  2       2         2  ...         1        2        0\nMaryland               4       1         2  ...         2        1        3\nMassachusetts          0       2         1  ...         1        2        3\nMichigan               2       1         2  ...         1        0        1\nMinnesota              1       2         2  ...         2        3        0\nMississippi            0       1         3  ...         1        2        3\nMissouri               0       1         1  ...         3        1        2\nMontana                1       3         5  ...         3        2        1\nNebraska               0       2         1  ...         1        1        0\nNevada                 2       3         1  ...         3        2        1\nNew Hampshire          3       2         4  ...         1        1        2\nNew Jersey             3       2         2  ...         1        0        2\nNew Mexico             4       1         1  ...         2        1        2\nNew York               0       1         2  ...         0        1        0\nNorth Carolina         3       2         0  ...         0        4        0\nNorth Dakota           1       1         2  ...         2        2        1\nOhio                   1       1         3  ...         0        0        2\nOklahoma               1       3         2  ...         1        0        3\nOregon                 0       0         0  ...         1        0        1\nPennsylvania           2       1         2  ...         4        0        3\nRhode Island           2       2         3  ...         6        1        0\nSouth Carolina         3       1         2  ...         2        2        1\nSouth Dakota           2       2         2  ...         0        2        1\nTennessee              2       2         1  ...         1        4        2\nTexas                  3       0         2  ...         2        1        3\nUtah                   0       0         0  ...         3        1        0\nVermont                0       1         1  ...         1        0        2\nVirginia               0       0         2  ...         0        3        3\nWashington             1       0         2  ...         2        1        1\nWest Virginia          0       2         1  ...         0        3        1\nWisconsin              1       0         2  ...         0        4        1\nWyoming                2       0         1  ...         3        3        2\n\n[50 rows x 14 columns]\nThe P-Value of the ChiSq Test is: 0.8971667040935034\n</div>",
       "datasetInfos": [],
       "metadata": {},
       "removedWidgets": [],
       "type": "html"
      }
     },
     "output_type": "display_data"
    }
   ],
   "source": [
    "# checking correlation between subscription_plan & StateName \n",
    "\n",
    "# Cross tabulation between subscription_plan & StateName\n",
    "\n",
    "CrosstabResult=pd.crosstab(index=df['StateName'],columns=df['subscription_plan'])\n",
    "print(CrosstabResult)\n",
    " \n",
    "# Performing Chi-sq test\n",
    "ChiSqResult = chi2_contingency(CrosstabResult)\n",
    " \n",
    "print('The P-Value of the ChiSq Test is:', ChiSqResult[1])"
   ]
  },
  {
   "cell_type": "markdown",
   "metadata": {
    "application/vnd.databricks.v1+cell": {
     "inputWidgets": {},
     "nuid": "ff70333b-3b68-4d1b-86aa-95aeb85cb29c",
     "showTitle": false,
     "title": ""
    }
   },
   "source": [
    "The P-Value of the ChiSq Test is: 0.8971667040935034 hence there is no correlation between subscription_plan & State"
   ]
  },
  {
   "cell_type": "code",
   "execution_count": 0,
   "metadata": {
    "application/vnd.databricks.v1+cell": {
     "inputWidgets": {},
     "nuid": "a0a1209d-ad50-4554-8905-70148b41f4ad",
     "showTitle": false,
     "title": ""
    }
   },
   "outputs": [
    {
     "data": {
      "text/html": [
       "<style scoped>\n",
       "  .ansiout {\n",
       "    display: block;\n",
       "    unicode-bidi: embed;\n",
       "    white-space: pre-wrap;\n",
       "    word-wrap: break-word;\n",
       "    word-break: break-all;\n",
       "    font-family: \"Source Code Pro\", \"Menlo\", monospace;;\n",
       "    font-size: 13px;\n",
       "    color: #555;\n",
       "    margin-left: 4px;\n",
       "    line-height: 19px;\n",
       "  }\n",
       "</style>\n",
       "<div class=\"ansiout\">subscription_plan          Basic  Bronze  Business  ...  Standard  Starter  Student\n",
       "emplyment_title                                     ...                            \n",
       "Accounting Agent               0       0         0  ...         0        0        0\n",
       "Accounting Analyst             0       0         0  ...         0        0        0\n",
       "Accounting Architect           0       0         0  ...         0        0        0\n",
       "Accounting Assistant           0       0         0  ...         0        0        0\n",
       "Accounting Coordinator         0       0         0  ...         0        0        0\n",
       "...                          ...     ...       ...  ...       ...      ...      ...\n",
       "Technology Officer             0       0         0  ...         0        0        0\n",
       "Technology Orchestrator        0       0         0  ...         0        0        0\n",
       "Technology Representative      0       1         0  ...         0        0        0\n",
       "Technology Specialist          0       0         0  ...         1        0        0\n",
       "Technology Supervisor          1       0         0  ...         0        0        0\n",
       "\n",
       "[888 rows x 14 columns]\n",
       "The P-Value of the ChiSq Test is: 0.3700476816527415\n",
       "</div>"
      ]
     },
     "metadata": {
      "application/vnd.databricks.v1+output": {
       "addedWidgets": {},
       "arguments": {},
       "data": "<div class=\"ansiout\">subscription_plan          Basic  Bronze  Business  ...  Standard  Starter  Student\nemplyment_title                                     ...                            \nAccounting Agent               0       0         0  ...         0        0        0\nAccounting Analyst             0       0         0  ...         0        0        0\nAccounting Architect           0       0         0  ...         0        0        0\nAccounting Assistant           0       0         0  ...         0        0        0\nAccounting Coordinator         0       0         0  ...         0        0        0\n...                          ...     ...       ...  ...       ...      ...      ...\nTechnology Officer             0       0         0  ...         0        0        0\nTechnology Orchestrator        0       0         0  ...         0        0        0\nTechnology Representative      0       1         0  ...         0        0        0\nTechnology Specialist          0       0         0  ...         1        0        0\nTechnology Supervisor          1       0         0  ...         0        0        0\n\n[888 rows x 14 columns]\nThe P-Value of the ChiSq Test is: 0.3700476816527415\n</div>",
       "datasetInfos": [],
       "metadata": {},
       "removedWidgets": [],
       "type": "html"
      }
     },
     "output_type": "display_data"
    }
   ],
   "source": [
    "# checking correlation between subscription_plan & employee title \n",
    "\n",
    "# Cross tabulation between subscription_plan & employee title\n",
    "\n",
    "CrosstabResult=pd.crosstab(index=df['emplyment_title'],columns=df['subscription_plan'])\n",
    "print(CrosstabResult)\n",
    "\n",
    "# Performing Chi-sq test\n",
    "ChiSqResult = chi2_contingency(CrosstabResult)\n",
    "\n",
    "print('The P-Value of the ChiSq Test is:', ChiSqResult[1])"
   ]
  },
  {
   "cell_type": "markdown",
   "metadata": {
    "application/vnd.databricks.v1+cell": {
     "inputWidgets": {},
     "nuid": "13face03-3a21-461d-b8f0-0fcd01892c00",
     "showTitle": false,
     "title": ""
    }
   },
   "source": [
    "The P-Value of the ChiSq Test is: 0.3700476816527415 hence there is no correlation between subscription_plan & employee title"
   ]
  },
  {
   "cell_type": "code",
   "execution_count": 0,
   "metadata": {
    "application/vnd.databricks.v1+cell": {
     "inputWidgets": {},
     "nuid": "eac37419-8145-4f2e-93c4-aa1f7a316dd3",
     "showTitle": false,
     "title": ""
    }
   },
   "outputs": [
    {
     "data": {
      "text/html": [
       "<style scoped>\n",
       "  .ansiout {\n",
       "    display: block;\n",
       "    unicode-bidi: embed;\n",
       "    white-space: pre-wrap;\n",
       "    word-wrap: break-word;\n",
       "    word-break: break-all;\n",
       "    font-family: \"Source Code Pro\", \"Menlo\", monospace;;\n",
       "    font-size: 13px;\n",
       "    color: #555;\n",
       "    margin-left: 4px;\n",
       "    line-height: 19px;\n",
       "  }\n",
       "</style>\n",
       "<div class=\"ansiout\">subscription_status        Active  Blocked  Idle  Pending\n",
       "emplyment_title                                          \n",
       "Accounting Agent                0        0     1        1\n",
       "Accounting Analyst              0        1     0        1\n",
       "Accounting Architect            0        0     0        1\n",
       "Accounting Assistant            0        0     0        1\n",
       "Accounting Coordinator          0        0     1        1\n",
       "...                           ...      ...   ...      ...\n",
       "Technology Officer              0        1     0        0\n",
       "Technology Orchestrator         1        0     0        0\n",
       "Technology Representative       0        0     0        1\n",
       "Technology Specialist           0        0     1        0\n",
       "Technology Supervisor           0        0     1        2\n",
       "\n",
       "[888 rows x 4 columns]\n",
       "The P-Value of the ChiSq Test is: 0.4492485038421585\n",
       "</div>"
      ]
     },
     "metadata": {
      "application/vnd.databricks.v1+output": {
       "addedWidgets": {},
       "arguments": {},
       "data": "<div class=\"ansiout\">subscription_status        Active  Blocked  Idle  Pending\nemplyment_title                                          \nAccounting Agent                0        0     1        1\nAccounting Analyst              0        1     0        1\nAccounting Architect            0        0     0        1\nAccounting Assistant            0        0     0        1\nAccounting Coordinator          0        0     1        1\n...                           ...      ...   ...      ...\nTechnology Officer              0        1     0        0\nTechnology Orchestrator         1        0     0        0\nTechnology Representative       0        0     0        1\nTechnology Specialist           0        0     1        0\nTechnology Supervisor           0        0     1        2\n\n[888 rows x 4 columns]\nThe P-Value of the ChiSq Test is: 0.4492485038421585\n</div>",
       "datasetInfos": [],
       "metadata": {},
       "removedWidgets": [],
       "type": "html"
      }
     },
     "output_type": "display_data"
    }
   ],
   "source": [
    "# checking correlation between subscription_status & employee title \n",
    "\n",
    "# Cross tabulation between subscription_status\t & employee title\n",
    "\n",
    "CrosstabResult=pd.crosstab(index=df['emplyment_title'],columns=df['subscription_status'])\n",
    "print(CrosstabResult)\n",
    "\n",
    "# Performing Chi-sq test\n",
    "ChiSqResult = chi2_contingency(CrosstabResult)\n",
    " \n",
    "print('The P-Value of the ChiSq Test is:', ChiSqResult[1])"
   ]
  },
  {
   "cell_type": "markdown",
   "metadata": {
    "application/vnd.databricks.v1+cell": {
     "inputWidgets": {},
     "nuid": "639e7075-b95a-4a63-9714-9e22e13406cc",
     "showTitle": false,
     "title": ""
    }
   },
   "source": [
    "The P-Value of the ChiSq Test is: 0.4492485038421585,hence there is no correlation between subscription_status & employee title"
   ]
  },
  {
   "cell_type": "code",
   "execution_count": 0,
   "metadata": {
    "application/vnd.databricks.v1+cell": {
     "inputWidgets": {},
     "nuid": "fc512611-2fa2-49d0-944a-700624a0d8c7",
     "showTitle": false,
     "title": ""
    }
   },
   "outputs": [
    {
     "data": {
      "text/html": [
       "<style scoped>\n",
       "  .ansiout {\n",
       "    display: block;\n",
       "    unicode-bidi: embed;\n",
       "    white-space: pre-wrap;\n",
       "    word-wrap: break-word;\n",
       "    word-break: break-all;\n",
       "    font-family: \"Source Code Pro\", \"Menlo\", monospace;;\n",
       "    font-size: 13px;\n",
       "    color: #555;\n",
       "    margin-left: 4px;\n",
       "    line-height: 19px;\n",
       "  }\n",
       "</style>\n",
       "<div class=\"ansiout\">subscription_term          Annual  ...  Payment in advance\n",
       "emplyment_title                    ...                    \n",
       "Accounting Agent                0  ...                   1\n",
       "Accounting Analyst              1  ...                   0\n",
       "Accounting Architect            0  ...                   1\n",
       "Accounting Assistant            1  ...                   0\n",
       "Accounting Coordinator          2  ...                   0\n",
       "...                           ...  ...                 ...\n",
       "Technology Officer              0  ...                   0\n",
       "Technology Orchestrator         0  ...                   0\n",
       "Technology Representative       0  ...                   0\n",
       "Technology Specialist           0  ...                   0\n",
       "Technology Supervisor           0  ...                   1\n",
       "\n",
       "[888 rows x 4 columns]\n",
       "The P-Value of the ChiSq Test is: 0.6662423143078474\n",
       "</div>"
      ]
     },
     "metadata": {
      "application/vnd.databricks.v1+output": {
       "addedWidgets": {},
       "arguments": {},
       "data": "<div class=\"ansiout\">subscription_term          Annual  ...  Payment in advance\nemplyment_title                    ...                    \nAccounting Agent                0  ...                   1\nAccounting Analyst              1  ...                   0\nAccounting Architect            0  ...                   1\nAccounting Assistant            1  ...                   0\nAccounting Coordinator          2  ...                   0\n...                           ...  ...                 ...\nTechnology Officer              0  ...                   0\nTechnology Orchestrator         0  ...                   0\nTechnology Representative       0  ...                   0\nTechnology Specialist           0  ...                   0\nTechnology Supervisor           0  ...                   1\n\n[888 rows x 4 columns]\nThe P-Value of the ChiSq Test is: 0.6662423143078474\n</div>",
       "datasetInfos": [],
       "metadata": {},
       "removedWidgets": [],
       "type": "html"
      }
     },
     "output_type": "display_data"
    }
   ],
   "source": [
    "# checking correlation between subscription_term & employee title \n",
    "\n",
    "# Cross tabulation between subscription_term & employee title\n",
    "\n",
    "CrosstabResult=pd.crosstab(index=df['emplyment_title'],columns=df['subscription_term'])\n",
    "print(CrosstabResult)\n",
    " \n",
    "# Performing Chi-sq test\n",
    "ChiSqResult = chi2_contingency(CrosstabResult)\n",
    " \n",
    "print('The P-Value of the ChiSq Test is:', ChiSqResult[1])"
   ]
  },
  {
   "cell_type": "markdown",
   "metadata": {
    "application/vnd.databricks.v1+cell": {
     "inputWidgets": {},
     "nuid": "cb0b13fc-b1a5-4a2e-8296-2109fea3c939",
     "showTitle": false,
     "title": ""
    }
   },
   "source": [
    "The P-Value of the ChiSq Test is: 0.6662423143078474,hence there is no correlation between subscription_term & employee title"
   ]
  },
  {
   "cell_type": "code",
   "execution_count": 0,
   "metadata": {
    "application/vnd.databricks.v1+cell": {
     "inputWidgets": {},
     "nuid": "fe653882-721b-4933-aa15-0d7a35c41556",
     "showTitle": false,
     "title": ""
    }
   },
   "outputs": [
    {
     "data": {
      "text/html": [
       "<style scoped>\n",
       "  .ansiout {\n",
       "    display: block;\n",
       "    unicode-bidi: embed;\n",
       "    white-space: pre-wrap;\n",
       "    word-wrap: break-word;\n",
       "    word-break: break-all;\n",
       "    font-family: \"Source Code Pro\", \"Menlo\", monospace;;\n",
       "    font-size: 13px;\n",
       "    color: #555;\n",
       "    margin-left: 4px;\n",
       "    line-height: 19px;\n",
       "  }\n",
       "</style>\n",
       "<div class=\"ansiout\">subscription_payment_method  Alipay  Apple Pay  ...  Visa checkout  WeChat Pay\n",
       "emplyment_title                                 ...                           \n",
       "Accounting Agent                  0          1  ...              0           0\n",
       "Accounting Analyst                0          0  ...              0           0\n",
       "Accounting Architect              0          0  ...              0           0\n",
       "Accounting Assistant              0          0  ...              0           0\n",
       "Accounting Coordinator            0          0  ...              0           0\n",
       "...                             ...        ...  ...            ...         ...\n",
       "Technology Officer                0          0  ...              0           0\n",
       "Technology Orchestrator           0          0  ...              0           0\n",
       "Technology Representative         1          0  ...              0           0\n",
       "Technology Specialist             0          1  ...              0           0\n",
       "Technology Supervisor             0          0  ...              0           0\n",
       "\n",
       "[888 rows x 12 columns]\n",
       "The P-Value of the ChiSq Test is: 0.3457651247975165\n",
       "</div>"
      ]
     },
     "metadata": {
      "application/vnd.databricks.v1+output": {
       "addedWidgets": {},
       "arguments": {},
       "data": "<div class=\"ansiout\">subscription_payment_method  Alipay  Apple Pay  ...  Visa checkout  WeChat Pay\nemplyment_title                                 ...                           \nAccounting Agent                  0          1  ...              0           0\nAccounting Analyst                0          0  ...              0           0\nAccounting Architect              0          0  ...              0           0\nAccounting Assistant              0          0  ...              0           0\nAccounting Coordinator            0          0  ...              0           0\n...                             ...        ...  ...            ...         ...\nTechnology Officer                0          0  ...              0           0\nTechnology Orchestrator           0          0  ...              0           0\nTechnology Representative         1          0  ...              0           0\nTechnology Specialist             0          1  ...              0           0\nTechnology Supervisor             0          0  ...              0           0\n\n[888 rows x 12 columns]\nThe P-Value of the ChiSq Test is: 0.3457651247975165\n</div>",
       "datasetInfos": [],
       "metadata": {},
       "removedWidgets": [],
       "type": "html"
      }
     },
     "output_type": "display_data"
    }
   ],
   "source": [
    "# checking correlation between subscription_payment_method & employee title \n",
    "\n",
    "# Cross tabulation between subscription_payment_method\t & employee title\n",
    "\n",
    "CrosstabResult=pd.crosstab(index=df['emplyment_title'],columns=df['subscription_payment_method'])\n",
    "print(CrosstabResult)\n",
    "  \n",
    "# Performing Chi-sq test\n",
    "ChiSqResult = chi2_contingency(CrosstabResult)\n",
    " \n",
    "print('The P-Value of the ChiSq Test is:', ChiSqResult[1])"
   ]
  },
  {
   "cell_type": "markdown",
   "metadata": {
    "application/vnd.databricks.v1+cell": {
     "inputWidgets": {},
     "nuid": "5ef2682d-8b38-45a2-bf42-8ef34c47b556",
     "showTitle": false,
     "title": ""
    }
   },
   "source": [
    "The P-Value of the ChiSq Test is: 0.3457651247975165,hence there is no correlation between payment_method & employee title"
   ]
  },
  {
   "cell_type": "code",
   "execution_count": 0,
   "metadata": {
    "application/vnd.databricks.v1+cell": {
     "inputWidgets": {},
     "nuid": "bd1a82b4-a5c9-491d-a231-e3df187c225b",
     "showTitle": false,
     "title": ""
    }
   },
   "outputs": [
    {
     "data": {
      "text/html": [
       "<style scoped>\n",
       "  .ansiout {\n",
       "    display: block;\n",
       "    unicode-bidi: embed;\n",
       "    white-space: pre-wrap;\n",
       "    word-wrap: break-word;\n",
       "    word-break: break-all;\n",
       "    font-family: \"Source Code Pro\", \"Menlo\", monospace;;\n",
       "    font-size: 13px;\n",
       "    color: #555;\n",
       "    margin-left: 4px;\n",
       "    line-height: 19px;\n",
       "  }\n",
       "</style>\n",
       "<div class=\"ansiout\">employment_key_skill       Communication  ...  Work under pressure\n",
       "emplyment_title                           ...                     \n",
       "Accounting Agent                       0  ...                    0\n",
       "Accounting Analyst                     1  ...                    0\n",
       "Accounting Architect                   0  ...                    0\n",
       "Accounting Assistant                   0  ...                    0\n",
       "Accounting Coordinator                 0  ...                    0\n",
       "...                                  ...  ...                  ...\n",
       "Technology Officer                     0  ...                    0\n",
       "Technology Orchestrator                0  ...                    0\n",
       "Technology Representative              0  ...                    0\n",
       "Technology Specialist                  1  ...                    0\n",
       "Technology Supervisor                  1  ...                    0\n",
       "\n",
       "[888 rows x 12 columns]\n",
       "The P-Value of the ChiSq Test is: 0.6391741156098718\n",
       "</div>"
      ]
     },
     "metadata": {
      "application/vnd.databricks.v1+output": {
       "addedWidgets": {},
       "arguments": {},
       "data": "<div class=\"ansiout\">employment_key_skill       Communication  ...  Work under pressure\nemplyment_title                           ...                     \nAccounting Agent                       0  ...                    0\nAccounting Analyst                     1  ...                    0\nAccounting Architect                   0  ...                    0\nAccounting Assistant                   0  ...                    0\nAccounting Coordinator                 0  ...                    0\n...                                  ...  ...                  ...\nTechnology Officer                     0  ...                    0\nTechnology Orchestrator                0  ...                    0\nTechnology Representative              0  ...                    0\nTechnology Specialist                  1  ...                    0\nTechnology Supervisor                  1  ...                    0\n\n[888 rows x 12 columns]\nThe P-Value of the ChiSq Test is: 0.6391741156098718\n</div>",
       "datasetInfos": [],
       "metadata": {},
       "removedWidgets": [],
       "type": "html"
      }
     },
     "output_type": "display_data"
    }
   ],
   "source": [
    "# checking correlation between subscription_payment_method & employment_key_skill \n",
    "\n",
    "# Cross tabulation between subscription_payment_method\t & employment_key_skill\n",
    "\n",
    "CrosstabResult=pd.crosstab(index=df['emplyment_title'],columns=df['employment_key_skill'])\n",
    "print(CrosstabResult)\n",
    " \n",
    "# Performing Chi-sq test\n",
    "ChiSqResult = chi2_contingency(CrosstabResult)\n",
    " \n",
    "print('The P-Value of the ChiSq Test is:', ChiSqResult[1])"
   ]
  },
  {
   "cell_type": "markdown",
   "metadata": {
    "application/vnd.databricks.v1+cell": {
     "inputWidgets": {},
     "nuid": "a81f0d89-9af8-4678-9129-f27dbadd53d9",
     "showTitle": false,
     "title": ""
    }
   },
   "source": [
    "Grouping the customers by identifying similaraties and dissimalrities of the data set (Clustering)\n",
    "\n",
    "    Identify the suitable categorical data and create anoth Data frame to proceed clustering/grouping\n",
    "\n",
    "    Use K-mean clustering method"
   ]
  },
  {
   "cell_type": "code",
   "execution_count": 0,
   "metadata": {
    "application/vnd.databricks.v1+cell": {
     "inputWidgets": {},
     "nuid": "651b6e31-fa01-453e-b6c1-c6e024e170ff",
     "showTitle": false,
     "title": ""
    }
   },
   "outputs": [
    {
     "data": {
      "text/html": [
       "<style scoped>\n",
       "  .ansiout {\n",
       "    display: block;\n",
       "    unicode-bidi: embed;\n",
       "    white-space: pre-wrap;\n",
       "    word-wrap: break-word;\n",
       "    word-break: break-all;\n",
       "    font-family: \"Source Code Pro\", \"Menlo\", monospace;;\n",
       "    font-size: 13px;\n",
       "    color: #555;\n",
       "    margin-left: 4px;\n",
       "    line-height: 19px;\n",
       "  }\n",
       "</style>\n",
       "<div class=\"ansiout\">Out[69]: </div>"
      ]
     },
     "metadata": {
      "application/vnd.databricks.v1+output": {
       "addedWidgets": {},
       "arguments": {},
       "data": "<div class=\"ansiout\">Out[69]: </div>",
       "datasetInfos": [],
       "metadata": {},
       "removedWidgets": [],
       "type": "html"
      }
     },
     "output_type": "display_data"
    },
    {
     "data": {
      "text/html": [
       "<div>\n",
       "<style scoped>\n",
       "    .dataframe tbody tr th:only-of-type {\n",
       "        vertical-align: middle;\n",
       "    }\n",
       "\n",
       "    .dataframe tbody tr th {\n",
       "        vertical-align: top;\n",
       "    }\n",
       "\n",
       "    .dataframe thead th {\n",
       "        text-align: right;\n",
       "    }\n",
       "</style>\n",
       "<table border=\"1\" class=\"dataframe\">\n",
       "  <thead>\n",
       "    <tr style=\"text-align: right;\">\n",
       "      <th></th>\n",
       "      <th>user_id</th>\n",
       "      <th>gender</th>\n",
       "      <th>emplyment_title</th>\n",
       "      <th>employment_key_skill</th>\n",
       "      <th>StateName</th>\n",
       "      <th>subscription_plan</th>\n",
       "      <th>subscription_status</th>\n",
       "      <th>subscription_payment_method</th>\n",
       "      <th>subscription_term</th>\n",
       "    </tr>\n",
       "    <tr>\n",
       "      <th>id</th>\n",
       "      <th></th>\n",
       "      <th></th>\n",
       "      <th></th>\n",
       "      <th></th>\n",
       "      <th></th>\n",
       "      <th></th>\n",
       "      <th></th>\n",
       "      <th></th>\n",
       "      <th></th>\n",
       "    </tr>\n",
       "  </thead>\n",
       "  <tbody>\n",
       "    <tr>\n",
       "      <th>1</th>\n",
       "      <td>8950</td>\n",
       "      <td>Non-binary</td>\n",
       "      <td>Regional Executive</td>\n",
       "      <td>Teamwork</td>\n",
       "      <td>Florida</td>\n",
       "      <td>Premium</td>\n",
       "      <td>Blocked</td>\n",
       "      <td>WeChat Pay</td>\n",
       "      <td>Full subscription</td>\n",
       "    </tr>\n",
       "    <tr>\n",
       "      <th>2</th>\n",
       "      <td>5940</td>\n",
       "      <td>Female</td>\n",
       "      <td>Technology Officer</td>\n",
       "      <td>Networking skills</td>\n",
       "      <td>North Dakota</td>\n",
       "      <td>Gold</td>\n",
       "      <td>Blocked</td>\n",
       "      <td>Money transfer</td>\n",
       "      <td>Monthly</td>\n",
       "    </tr>\n",
       "    <tr>\n",
       "      <th>3</th>\n",
       "      <td>4375</td>\n",
       "      <td>Polygender</td>\n",
       "      <td>Community-Services Developer</td>\n",
       "      <td>Work under pressure</td>\n",
       "      <td>Tennessee</td>\n",
       "      <td>Starter</td>\n",
       "      <td>Pending</td>\n",
       "      <td>Credit card</td>\n",
       "      <td>Full subscription</td>\n",
       "    </tr>\n",
       "    <tr>\n",
       "      <th>4</th>\n",
       "      <td>6442</td>\n",
       "      <td>Genderfluid</td>\n",
       "      <td>Forward Coordinator</td>\n",
       "      <td>Networking skills</td>\n",
       "      <td>California</td>\n",
       "      <td>Free Trial</td>\n",
       "      <td>Pending</td>\n",
       "      <td>Bitcoins</td>\n",
       "      <td>Annual</td>\n",
       "    </tr>\n",
       "    <tr>\n",
       "      <th>5</th>\n",
       "      <td>9694</td>\n",
       "      <td>Bigender</td>\n",
       "      <td>Principal Specialist</td>\n",
       "      <td>Organisation</td>\n",
       "      <td>New Jersey</td>\n",
       "      <td>Bronze</td>\n",
       "      <td>Pending</td>\n",
       "      <td>Paypal</td>\n",
       "      <td>Annual</td>\n",
       "    </tr>\n",
       "    <tr>\n",
       "      <th>...</th>\n",
       "      <td>...</td>\n",
       "      <td>...</td>\n",
       "      <td>...</td>\n",
       "      <td>...</td>\n",
       "      <td>...</td>\n",
       "      <td>...</td>\n",
       "      <td>...</td>\n",
       "      <td>...</td>\n",
       "      <td>...</td>\n",
       "    </tr>\n",
       "    <tr>\n",
       "      <th>1050</th>\n",
       "      <td>5514</td>\n",
       "      <td>Non-binary</td>\n",
       "      <td>Customer Education Associate</td>\n",
       "      <td>Self-motivated</td>\n",
       "      <td>New Hampshire</td>\n",
       "      <td>Gold</td>\n",
       "      <td>Active</td>\n",
       "      <td>Debit card</td>\n",
       "      <td>Annual</td>\n",
       "    </tr>\n",
       "    <tr>\n",
       "      <th>1051</th>\n",
       "      <td>8262</td>\n",
       "      <td>Genderfluid</td>\n",
       "      <td>Manufacturing Liaison</td>\n",
       "      <td>Communication</td>\n",
       "      <td>Washington</td>\n",
       "      <td>Gold</td>\n",
       "      <td>Idle</td>\n",
       "      <td>Cheque</td>\n",
       "      <td>Payment in advance</td>\n",
       "    </tr>\n",
       "    <tr>\n",
       "      <th>1052</th>\n",
       "      <td>6796</td>\n",
       "      <td>Polygender</td>\n",
       "      <td>Future Education Engineer</td>\n",
       "      <td>Technical savvy</td>\n",
       "      <td>Kansas</td>\n",
       "      <td>Professional</td>\n",
       "      <td>Active</td>\n",
       "      <td>Apple Pay</td>\n",
       "      <td>Monthly</td>\n",
       "    </tr>\n",
       "    <tr>\n",
       "      <th>1053</th>\n",
       "      <td>9365</td>\n",
       "      <td>Agender</td>\n",
       "      <td>National Accounting Producer</td>\n",
       "      <td>Work under pressure</td>\n",
       "      <td>New Hampshire</td>\n",
       "      <td>Business</td>\n",
       "      <td>Idle</td>\n",
       "      <td>Bitcoins</td>\n",
       "      <td>Annual</td>\n",
       "    </tr>\n",
       "    <tr>\n",
       "      <th>1054</th>\n",
       "      <td>9770</td>\n",
       "      <td>Male</td>\n",
       "      <td>Construction Engineer</td>\n",
       "      <td>Teamwork</td>\n",
       "      <td>Alaska</td>\n",
       "      <td>Essential</td>\n",
       "      <td>Pending</td>\n",
       "      <td>Cash</td>\n",
       "      <td>Payment in advance</td>\n",
       "    </tr>\n",
       "  </tbody>\n",
       "</table>\n",
       "<p>1054 rows × 9 columns</p>\n",
       "</div>"
      ]
     },
     "metadata": {
      "application/vnd.databricks.v1+output": {
       "addedWidgets": {},
       "arguments": {},
       "data": "<div>\n<style scoped>\n    .dataframe tbody tr th:only-of-type {\n        vertical-align: middle;\n    }\n\n    .dataframe tbody tr th {\n        vertical-align: top;\n    }\n\n    .dataframe thead th {\n        text-align: right;\n    }\n</style>\n<table border=\"1\" class=\"dataframe\">\n  <thead>\n    <tr style=\"text-align: right;\">\n      <th></th>\n      <th>user_id</th>\n      <th>gender</th>\n      <th>emplyment_title</th>\n      <th>employment_key_skill</th>\n      <th>StateName</th>\n      <th>subscription_plan</th>\n      <th>subscription_status</th>\n      <th>subscription_payment_method</th>\n      <th>subscription_term</th>\n    </tr>\n    <tr>\n      <th>id</th>\n      <th></th>\n      <th></th>\n      <th></th>\n      <th></th>\n      <th></th>\n      <th></th>\n      <th></th>\n      <th></th>\n      <th></th>\n    </tr>\n  </thead>\n  <tbody>\n    <tr>\n      <th>1</th>\n      <td>8950</td>\n      <td>Non-binary</td>\n      <td>Regional Executive</td>\n      <td>Teamwork</td>\n      <td>Florida</td>\n      <td>Premium</td>\n      <td>Blocked</td>\n      <td>WeChat Pay</td>\n      <td>Full subscription</td>\n    </tr>\n    <tr>\n      <th>2</th>\n      <td>5940</td>\n      <td>Female</td>\n      <td>Technology Officer</td>\n      <td>Networking skills</td>\n      <td>North Dakota</td>\n      <td>Gold</td>\n      <td>Blocked</td>\n      <td>Money transfer</td>\n      <td>Monthly</td>\n    </tr>\n    <tr>\n      <th>3</th>\n      <td>4375</td>\n      <td>Polygender</td>\n      <td>Community-Services Developer</td>\n      <td>Work under pressure</td>\n      <td>Tennessee</td>\n      <td>Starter</td>\n      <td>Pending</td>\n      <td>Credit card</td>\n      <td>Full subscription</td>\n    </tr>\n    <tr>\n      <th>4</th>\n      <td>6442</td>\n      <td>Genderfluid</td>\n      <td>Forward Coordinator</td>\n      <td>Networking skills</td>\n      <td>California</td>\n      <td>Free Trial</td>\n      <td>Pending</td>\n      <td>Bitcoins</td>\n      <td>Annual</td>\n    </tr>\n    <tr>\n      <th>5</th>\n      <td>9694</td>\n      <td>Bigender</td>\n      <td>Principal Specialist</td>\n      <td>Organisation</td>\n      <td>New Jersey</td>\n      <td>Bronze</td>\n      <td>Pending</td>\n      <td>Paypal</td>\n      <td>Annual</td>\n    </tr>\n    <tr>\n      <th>...</th>\n      <td>...</td>\n      <td>...</td>\n      <td>...</td>\n      <td>...</td>\n      <td>...</td>\n      <td>...</td>\n      <td>...</td>\n      <td>...</td>\n      <td>...</td>\n    </tr>\n    <tr>\n      <th>1050</th>\n      <td>5514</td>\n      <td>Non-binary</td>\n      <td>Customer Education Associate</td>\n      <td>Self-motivated</td>\n      <td>New Hampshire</td>\n      <td>Gold</td>\n      <td>Active</td>\n      <td>Debit card</td>\n      <td>Annual</td>\n    </tr>\n    <tr>\n      <th>1051</th>\n      <td>8262</td>\n      <td>Genderfluid</td>\n      <td>Manufacturing Liaison</td>\n      <td>Communication</td>\n      <td>Washington</td>\n      <td>Gold</td>\n      <td>Idle</td>\n      <td>Cheque</td>\n      <td>Payment in advance</td>\n    </tr>\n    <tr>\n      <th>1052</th>\n      <td>6796</td>\n      <td>Polygender</td>\n      <td>Future Education Engineer</td>\n      <td>Technical savvy</td>\n      <td>Kansas</td>\n      <td>Professional</td>\n      <td>Active</td>\n      <td>Apple Pay</td>\n      <td>Monthly</td>\n    </tr>\n    <tr>\n      <th>1053</th>\n      <td>9365</td>\n      <td>Agender</td>\n      <td>National Accounting Producer</td>\n      <td>Work under pressure</td>\n      <td>New Hampshire</td>\n      <td>Business</td>\n      <td>Idle</td>\n      <td>Bitcoins</td>\n      <td>Annual</td>\n    </tr>\n    <tr>\n      <th>1054</th>\n      <td>9770</td>\n      <td>Male</td>\n      <td>Construction Engineer</td>\n      <td>Teamwork</td>\n      <td>Alaska</td>\n      <td>Essential</td>\n      <td>Pending</td>\n      <td>Cash</td>\n      <td>Payment in advance</td>\n    </tr>\n  </tbody>\n</table>\n<p>1054 rows × 9 columns</p>\n</div>",
       "datasetInfos": [],
       "metadata": {},
       "removedWidgets": [],
       "textData": null,
       "type": "htmlSandbox"
      }
     },
     "output_type": "display_data"
    }
   ],
   "source": [
    "df1=df[['id','user_id','gender','emplyment_title','employment_key_skill','StateName','subscription_plan','subscription_status','subscription_payment_method','subscription_term']]\n",
    "df1 = df1.set_index('id')\n",
    "df1"
   ]
  },
  {
   "cell_type": "markdown",
   "metadata": {
    "application/vnd.databricks.v1+cell": {
     "inputWidgets": {},
     "nuid": "40001f6e-0cc6-4f3a-836c-1c6537da3b59",
     "showTitle": false,
     "title": ""
    }
   },
   "source": [
    "Draw the plot between  Cost vs No of cluster to draw  Elbow curve to find optimal K value\n",
    "\n",
    "    For KModes, plot cost for a range of K values. Cost is the sum of all the dissimilarities between the clusters\n",
    "    \n",
    "    Select the K where observe an elbow-like bend with a lesser cost value"
   ]
  },
  {
   "cell_type": "code",
   "execution_count": 0,
   "metadata": {
    "application/vnd.databricks.v1+cell": {
     "inputWidgets": {},
     "nuid": "1c52180d-e80f-4c4c-8d8c-77cd335b8972",
     "showTitle": false,
     "title": ""
    }
   },
   "outputs": [
    {
     "data": {
      "text/html": [
       "<style scoped>\n",
       "  .ansiout {\n",
       "    display: block;\n",
       "    unicode-bidi: embed;\n",
       "    white-space: pre-wrap;\n",
       "    word-wrap: break-word;\n",
       "    word-break: break-all;\n",
       "    font-family: \"Source Code Pro\", \"Menlo\", monospace;;\n",
       "    font-size: 13px;\n",
       "    color: #555;\n",
       "    margin-left: 4px;\n",
       "    line-height: 19px;\n",
       "  }\n",
       "</style>\n",
       "<div class=\"ansiout\">Init: initializing centroids\n",
       "Init: initializing clusters\n",
       "Starting iterations...\n",
       "Run 1, iteration: 1/100, moves: 0, cost: 8432.0\n",
       "Init: initializing centroids\n",
       "Init: initializing clusters\n",
       "Starting iterations...\n",
       "Run 2, iteration: 1/100, moves: 0, cost: 8432.0\n",
       "Init: initializing centroids\n",
       "Init: initializing clusters\n",
       "Starting iterations...\n",
       "Run 3, iteration: 1/100, moves: 0, cost: 8432.0\n",
       "Init: initializing centroids\n",
       "Init: initializing clusters\n",
       "Starting iterations...\n",
       "Run 4, iteration: 1/100, moves: 0, cost: 8432.0\n",
       "Init: initializing centroids\n",
       "Init: initializing clusters\n",
       "Starting iterations...\n",
       "Run 5, iteration: 1/100, moves: 0, cost: 8432.0\n",
       "Best run was number 1\n",
       "Init: initializing centroids\n",
       "Init: initializing clusters\n",
       "Starting iterations...\n",
       "Run 1, iteration: 1/100, moves: 240, cost: 7950.0\n",
       "Run 1, iteration: 2/100, moves: 8, cost: 7950.0\n",
       "Init: initializing centroids\n",
       "Init: initializing clusters\n",
       "Starting iterations...\n",
       "Run 2, iteration: 1/100, moves: 118, cost: 7967.0\n",
       "Run 2, iteration: 2/100, moves: 101, cost: 7966.0\n",
       "Run 2, iteration: 3/100, moves: 1, cost: 7966.0\n",
       "Init: initializing centroids\n",
       "Init: initializing clusters\n",
       "Starting iterations...\n",
       "Run 3, iteration: 1/100, moves: 169, cost: 7953.0\n",
       "Run 3, iteration: 2/100, moves: 2, cost: 7953.0\n",
       "Init: initializing centroids\n",
       "Init: initializing clusters\n",
       "Starting iterations...\n",
       "Run 4, iteration: 1/100, moves: 55, cost: 7980.0\n",
       "Init: initializing centroids\n",
       "Init: initializing clusters\n",
       "Starting iterations...\n",
       "Run 5, iteration: 1/100, moves: 35, cost: 7940.0\n",
       "Best run was number 5\n",
       "Init: initializing centroids\n",
       "Init: initializing clusters\n",
       "Starting iterations...\n",
       "Run 1, iteration: 1/100, moves: 17, cost: 7694.0\n",
       "Init: initializing centroids\n",
       "Init: initializing clusters\n",
       "Starting iterations...\n",
       "Run 2, iteration: 1/100, moves: 65, cost: 7676.0\n",
       "Run 2, iteration: 2/100, moves: 4, cost: 7676.0\n",
       "Init: initializing centroids\n",
       "Init: initializing clusters\n",
       "Starting iterations...\n",
       "Run 3, iteration: 1/100, moves: 267, cost: 7750.0\n",
       "Run 3, iteration: 2/100, moves: 2, cost: 7750.0\n",
       "Init: initializing centroids\n",
       "Init: initializing clusters\n",
       "Starting iterations...\n",
       "Run 4, iteration: 1/100, moves: 12, cost: 7759.0\n",
       "Init: initializing centroids\n",
       "Init: initializing clusters\n",
       "Starting iterations...\n",
       "Run 5, iteration: 1/100, moves: 264, cost: 7654.0\n",
       "Run 5, iteration: 2/100, moves: 15, cost: 7653.0\n",
       "Run 5, iteration: 3/100, moves: 0, cost: 7653.0\n",
       "Best run was number 5\n",
       "Init: initializing centroids\n",
       "Init: initializing clusters\n",
       "Starting iterations...\n",
       "Run 1, iteration: 1/100, moves: 57, cost: 7502.0\n",
       "Init: initializing centroids\n",
       "Init: initializing clusters\n",
       "Starting iterations...\n",
       "Run 2, iteration: 1/100, moves: 78, cost: 7442.0\n",
       "Run 2, iteration: 2/100, moves: 11, cost: 7442.0\n",
       "Init: initializing centroids\n",
       "Init: initializing clusters\n",
       "Starting iterations...\n",
       "Run 3, iteration: 1/100, moves: 28, cost: 7536.0\n",
       "Init: initializing centroids\n",
       "Init: initializing clusters\n",
       "Starting iterations...\n",
       "Run 4, iteration: 1/100, moves: 1, cost: 7512.0\n",
       "Init: initializing centroids\n",
       "Init: initializing clusters\n",
       "Starting iterations...\n",
       "Run 5, iteration: 1/100, moves: 55, cost: 7535.0\n",
       "Best run was number 2\n",
       "Init: initializing centroids\n",
       "Init: initializing clusters\n",
       "Starting iterations...\n",
       "Run 1, iteration: 1/100, moves: 29, cost: 7327.0\n",
       "Init: initializing centroids\n",
       "Init: initializing clusters\n",
       "Starting iterations...\n",
       "Run 2, iteration: 1/100, moves: 12, cost: 7411.0\n",
       "Init: initializing centroids\n",
       "Init: initializing clusters\n",
       "Starting iterations...\n",
       "Run 3, iteration: 1/100, moves: 128, cost: 7375.0\n",
       "Init: initializing centroids\n",
       "Init: initializing clusters\n",
       "Starting iterations...\n",
       "Run 4, iteration: 1/100, moves: 17, cost: 7402.0\n",
       "Init: initializing centroids\n",
       "Init: initializing clusters\n",
       "Starting iterations...\n",
       "Run 5, iteration: 1/100, moves: 69, cost: 7282.0\n",
       "Best run was number 5\n",
       "Init: initializing centroids\n",
       "Init: initializing clusters\n",
       "Starting iterations...\n",
       "Run 1, iteration: 1/100, moves: 28, cost: 7212.0\n",
       "Init: initializing centroids\n",
       "Init: initializing clusters\n",
       "Starting iterations...\n",
       "Run 2, iteration: 1/100, moves: 123, cost: 7233.0\n",
       "Init: initializing centroids\n",
       "Init: initializing clusters\n",
       "Starting iterations...\n",
       "Run 3, iteration: 1/100, moves: 101, cost: 7230.0\n",
       "Init: initializing centroids\n",
       "Init: initializing clusters\n",
       "Starting iterations...\n",
       "Run 4, iteration: 1/100, moves: 33, cost: 7270.0\n",
       "Init: initializing centroids\n",
       "Init: initializing clusters\n",
       "Starting iterations...\n",
       "Run 5, iteration: 1/100, moves: 113, cost: 7249.0\n",
       "Best run was number 1\n",
       "Init: initializing centroids\n",
       "Init: initializing clusters\n",
       "Starting iterations...\n",
       "Run 1, iteration: 1/100, moves: 41, cost: 7158.0\n",
       "Run 1, iteration: 2/100, moves: 0, cost: 7158.0\n",
       "Init: initializing centroids\n",
       "Init: initializing clusters\n",
       "Starting iterations...\n",
       "Run 2, iteration: 1/100, moves: 29, cost: 7171.0\n",
       "Run 2, iteration: 2/100, moves: 43, cost: 7169.0\n",
       "Run 2, iteration: 3/100, moves: 1, cost: 7169.0\n",
       "Init: initializing centroids\n",
       "Init: initializing clusters\n",
       "Starting iterations...\n",
       "Run 3, iteration: 1/100, moves: 13, cost: 7242.0\n",
       "Run 3, iteration: 2/100, moves: 0, cost: 7242.0\n",
       "Init: initializing centroids\n",
       "Init: initializing clusters\n",
       "Starting iterations...\n",
       "Run 4, iteration: 1/100, moves: 0, cost: 7211.0\n",
       "Init: initializing centroids\n",
       "Init: initializing clusters\n",
       "Starting iterations...\n",
       "Run 5, iteration: 1/100, moves: 44, cost: 7153.0\n",
       "Run 5, iteration: 2/100, moves: 3, cost: 7153.0\n",
       "Best run was number 5\n",
       "Init: initializing centroids\n",
       "Init: initializing clusters\n",
       "Starting iterations...\n",
       "Run 1, iteration: 1/100, moves: 74, cost: 7052.0\n",
       "Run 1, iteration: 2/100, moves: 1, cost: 7052.0\n",
       "Init: initializing centroids\n",
       "Init: initializing clusters\n",
       "Starting iterations...\n",
       "Run 2, iteration: 1/100, moves: 13, cost: 7169.0\n",
       "Init: initializing centroids\n",
       "Init: initializing clusters\n",
       "Starting iterations...\n",
       "Run 3, iteration: 1/100, moves: 68, cost: 7093.0\n",
       "Run 3, iteration: 2/100, moves: 13, cost: 7093.0\n",
       "Init: initializing centroids\n",
       "Init: initializing clusters\n",
       "Starting iterations...\n",
       "Run 4, iteration: 1/100, moves: 3, cost: 7169.0\n",
       "Init: initializing centroids\n",
       "Init: initializing clusters\n",
       "Starting iterations...\n",
       "Run 5, iteration: 1/100, moves: 138, cost: 7133.0\n",
       "Run 5, iteration: 2/100, moves: 15, cost: 7133.0\n",
       "Best run was number 1\n",
       "Init: initializing centroids\n",
       "Init: initializing clusters\n",
       "Starting iterations...\n",
       "Run 1, iteration: 1/100, moves: 194, cost: 7035.0\n",
       "Run 1, iteration: 2/100, moves: 0, cost: 7035.0\n",
       "Init: initializing centroids\n",
       "Init: initializing clusters\n",
       "Starting iterations...\n",
       "Run 2, iteration: 1/100, moves: 193, cost: 7012.0\n",
       "Run 2, iteration: 2/100, moves: 4, cost: 7012.0\n",
       "Init: initializing centroids\n",
       "Init: initializing clusters\n",
       "Starting iterations...\n",
       "Run 3, iteration: 1/100, moves: 33, cost: 6990.0\n",
       "Run 3, iteration: 2/100, moves: 3, cost: 6990.0\n",
       "Init: initializing centroids\n",
       "Init: initializing clusters\n",
       "Starting iterations...\n",
       "Run 4, iteration: 1/100, moves: 75, cost: 6939.0\n",
       "Run 4, iteration: 2/100, moves: 7, cost: 6939.0\n",
       "Init: initializing centroids\n",
       "Init: initializing clusters\n",
       "Starting iterations...\n",
       "Run 5, iteration: 1/100, moves: 18, cost: 6998.0\n",
       "Best run was number 4\n",
       "Init: initializing centroids\n",
       "Init: initializing clusters\n",
       "Starting iterations...\n",
       "Run 1, iteration: 1/100, moves: 50, cost: 7021.0\n",
       "Run 1, iteration: 2/100, moves: 0, cost: 7021.0\n",
       "Init: initializing centroids\n",
       "Init: initializing clusters\n",
       "Starting iterations...\n",
       "Run 2, iteration: 1/100, moves: 29, cost: 6914.0\n",
       "Init: initializing centroids\n",
       "Init: initializing clusters\n",
       "Starting iterations...\n",
       "Run 3, iteration: 1/100, moves: 20, cost: 6922.0\n",
       "Init: initializing centroids\n",
       "Init: initializing clusters\n",
       "Starting iterations...\n",
       "Run 4, iteration: 1/100, moves: 49, cost: 6946.0\n",
       "Run 4, iteration: 2/100, moves: 0, cost: 6946.0\n",
       "Init: initializing centroids\n",
       "Init: initializing clusters\n",
       "Starting iterations...\n",
       "Run 5, iteration: 1/100, moves: 20, cost: 6913.0\n",
       "Best run was number 5\n",
       "Init: initializing centroids\n",
       "Init: initializing clusters\n",
       "Starting iterations...\n",
       "Run 1, iteration: 1/100, moves: 20, cost: 6850.0\n",
       "Init: initializing centroids\n",
       "Init: initializing clusters\n",
       "Starting iterations...\n",
       "Run 2, iteration: 1/100, moves: 65, cost: 6900.0\n",
       "Run 2, iteration: 2/100, moves: 8, cost: 6900.0\n",
       "Init: initializing centroids\n",
       "Init: initializing clusters\n",
       "Starting iterations...\n",
       "Run 3, iteration: 1/100, moves: 26, cost: 6903.0\n",
       "Init: initializing centroids\n",
       "Init: initializing clusters\n",
       "Starting iterations...\n",
       "Run 4, iteration: 1/100, moves: 51, cost: 6853.0\n",
       "Run 4, iteration: 2/100, moves: 17, cost: 6853.0\n",
       "Init: initializing centroids\n",
       "Init: initializing clusters\n",
       "Starting iterations...\n",
       "Run 5, iteration: 1/100, moves: 26, cost: 6850.0\n",
       "Best run was number 1\n",
       "</div>"
      ]
     },
     "metadata": {
      "application/vnd.databricks.v1+output": {
       "addedWidgets": {},
       "arguments": {},
       "data": "<div class=\"ansiout\">Init: initializing centroids\nInit: initializing clusters\nStarting iterations...\nRun 1, iteration: 1/100, moves: 0, cost: 8432.0\nInit: initializing centroids\nInit: initializing clusters\nStarting iterations...\nRun 2, iteration: 1/100, moves: 0, cost: 8432.0\nInit: initializing centroids\nInit: initializing clusters\nStarting iterations...\nRun 3, iteration: 1/100, moves: 0, cost: 8432.0\nInit: initializing centroids\nInit: initializing clusters\nStarting iterations...\nRun 4, iteration: 1/100, moves: 0, cost: 8432.0\nInit: initializing centroids\nInit: initializing clusters\nStarting iterations...\nRun 5, iteration: 1/100, moves: 0, cost: 8432.0\nBest run was number 1\nInit: initializing centroids\nInit: initializing clusters\nStarting iterations...\nRun 1, iteration: 1/100, moves: 240, cost: 7950.0\nRun 1, iteration: 2/100, moves: 8, cost: 7950.0\nInit: initializing centroids\nInit: initializing clusters\nStarting iterations...\nRun 2, iteration: 1/100, moves: 118, cost: 7967.0\nRun 2, iteration: 2/100, moves: 101, cost: 7966.0\nRun 2, iteration: 3/100, moves: 1, cost: 7966.0\nInit: initializing centroids\nInit: initializing clusters\nStarting iterations...\nRun 3, iteration: 1/100, moves: 169, cost: 7953.0\nRun 3, iteration: 2/100, moves: 2, cost: 7953.0\nInit: initializing centroids\nInit: initializing clusters\nStarting iterations...\nRun 4, iteration: 1/100, moves: 55, cost: 7980.0\nInit: initializing centroids\nInit: initializing clusters\nStarting iterations...\nRun 5, iteration: 1/100, moves: 35, cost: 7940.0\nBest run was number 5\nInit: initializing centroids\nInit: initializing clusters\nStarting iterations...\nRun 1, iteration: 1/100, moves: 17, cost: 7694.0\nInit: initializing centroids\nInit: initializing clusters\nStarting iterations...\nRun 2, iteration: 1/100, moves: 65, cost: 7676.0\nRun 2, iteration: 2/100, moves: 4, cost: 7676.0\nInit: initializing centroids\nInit: initializing clusters\nStarting iterations...\nRun 3, iteration: 1/100, moves: 267, cost: 7750.0\nRun 3, iteration: 2/100, moves: 2, cost: 7750.0\nInit: initializing centroids\nInit: initializing clusters\nStarting iterations...\nRun 4, iteration: 1/100, moves: 12, cost: 7759.0\nInit: initializing centroids\nInit: initializing clusters\nStarting iterations...\nRun 5, iteration: 1/100, moves: 264, cost: 7654.0\nRun 5, iteration: 2/100, moves: 15, cost: 7653.0\nRun 5, iteration: 3/100, moves: 0, cost: 7653.0\nBest run was number 5\nInit: initializing centroids\nInit: initializing clusters\nStarting iterations...\nRun 1, iteration: 1/100, moves: 57, cost: 7502.0\nInit: initializing centroids\nInit: initializing clusters\nStarting iterations...\nRun 2, iteration: 1/100, moves: 78, cost: 7442.0\nRun 2, iteration: 2/100, moves: 11, cost: 7442.0\nInit: initializing centroids\nInit: initializing clusters\nStarting iterations...\nRun 3, iteration: 1/100, moves: 28, cost: 7536.0\nInit: initializing centroids\nInit: initializing clusters\nStarting iterations...\nRun 4, iteration: 1/100, moves: 1, cost: 7512.0\nInit: initializing centroids\nInit: initializing clusters\nStarting iterations...\nRun 5, iteration: 1/100, moves: 55, cost: 7535.0\nBest run was number 2\nInit: initializing centroids\nInit: initializing clusters\nStarting iterations...\nRun 1, iteration: 1/100, moves: 29, cost: 7327.0\nInit: initializing centroids\nInit: initializing clusters\nStarting iterations...\nRun 2, iteration: 1/100, moves: 12, cost: 7411.0\nInit: initializing centroids\nInit: initializing clusters\nStarting iterations...\nRun 3, iteration: 1/100, moves: 128, cost: 7375.0\nInit: initializing centroids\nInit: initializing clusters\nStarting iterations...\nRun 4, iteration: 1/100, moves: 17, cost: 7402.0\nInit: initializing centroids\nInit: initializing clusters\nStarting iterations...\nRun 5, iteration: 1/100, moves: 69, cost: 7282.0\nBest run was number 5\nInit: initializing centroids\nInit: initializing clusters\nStarting iterations...\nRun 1, iteration: 1/100, moves: 28, cost: 7212.0\nInit: initializing centroids\nInit: initializing clusters\nStarting iterations...\nRun 2, iteration: 1/100, moves: 123, cost: 7233.0\nInit: initializing centroids\nInit: initializing clusters\nStarting iterations...\nRun 3, iteration: 1/100, moves: 101, cost: 7230.0\nInit: initializing centroids\nInit: initializing clusters\nStarting iterations...\nRun 4, iteration: 1/100, moves: 33, cost: 7270.0\nInit: initializing centroids\nInit: initializing clusters\nStarting iterations...\nRun 5, iteration: 1/100, moves: 113, cost: 7249.0\nBest run was number 1\nInit: initializing centroids\nInit: initializing clusters\nStarting iterations...\nRun 1, iteration: 1/100, moves: 41, cost: 7158.0\nRun 1, iteration: 2/100, moves: 0, cost: 7158.0\nInit: initializing centroids\nInit: initializing clusters\nStarting iterations...\nRun 2, iteration: 1/100, moves: 29, cost: 7171.0\nRun 2, iteration: 2/100, moves: 43, cost: 7169.0\nRun 2, iteration: 3/100, moves: 1, cost: 7169.0\nInit: initializing centroids\nInit: initializing clusters\nStarting iterations...\nRun 3, iteration: 1/100, moves: 13, cost: 7242.0\nRun 3, iteration: 2/100, moves: 0, cost: 7242.0\nInit: initializing centroids\nInit: initializing clusters\nStarting iterations...\nRun 4, iteration: 1/100, moves: 0, cost: 7211.0\nInit: initializing centroids\nInit: initializing clusters\nStarting iterations...\nRun 5, iteration: 1/100, moves: 44, cost: 7153.0\nRun 5, iteration: 2/100, moves: 3, cost: 7153.0\nBest run was number 5\nInit: initializing centroids\nInit: initializing clusters\nStarting iterations...\nRun 1, iteration: 1/100, moves: 74, cost: 7052.0\nRun 1, iteration: 2/100, moves: 1, cost: 7052.0\nInit: initializing centroids\nInit: initializing clusters\nStarting iterations...\nRun 2, iteration: 1/100, moves: 13, cost: 7169.0\nInit: initializing centroids\nInit: initializing clusters\nStarting iterations...\nRun 3, iteration: 1/100, moves: 68, cost: 7093.0\nRun 3, iteration: 2/100, moves: 13, cost: 7093.0\nInit: initializing centroids\nInit: initializing clusters\nStarting iterations...\nRun 4, iteration: 1/100, moves: 3, cost: 7169.0\nInit: initializing centroids\nInit: initializing clusters\nStarting iterations...\nRun 5, iteration: 1/100, moves: 138, cost: 7133.0\nRun 5, iteration: 2/100, moves: 15, cost: 7133.0\nBest run was number 1\nInit: initializing centroids\nInit: initializing clusters\nStarting iterations...\nRun 1, iteration: 1/100, moves: 194, cost: 7035.0\nRun 1, iteration: 2/100, moves: 0, cost: 7035.0\nInit: initializing centroids\nInit: initializing clusters\nStarting iterations...\nRun 2, iteration: 1/100, moves: 193, cost: 7012.0\nRun 2, iteration: 2/100, moves: 4, cost: 7012.0\nInit: initializing centroids\nInit: initializing clusters\nStarting iterations...\nRun 3, iteration: 1/100, moves: 33, cost: 6990.0\nRun 3, iteration: 2/100, moves: 3, cost: 6990.0\nInit: initializing centroids\nInit: initializing clusters\nStarting iterations...\nRun 4, iteration: 1/100, moves: 75, cost: 6939.0\nRun 4, iteration: 2/100, moves: 7, cost: 6939.0\nInit: initializing centroids\nInit: initializing clusters\nStarting iterations...\nRun 5, iteration: 1/100, moves: 18, cost: 6998.0\nBest run was number 4\nInit: initializing centroids\nInit: initializing clusters\nStarting iterations...\nRun 1, iteration: 1/100, moves: 50, cost: 7021.0\nRun 1, iteration: 2/100, moves: 0, cost: 7021.0\nInit: initializing centroids\nInit: initializing clusters\nStarting iterations...\nRun 2, iteration: 1/100, moves: 29, cost: 6914.0\nInit: initializing centroids\nInit: initializing clusters\nStarting iterations...\nRun 3, iteration: 1/100, moves: 20, cost: 6922.0\nInit: initializing centroids\nInit: initializing clusters\nStarting iterations...\nRun 4, iteration: 1/100, moves: 49, cost: 6946.0\nRun 4, iteration: 2/100, moves: 0, cost: 6946.0\nInit: initializing centroids\nInit: initializing clusters\nStarting iterations...\nRun 5, iteration: 1/100, moves: 20, cost: 6913.0\nBest run was number 5\nInit: initializing centroids\nInit: initializing clusters\nStarting iterations...\nRun 1, iteration: 1/100, moves: 20, cost: 6850.0\nInit: initializing centroids\nInit: initializing clusters\nStarting iterations...\nRun 2, iteration: 1/100, moves: 65, cost: 6900.0\nRun 2, iteration: 2/100, moves: 8, cost: 6900.0\nInit: initializing centroids\nInit: initializing clusters\nStarting iterations...\nRun 3, iteration: 1/100, moves: 26, cost: 6903.0\nInit: initializing centroids\nInit: initializing clusters\nStarting iterations...\nRun 4, iteration: 1/100, moves: 51, cost: 6853.0\nRun 4, iteration: 2/100, moves: 17, cost: 6853.0\nInit: initializing centroids\nInit: initializing clusters\nStarting iterations...\nRun 5, iteration: 1/100, moves: 26, cost: 6850.0\nBest run was number 1\n</div>",
       "datasetInfos": [],
       "metadata": {},
       "removedWidgets": [],
       "type": "html"
      }
     },
     "output_type": "display_data"
    },
    {
     "data": {
      "image/png": "[encoded data removed]"
     },
     "metadata": {
      "application/vnd.databricks.v1+output": {
       "addedWidgets": {},
       "arguments": {},
       "data": "data:image/png;base64,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",
       "datasetInfos": [],
       "metadata": {
        "imageDimensions": {
         "height": 278,
         "width": 395
        }
       },
       "removedWidgets": [],
       "type": "image"
      },
      "image/png": {
       "height": 278,
       "width": 395
      }
     },
     "output_type": "display_data"
    }
   ],
   "source": [
    "cost = []\n",
    "K = range(1,12)\n",
    "for num_clusters in list(K):\n",
    "    kmode = KModes(n_clusters=num_clusters, init = \"random\", n_init = 5, verbose=1)\n",
    "    kmode.fit_predict(df1)\n",
    "    cost.append(kmode.cost_)\n",
    "    \n",
    "plt.plot(K, cost, 'bx-')\n",
    "plt.xlabel('No. of clusters')\n",
    "plt.ylabel('Cost')\n",
    "plt.title('Elbow Method For Optimal k')\n",
    "plt.show()"
   ]
  },
  {
   "cell_type": "markdown",
   "metadata": {
    "application/vnd.databricks.v1+cell": {
     "inputWidgets": {},
     "nuid": "b5e3a548-57cc-45b4-b643-f51741c6dd37",
     "showTitle": false,
     "title": ""
    }
   },
   "source": [
    "Suitable K value is 9 ,according to the gaph"
   ]
  },
  {
   "cell_type": "code",
   "execution_count": 0,
   "metadata": {
    "application/vnd.databricks.v1+cell": {
     "inputWidgets": {},
     "nuid": "998945bf-f64f-4235-a9f5-30eaf5955245",
     "showTitle": false,
     "title": ""
    }
   },
   "outputs": [
    {
     "data": {
      "text/html": [
       "<style scoped>\n",
       "  .ansiout {\n",
       "    display: block;\n",
       "    unicode-bidi: embed;\n",
       "    white-space: pre-wrap;\n",
       "    word-wrap: break-word;\n",
       "    word-break: break-all;\n",
       "    font-family: \"Source Code Pro\", \"Menlo\", monospace;;\n",
       "    font-size: 13px;\n",
       "    color: #555;\n",
       "    margin-left: 4px;\n",
       "    line-height: 19px;\n",
       "  }\n",
       "</style>\n",
       "<div class=\"ansiout\">Init: initializing centroids\n",
       "Init: initializing clusters\n",
       "Starting iterations...\n",
       "Run 1, iteration: 1/100, moves: 175, cost: 6953.0\n",
       "Run 1, iteration: 2/100, moves: 18, cost: 6952.0\n",
       "Run 1, iteration: 3/100, moves: 0, cost: 6952.0\n",
       "Init: initializing centroids\n",
       "Init: initializing clusters\n",
       "Starting iterations...\n",
       "Run 2, iteration: 1/100, moves: 55, cost: 6980.0\n",
       "Run 2, iteration: 2/100, moves: 0, cost: 6980.0\n",
       "Init: initializing centroids\n",
       "Init: initializing clusters\n",
       "Starting iterations...\n",
       "Run 3, iteration: 1/100, moves: 10, cost: 7104.0\n",
       "Init: initializing centroids\n",
       "Init: initializing clusters\n",
       "Starting iterations...\n",
       "Run 4, iteration: 1/100, moves: 52, cost: 7022.0\n",
       "Run 4, iteration: 2/100, moves: 1, cost: 7022.0\n",
       "Init: initializing centroids\n",
       "Init: initializing clusters\n",
       "Starting iterations...\n",
       "Run 5, iteration: 1/100, moves: 191, cost: 6920.0\n",
       "Run 5, iteration: 2/100, moves: 22, cost: 6920.0\n",
       "Init: initializing centroids\n",
       "Init: initializing clusters\n",
       "Starting iterations...\n",
       "Run 6, iteration: 1/100, moves: 22, cost: 7005.0\n",
       "Init: initializing centroids\n",
       "Init: initializing clusters\n",
       "Starting iterations...\n",
       "Run 7, iteration: 1/100, moves: 230, cost: 6983.0\n",
       "Run 7, iteration: 2/100, moves: 43, cost: 6983.0\n",
       "Init: initializing centroids\n",
       "Init: initializing clusters\n",
       "Starting iterations...\n",
       "Run 8, iteration: 1/100, moves: 7, cost: 7045.0\n",
       "Init: initializing centroids\n",
       "Init: initializing clusters\n",
       "Starting iterations...\n",
       "Run 9, iteration: 1/100, moves: 51, cost: 7047.0\n",
       "Run 9, iteration: 2/100, moves: 1, cost: 7047.0\n",
       "Best run was number 5\n",
       "Out[71]: array([5, 1, 7, ..., 0, 2, 3], dtype=uint16)</div>"
      ]
     },
     "metadata": {
      "application/vnd.databricks.v1+output": {
       "addedWidgets": {},
       "arguments": {},
       "data": "<div class=\"ansiout\">Init: initializing centroids\nInit: initializing clusters\nStarting iterations...\nRun 1, iteration: 1/100, moves: 175, cost: 6953.0\nRun 1, iteration: 2/100, moves: 18, cost: 6952.0\nRun 1, iteration: 3/100, moves: 0, cost: 6952.0\nInit: initializing centroids\nInit: initializing clusters\nStarting iterations...\nRun 2, iteration: 1/100, moves: 55, cost: 6980.0\nRun 2, iteration: 2/100, moves: 0, cost: 6980.0\nInit: initializing centroids\nInit: initializing clusters\nStarting iterations...\nRun 3, iteration: 1/100, moves: 10, cost: 7104.0\nInit: initializing centroids\nInit: initializing clusters\nStarting iterations...\nRun 4, iteration: 1/100, moves: 52, cost: 7022.0\nRun 4, iteration: 2/100, moves: 1, cost: 7022.0\nInit: initializing centroids\nInit: initializing clusters\nStarting iterations...\nRun 5, iteration: 1/100, moves: 191, cost: 6920.0\nRun 5, iteration: 2/100, moves: 22, cost: 6920.0\nInit: initializing centroids\nInit: initializing clusters\nStarting iterations...\nRun 6, iteration: 1/100, moves: 22, cost: 7005.0\nInit: initializing centroids\nInit: initializing clusters\nStarting iterations...\nRun 7, iteration: 1/100, moves: 230, cost: 6983.0\nRun 7, iteration: 2/100, moves: 43, cost: 6983.0\nInit: initializing centroids\nInit: initializing clusters\nStarting iterations...\nRun 8, iteration: 1/100, moves: 7, cost: 7045.0\nInit: initializing centroids\nInit: initializing clusters\nStarting iterations...\nRun 9, iteration: 1/100, moves: 51, cost: 7047.0\nRun 9, iteration: 2/100, moves: 1, cost: 7047.0\nBest run was number 5\nOut[71]: array([5, 1, 7, ..., 0, 2, 3], dtype=uint16)</div>",
       "datasetInfos": [],
       "metadata": {},
       "removedWidgets": [],
       "type": "html"
      }
     },
     "output_type": "display_data"
    }
   ],
   "source": [
    "# Building the model with 9 clusters\n",
    "\n",
    "kmode = KModes(n_clusters=9, init = \"random\", n_init = 9, verbose=1)\n",
    "clusters = kmode.fit_predict(df1)\n",
    "clusters"
   ]
  },
  {
   "cell_type": "markdown",
   "metadata": {
    "application/vnd.databricks.v1+cell": {
     "inputWidgets": {},
     "nuid": "30e93e34-97ab-44d7-af4b-cbc897004212",
     "showTitle": false,
     "title": ""
    }
   },
   "source": [
    "Output table of categorized data"
   ]
  },
  {
   "cell_type": "code",
   "execution_count": 0,
   "metadata": {
    "application/vnd.databricks.v1+cell": {
     "inputWidgets": {},
     "nuid": "7871e211-fa30-4ec5-82a9-fc574ad3377a",
     "showTitle": false,
     "title": ""
    }
   },
   "outputs": [
    {
     "data": {
      "text/html": [
       "<style scoped>\n",
       "  .ansiout {\n",
       "    display: block;\n",
       "    unicode-bidi: embed;\n",
       "    white-space: pre-wrap;\n",
       "    word-wrap: break-word;\n",
       "    word-break: break-all;\n",
       "    font-family: \"Source Code Pro\", \"Menlo\", monospace;;\n",
       "    font-size: 13px;\n",
       "    color: #555;\n",
       "    margin-left: 4px;\n",
       "    line-height: 19px;\n",
       "  }\n",
       "</style>\n",
       "<div class=\"ansiout\">Out[72]: </div>"
      ]
     },
     "metadata": {
      "application/vnd.databricks.v1+output": {
       "addedWidgets": {},
       "arguments": {},
       "data": "<div class=\"ansiout\">Out[72]: </div>",
       "datasetInfos": [],
       "metadata": {},
       "removedWidgets": [],
       "type": "html"
      }
     },
     "output_type": "display_data"
    },
    {
     "data": {
      "text/html": [
       "<div>\n",
       "<style scoped>\n",
       "    .dataframe tbody tr th:only-of-type {\n",
       "        vertical-align: middle;\n",
       "    }\n",
       "\n",
       "    .dataframe tbody tr th {\n",
       "        vertical-align: top;\n",
       "    }\n",
       "\n",
       "    .dataframe thead th {\n",
       "        text-align: right;\n",
       "    }\n",
       "</style>\n",
       "<table border=\"1\" class=\"dataframe\">\n",
       "  <thead>\n",
       "    <tr style=\"text-align: right;\">\n",
       "      <th></th>\n",
       "      <th>Cluster</th>\n",
       "      <th>user_id</th>\n",
       "      <th>gender</th>\n",
       "      <th>emplyment_title</th>\n",
       "      <th>employment_key_skill</th>\n",
       "      <th>StateName</th>\n",
       "      <th>subscription_plan</th>\n",
       "      <th>subscription_status</th>\n",
       "      <th>subscription_payment_method</th>\n",
       "      <th>subscription_term</th>\n",
       "    </tr>\n",
       "    <tr>\n",
       "      <th>id</th>\n",
       "      <th></th>\n",
       "      <th></th>\n",
       "      <th></th>\n",
       "      <th></th>\n",
       "      <th></th>\n",
       "      <th></th>\n",
       "      <th></th>\n",
       "      <th></th>\n",
       "      <th></th>\n",
       "      <th></th>\n",
       "    </tr>\n",
       "  </thead>\n",
       "  <tbody>\n",
       "    <tr>\n",
       "      <th>1</th>\n",
       "      <td>5</td>\n",
       "      <td>8950</td>\n",
       "      <td>Non-binary</td>\n",
       "      <td>Regional Executive</td>\n",
       "      <td>Teamwork</td>\n",
       "      <td>Florida</td>\n",
       "      <td>Premium</td>\n",
       "      <td>Blocked</td>\n",
       "      <td>WeChat Pay</td>\n",
       "      <td>Full subscription</td>\n",
       "    </tr>\n",
       "    <tr>\n",
       "      <th>2</th>\n",
       "      <td>1</td>\n",
       "      <td>5940</td>\n",
       "      <td>Female</td>\n",
       "      <td>Technology Officer</td>\n",
       "      <td>Networking skills</td>\n",
       "      <td>North Dakota</td>\n",
       "      <td>Gold</td>\n",
       "      <td>Blocked</td>\n",
       "      <td>Money transfer</td>\n",
       "      <td>Monthly</td>\n",
       "    </tr>\n",
       "    <tr>\n",
       "      <th>3</th>\n",
       "      <td>7</td>\n",
       "      <td>4375</td>\n",
       "      <td>Polygender</td>\n",
       "      <td>Community-Services Developer</td>\n",
       "      <td>Work under pressure</td>\n",
       "      <td>Tennessee</td>\n",
       "      <td>Starter</td>\n",
       "      <td>Pending</td>\n",
       "      <td>Credit card</td>\n",
       "      <td>Full subscription</td>\n",
       "    </tr>\n",
       "    <tr>\n",
       "      <th>4</th>\n",
       "      <td>4</td>\n",
       "      <td>6442</td>\n",
       "      <td>Genderfluid</td>\n",
       "      <td>Forward Coordinator</td>\n",
       "      <td>Networking skills</td>\n",
       "      <td>California</td>\n",
       "      <td>Free Trial</td>\n",
       "      <td>Pending</td>\n",
       "      <td>Bitcoins</td>\n",
       "      <td>Annual</td>\n",
       "    </tr>\n",
       "    <tr>\n",
       "      <th>5</th>\n",
       "      <td>5</td>\n",
       "      <td>9694</td>\n",
       "      <td>Bigender</td>\n",
       "      <td>Principal Specialist</td>\n",
       "      <td>Organisation</td>\n",
       "      <td>New Jersey</td>\n",
       "      <td>Bronze</td>\n",
       "      <td>Pending</td>\n",
       "      <td>Paypal</td>\n",
       "      <td>Annual</td>\n",
       "    </tr>\n",
       "    <tr>\n",
       "      <th>...</th>\n",
       "      <td>...</td>\n",
       "      <td>...</td>\n",
       "      <td>...</td>\n",
       "      <td>...</td>\n",
       "      <td>...</td>\n",
       "      <td>...</td>\n",
       "      <td>...</td>\n",
       "      <td>...</td>\n",
       "      <td>...</td>\n",
       "      <td>...</td>\n",
       "    </tr>\n",
       "    <tr>\n",
       "      <th>1050</th>\n",
       "      <td>2</td>\n",
       "      <td>5514</td>\n",
       "      <td>Non-binary</td>\n",
       "      <td>Customer Education Associate</td>\n",
       "      <td>Self-motivated</td>\n",
       "      <td>New Hampshire</td>\n",
       "      <td>Gold</td>\n",
       "      <td>Active</td>\n",
       "      <td>Debit card</td>\n",
       "      <td>Annual</td>\n",
       "    </tr>\n",
       "    <tr>\n",
       "      <th>1051</th>\n",
       "      <td>3</td>\n",
       "      <td>8262</td>\n",
       "      <td>Genderfluid</td>\n",
       "      <td>Manufacturing Liaison</td>\n",
       "      <td>Communication</td>\n",
       "      <td>Washington</td>\n",
       "      <td>Gold</td>\n",
       "      <td>Idle</td>\n",
       "      <td>Cheque</td>\n",
       "      <td>Payment in advance</td>\n",
       "    </tr>\n",
       "    <tr>\n",
       "      <th>1052</th>\n",
       "      <td>0</td>\n",
       "      <td>6796</td>\n",
       "      <td>Polygender</td>\n",
       "      <td>Future Education Engineer</td>\n",
       "      <td>Technical savvy</td>\n",
       "      <td>Kansas</td>\n",
       "      <td>Professional</td>\n",
       "      <td>Active</td>\n",
       "      <td>Apple Pay</td>\n",
       "      <td>Monthly</td>\n",
       "    </tr>\n",
       "    <tr>\n",
       "      <th>1053</th>\n",
       "      <td>2</td>\n",
       "      <td>9365</td>\n",
       "      <td>Agender</td>\n",
       "      <td>National Accounting Producer</td>\n",
       "      <td>Work under pressure</td>\n",
       "      <td>New Hampshire</td>\n",
       "      <td>Business</td>\n",
       "      <td>Idle</td>\n",
       "      <td>Bitcoins</td>\n",
       "      <td>Annual</td>\n",
       "    </tr>\n",
       "    <tr>\n",
       "      <th>1054</th>\n",
       "      <td>3</td>\n",
       "      <td>9770</td>\n",
       "      <td>Male</td>\n",
       "      <td>Construction Engineer</td>\n",
       "      <td>Teamwork</td>\n",
       "      <td>Alaska</td>\n",
       "      <td>Essential</td>\n",
       "      <td>Pending</td>\n",
       "      <td>Cash</td>\n",
       "      <td>Payment in advance</td>\n",
       "    </tr>\n",
       "  </tbody>\n",
       "</table>\n",
       "<p>1054 rows × 10 columns</p>\n",
       "</div>"
      ]
     },
     "metadata": {
      "application/vnd.databricks.v1+output": {
       "addedWidgets": {},
       "arguments": {},
       "data": "<div>\n<style scoped>\n    .dataframe tbody tr th:only-of-type {\n        vertical-align: middle;\n    }\n\n    .dataframe tbody tr th {\n        vertical-align: top;\n    }\n\n    .dataframe thead th {\n        text-align: right;\n    }\n</style>\n<table border=\"1\" class=\"dataframe\">\n  <thead>\n    <tr style=\"text-align: right;\">\n      <th></th>\n      <th>Cluster</th>\n      <th>user_id</th>\n      <th>gender</th>\n      <th>emplyment_title</th>\n      <th>employment_key_skill</th>\n      <th>StateName</th>\n      <th>subscription_plan</th>\n      <th>subscription_status</th>\n      <th>subscription_payment_method</th>\n      <th>subscription_term</th>\n    </tr>\n    <tr>\n      <th>id</th>\n      <th></th>\n      <th></th>\n      <th></th>\n      <th></th>\n      <th></th>\n      <th></th>\n      <th></th>\n      <th></th>\n      <th></th>\n      <th></th>\n    </tr>\n  </thead>\n  <tbody>\n    <tr>\n      <th>1</th>\n      <td>5</td>\n      <td>8950</td>\n      <td>Non-binary</td>\n      <td>Regional Executive</td>\n      <td>Teamwork</td>\n      <td>Florida</td>\n      <td>Premium</td>\n      <td>Blocked</td>\n      <td>WeChat Pay</td>\n      <td>Full subscription</td>\n    </tr>\n    <tr>\n      <th>2</th>\n      <td>1</td>\n      <td>5940</td>\n      <td>Female</td>\n      <td>Technology Officer</td>\n      <td>Networking skills</td>\n      <td>North Dakota</td>\n      <td>Gold</td>\n      <td>Blocked</td>\n      <td>Money transfer</td>\n      <td>Monthly</td>\n    </tr>\n    <tr>\n      <th>3</th>\n      <td>7</td>\n      <td>4375</td>\n      <td>Polygender</td>\n      <td>Community-Services Developer</td>\n      <td>Work under pressure</td>\n      <td>Tennessee</td>\n      <td>Starter</td>\n      <td>Pending</td>\n      <td>Credit card</td>\n      <td>Full subscription</td>\n    </tr>\n    <tr>\n      <th>4</th>\n      <td>4</td>\n      <td>6442</td>\n      <td>Genderfluid</td>\n      <td>Forward Coordinator</td>\n      <td>Networking skills</td>\n      <td>California</td>\n      <td>Free Trial</td>\n      <td>Pending</td>\n      <td>Bitcoins</td>\n      <td>Annual</td>\n    </tr>\n    <tr>\n      <th>5</th>\n      <td>5</td>\n      <td>9694</td>\n      <td>Bigender</td>\n      <td>Principal Specialist</td>\n      <td>Organisation</td>\n      <td>New Jersey</td>\n      <td>Bronze</td>\n      <td>Pending</td>\n      <td>Paypal</td>\n      <td>Annual</td>\n    </tr>\n    <tr>\n      <th>...</th>\n      <td>...</td>\n      <td>...</td>\n      <td>...</td>\n      <td>...</td>\n      <td>...</td>\n      <td>...</td>\n      <td>...</td>\n      <td>...</td>\n      <td>...</td>\n      <td>...</td>\n    </tr>\n    <tr>\n      <th>1050</th>\n      <td>2</td>\n      <td>5514</td>\n      <td>Non-binary</td>\n      <td>Customer Education Associate</td>\n      <td>Self-motivated</td>\n      <td>New Hampshire</td>\n      <td>Gold</td>\n      <td>Active</td>\n      <td>Debit card</td>\n      <td>Annual</td>\n    </tr>\n    <tr>\n      <th>1051</th>\n      <td>3</td>\n      <td>8262</td>\n      <td>Genderfluid</td>\n      <td>Manufacturing Liaison</td>\n      <td>Communication</td>\n      <td>Washington</td>\n      <td>Gold</td>\n      <td>Idle</td>\n      <td>Cheque</td>\n      <td>Payment in advance</td>\n    </tr>\n    <tr>\n      <th>1052</th>\n      <td>0</td>\n      <td>6796</td>\n      <td>Polygender</td>\n      <td>Future Education Engineer</td>\n      <td>Technical savvy</td>\n      <td>Kansas</td>\n      <td>Professional</td>\n      <td>Active</td>\n      <td>Apple Pay</td>\n      <td>Monthly</td>\n    </tr>\n    <tr>\n      <th>1053</th>\n      <td>2</td>\n      <td>9365</td>\n      <td>Agender</td>\n      <td>National Accounting Producer</td>\n      <td>Work under pressure</td>\n      <td>New Hampshire</td>\n      <td>Business</td>\n      <td>Idle</td>\n      <td>Bitcoins</td>\n      <td>Annual</td>\n    </tr>\n    <tr>\n      <th>1054</th>\n      <td>3</td>\n      <td>9770</td>\n      <td>Male</td>\n      <td>Construction Engineer</td>\n      <td>Teamwork</td>\n      <td>Alaska</td>\n      <td>Essential</td>\n      <td>Pending</td>\n      <td>Cash</td>\n      <td>Payment in advance</td>\n    </tr>\n  </tbody>\n</table>\n<p>1054 rows × 10 columns</p>\n</div>",
       "datasetInfos": [],
       "metadata": {},
       "removedWidgets": [],
       "textData": null,
       "type": "htmlSandbox"
      }
     },
     "output_type": "display_data"
    }
   ],
   "source": [
    "# Apply cluster number to the df1 Table\n",
    "\n",
    "df1.insert(0, \"Cluster\", clusters, True)\n",
    "df1"
   ]
  },
  {
   "cell_type": "markdown",
   "metadata": {
    "application/vnd.databricks.v1+cell": {
     "inputWidgets": {},
     "nuid": "6210a274-afac-46f4-b8cc-8f6fcde3b182",
     "showTitle": false,
     "title": ""
    }
   },
   "source": [
    "Histogram of user clusters"
   ]
  },
  {
   "cell_type": "code",
   "execution_count": 0,
   "metadata": {
    "application/vnd.databricks.v1+cell": {
     "inputWidgets": {},
     "nuid": "6479867d-2a55-4676-a4c7-4f646858782d",
     "showTitle": false,
     "title": ""
    }
   },
   "outputs": [
    {
     "data": {
      "text/html": [
       "<style scoped>\n",
       "  .ansiout {\n",
       "    display: block;\n",
       "    unicode-bidi: embed;\n",
       "    white-space: pre-wrap;\n",
       "    word-wrap: break-word;\n",
       "    word-break: break-all;\n",
       "    font-family: \"Source Code Pro\", \"Menlo\", monospace;;\n",
       "    font-size: 13px;\n",
       "    color: #555;\n",
       "    margin-left: 4px;\n",
       "    line-height: 19px;\n",
       "  }\n",
       "</style>\n",
       "<div class=\"ansiout\">Out[73]: </div>"
      ]
     },
     "metadata": {
      "application/vnd.databricks.v1+output": {
       "addedWidgets": {},
       "arguments": {},
       "data": "<div class=\"ansiout\">Out[73]: </div>",
       "datasetInfos": [],
       "metadata": {},
       "removedWidgets": [],
       "type": "html"
      }
     },
     "output_type": "display_data"
    },
    {
     "data": {
      "image/png": "[encoded data removed]"
     },
     "metadata": {
      "application/vnd.databricks.v1+output": {
       "addedWidgets": {},
       "arguments": {},
       "data": "data:image/png;base64,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",
       "datasetInfos": [],
       "metadata": {
        "imageDimensions": {
         "height": 333,
         "width": 1058
        }
       },
       "removedWidgets": [],
       "type": "image"
      },
      "image/png": {
       "height": 333,
       "width": 1058
      }
     },
     "output_type": "display_data"
    },
    {
     "data": {
      "text/html": [
       "<style scoped>\n",
       "  .ansiout {\n",
       "    display: block;\n",
       "    unicode-bidi: embed;\n",
       "    white-space: pre-wrap;\n",
       "    word-wrap: break-word;\n",
       "    word-break: break-all;\n",
       "    font-family: \"Source Code Pro\", \"Menlo\", monospace;;\n",
       "    font-size: 13px;\n",
       "    color: #555;\n",
       "    margin-left: 4px;\n",
       "    line-height: 19px;\n",
       "  }\n",
       "</style>\n",
       "<div class=\"ansiout\">Text(0, 0.5, &#39;Total no of Users&#39;)</div>"
      ]
     },
     "metadata": {
      "application/vnd.databricks.v1+output": {
       "addedWidgets": {},
       "arguments": {},
       "data": "<div class=\"ansiout\">Text(0, 0.5, &#39;Total no of Users&#39;)</div>",
       "datasetInfos": [],
       "metadata": {},
       "removedWidgets": [],
       "type": "html"
      }
     },
     "output_type": "display_data"
    }
   ],
   "source": [
    "#Plot the Histogram to identify the user distribution of each cluster\n",
    "plt.figure(figsize=(18,5))\n",
    "sns.countplot(x='Cluster',data=df1,palette='Set1')\n",
    "plt.title(\"Clustering Users \")\n",
    "plt.ylabel('Total no of Users')"
   ]
  }
 ],
 "metadata": {
  "application/vnd.databricks.v1+notebook": {
   "dashboards": [],
   "language": "python",
   "notebookMetadata": {
    "pythonIndentUnit": 4
   },
   "notebookName": "User-Analysis-Python-Project",
   "notebookOrigID": 2306887239449862,
   "widgets": {}
  },
  "kernelspec": {
   "display_name": "Python 3",
   "language": "python",
   "name": "python3"
  },
  "language_info": {
   "codemirror_mode": {
    "name": "ipython",
    "version": 3
   },
   "file_extension": ".py",
   "mimetype": "text/x-python",
   "name": "python",
   "nbconvert_exporter": "python",
   "pygments_lexer": "ipython3",
   "version": "3.8.8"
  }
 },
 "nbformat": 4,
 "nbformat_minor": 1
}

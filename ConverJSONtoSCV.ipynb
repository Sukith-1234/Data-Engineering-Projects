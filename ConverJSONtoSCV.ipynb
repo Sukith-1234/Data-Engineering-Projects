{
  "nbformat": 4,
  "nbformat_minor": 0,
  "metadata": {
    "colab": {
      "name": "Untitled0.ipynb",
      "provenance": [],
      "authorship_tag": "ABX9TyNsZ38WBOlyHTZIV5vRjMJT",
      "include_colab_link": true
    },
    "kernelspec": {
      "name": "python3",
      "display_name": "Python 3"
    },
    "language_info": {
      "name": "python"
    }
  },
  "cells": [
    {
      "cell_type": "markdown",
      "metadata": {
        "id": "view-in-github",
        "colab_type": "text"
      },
      "source": [
        "<a href=\"https://colab.research.google.com/github/Sukith-1234/DataEngenieering/blob/main/ConverJSONtoSCV.ipynb\" target=\"_parent\"><img src=\"https://colab.research.google.com/assets/colab-badge.svg\" alt=\"Open In Colab\"/></a>"
      ]
    },
    {
      "cell_type": "code",
      "execution_count": 17,
      "metadata": {
        "id": "1R3FHDCner_F"
      },
      "outputs": [],
      "source": [
        "import pandas as pd"
      ]
    },
    {
      "cell_type": "code",
      "source": [
        "df=pd.read_json(\"user-14.json\")"
      ],
      "metadata": {
        "id": "ULNUW57qgIrZ"
      },
      "execution_count": 84,
      "outputs": []
    },
    {
      "cell_type": "code",
      "source": [
        "df"
      ],
      "metadata": {
        "id": "KOanCA65gb3u"
      },
      "execution_count": null,
      "outputs": []
    },
    {
      "cell_type": "code",
      "source": [
        "def addcolumns1(r):  \n",
        "   employmentcolumn=r[\"employment\"]\n",
        "   addresscolumn=r[\"address\"]\n",
        "   creditcardcolumn=r[\"credit_card\"]\n",
        "   subscriptioncolumn=r[\"subscription\"]\n",
        "   \n",
        "   r[\"employment_title\"]=employmentcolumn[\"title\"]\n",
        "   r[\"employment_keyskill\"]=employmentcolumn[\"key_skill\"]\n",
        "   r[\"address_city\"]=addresscolumn[\"city\"]\n",
        "   r[\"address_street_name\"]=addresscolumn[\"street_name\"]\n",
        "   r[\"address_street_address\"]=addresscolumn[\"street_address\"]\n",
        "   r[\"address_zip_code\"]=addresscolumn[\"zip_code\"]\n",
        "   r[\"address_state\"]=addresscolumn[\"state\"]\n",
        "   r[\"address_country\"]=addresscolumn[\"country\"]\n",
        "   r[\"credit_card_cc_number\"]=creditcardcolumn[\"cc_number\"]\n",
        "   r[\"subscription_plan\"]=subscriptioncolumn[\"plan\"]\n",
        "   r[\"subscription_status\"]=subscriptioncolumn[\"status\"]\n",
        "   r[\"subscription_payment_method\"]=subscriptioncolumn[\"payment_method\"]\n",
        "   r[\"subscription_term\"]=subscriptioncolumn[\"term\"]\n",
        "   return r"
      ],
      "metadata": {
        "id": "-HUP2ERRpgW9"
      },
      "execution_count": 86,
      "outputs": []
    },
    {
      "cell_type": "code",
      "source": [
        "df2=df.apply(addcolumns1,axis=1)"
      ],
      "metadata": {
        "id": "LUU3zd7NsLOa"
      },
      "execution_count": 87,
      "outputs": []
    },
    {
      "cell_type": "code",
      "source": [
        "df3=df2.drop(labels=['credit_card','subscription','credit_card','address','employment'],axis=1)\n",
        "df3"
      ],
      "metadata": {
        "id": "eWmj0cAVqib8"
      },
      "execution_count": null,
      "outputs": []
    },
    {
      "cell_type": "code",
      "source": [
        "df3.to_csv(\"user-14.csv\")"
      ],
      "metadata": {
        "id": "062nQ3_HqBaC"
      },
      "execution_count": 89,
      "outputs": []
    }
  ]
}
{
  "nbformat": 4,
  "nbformat_minor": 0,
  "metadata": {
    "colab": {
      "name": "Untitled0.ipynb",
      "provenance": [],
      "authorship_tag": "ABX9TyOhO3awDSyK0DtkgS1F++RY",
      "include_colab_link": true
    },
    "kernelspec": {
      "name": "python3",
      "display_name": "Python 3"
    },
    "language_info": {
      "name": "python"
    }
  },
  "cells": [
    {
      "cell_type": "markdown",
      "metadata": {
        "id": "view-in-github",
        "colab_type": "text"
      },
      "source": [
        "<a href=\"https://colab.research.google.com/github/Sukith-1234/DataEngenieering/blob/main/ConverJSONtoSCV.ipynb\" target=\"_parent\"><img src=\"https://colab.research.google.com/assets/colab-badge.svg\" alt=\"Open In Colab\"/></a>"
      ]
    },
    {
      "cell_type": "markdown",
      "source": [
        "Import required libarries"
      ],
      "metadata": {
        "id": "CQ_DnL4sp5yL"
      }
    },
    {
      "cell_type": "code",
      "execution_count": 2,
      "metadata": {
        "id": "1R3FHDCner_F"
      },
      "outputs": [],
      "source": [
        "import pandas as pd"
      ]
    },
    {
      "cell_type": "markdown",
      "source": [
        " load all the json files to python and convert these files as a dataframes and combine "
      ],
      "metadata": {
        "id": "q3b48c1bn1ao"
      }
    },
    {
      "cell_type": "code",
      "source": [
        "df1=pd.read_json(\"user-01.json\")\n",
        "df2=pd.read_json(\"user-02.json\")\n",
        "df3=pd.read_json(\"user-03.json\")\n",
        "df4=pd.read_json(\"user-04.json\")\n",
        "df5=pd.read_json(\"user-05.json\")\n",
        "df6=pd.read_json(\"user-06.json\")\n",
        "df7=pd.read_json(\"user-07.json\")\n",
        "df8=pd.read_json(\"user-08.json\")\n",
        "df9=pd.read_json(\"user-09.json\")\n",
        "df10=pd.read_json(\"user-10.json\")\n",
        "df11=pd.read_json(\"user-11.json\")\n",
        "df12=pd.read_json(\"user-12.json\")\n",
        "df13=pd.read_json(\"user-13.json\")\n",
        "df14=pd.read_json(\"user-14.json\")"
      ],
      "metadata": {
        "id": "ULNUW57qgIrZ"
      },
      "execution_count": 3,
      "outputs": []
    },
    {
      "cell_type": "markdown",
      "source": [
        "combine all the json files"
      ],
      "metadata": {
        "id": "k60cmexIpr3w"
      }
    },
    {
      "cell_type": "code",
      "source": [
        "frames = [df1, df2,df3,df4,df5,df6,df7,df8,df9,df10,df11,df12,df13,df14]\n",
        "  \n",
        "result = pd.concat(frames)\n",
        "display(result)"
      ],
      "metadata": {
        "id": "KOanCA65gb3u"
      },
      "execution_count": null,
      "outputs": []
    },
    {
      "cell_type": "markdown",
      "source": [
        "define and split json object to each disticnt column"
      ],
      "metadata": {
        "id": "90l7lOxwsTjK"
      }
    },
    {
      "cell_type": "code",
      "source": [
        "def addcolumns1(r):  \n",
        "   employmentcolumn=r[\"employment\"]\n",
        "   addresscolumn=r[\"address\"]\n",
        "   creditcardcolumn=r[\"credit_card\"]\n",
        "   subscriptioncolumn=r[\"subscription\"]\n",
        "   \n",
        "   r[\"employment_title\"]=employmentcolumn[\"title\"]\n",
        "   r[\"employment_keyskill\"]=employmentcolumn[\"key_skill\"]\n",
        "   r[\"address_city\"]=addresscolumn[\"city\"]\n",
        "   r[\"address_street_name\"]=addresscolumn[\"street_name\"]\n",
        "   r[\"address_street_address\"]=addresscolumn[\"street_address\"]\n",
        "   r[\"address_zip_code\"]=addresscolumn[\"zip_code\"]\n",
        "   r[\"address_state\"]=addresscolumn[\"state\"]\n",
        "   r[\"address_country\"]=addresscolumn[\"country\"]\n",
        "   r[\"credit_card_cc_number\"]=creditcardcolumn[\"cc_number\"]\n",
        "   r[\"subscription_plan\"]=subscriptioncolumn[\"plan\"]\n",
        "   r[\"subscription_status\"]=subscriptioncolumn[\"status\"]\n",
        "   r[\"subscription_payment_method\"]=subscriptioncolumn[\"payment_method\"]\n",
        "   r[\"subscription_term\"]=subscriptioncolumn[\"term\"]\n",
        "   return r"
      ],
      "metadata": {
        "id": "-HUP2ERRpgW9"
      },
      "execution_count": 5,
      "outputs": []
    },
    {
      "cell_type": "code",
      "source": [
        "df=result.apply(addcolumns1,axis=1)"
      ],
      "metadata": {
        "id": "LUU3zd7NsLOa"
      },
      "execution_count": 7,
      "outputs": []
    },
    {
      "cell_type": "markdown",
      "source": [
        "drop duplicates columns"
      ],
      "metadata": {
        "id": "u3mNkIzzqGDx"
      }
    },
    {
      "cell_type": "code",
      "source": [
        "df_all=df.drop(labels=['credit_card','subscription','credit_card','address','employment'],axis=1)\n",
        "df_all"
      ],
      "metadata": {
        "id": "eWmj0cAVqib8"
      },
      "execution_count": null,
      "outputs": []
    },
    {
      "cell_type": "markdown",
      "source": [
        "remove duplicate rows"
      ],
      "metadata": {
        "id": "sOgJTv2vqL8v"
      }
    },
    {
      "cell_type": "code",
      "source": [
        "df_final=df_all.drop_duplicates()\n",
        "df_final"
      ],
      "metadata": {
        "id": "_KrZGh3QpBoG"
      },
      "execution_count": null,
      "outputs": []
    },
    {
      "cell_type": "markdown",
      "source": [
        "save into final CSV file"
      ],
      "metadata": {
        "id": "mINjC56DqOBi"
      }
    },
    {
      "cell_type": "code",
      "source": [
        "df_final.to_csv(\"user-final.csv\")"
      ],
      "metadata": {
        "id": "062nQ3_HqBaC"
      },
      "execution_count": 13,
      "outputs": []
    }
  ]
}